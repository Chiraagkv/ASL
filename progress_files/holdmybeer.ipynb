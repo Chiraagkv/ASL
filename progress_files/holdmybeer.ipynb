{
  "nbformat": 4,
  "nbformat_minor": 0,
  "metadata": {
    "colab": {
      "name": "Untitled32.ipynb",
      "provenance": [],
      "authorship_tag": "ABX9TyMkYJGjyoD1R5XZbRLA5B8r",
      "include_colab_link": true
    },
    "kernelspec": {
      "name": "python3",
      "display_name": "Python 3"
    },
    "language_info": {
      "name": "python"
    },
    "accelerator": "GPU"
  },
  "cells": [
    {
      "cell_type": "markdown",
      "metadata": {
        "id": "view-in-github",
        "colab_type": "text"
      },
      "source": [
        "<a href=\"https://colab.research.google.com/github/Chiraagkv/ASL/blob/main/holdmybeer.ipynb\" target=\"_parent\"><img src=\"https://colab.research.google.com/assets/colab-badge.svg\" alt=\"Open In Colab\"/></a>"
      ]
    },
    {
      "cell_type": "code",
      "metadata": {
        "id": "4F-F2kWc35U3"
      },
      "source": [
        "import tensorflow_hub as hub\n",
        "import numpy as np\n",
        "import pandas as pd\n",
        "import tensorflow as tf\n",
        "import os\n",
        "import random as rd\n",
        "from PIL import Image\n",
        "import PIL"
      ],
      "execution_count": 1,
      "outputs": []
    },
    {
      "cell_type": "code",
      "metadata": {
        "colab": {
          "base_uri": "https://localhost:8080/"
        },
        "id": "0cky4rmP4hiq",
        "outputId": "a13eb685-af9a-499a-ac6a-0daf7b858157"
      },
      "source": [
        "!mkdir /root/.kaggle/\n",
        "!touch /root/.kaggle/kaggle.json\n",
        "!echo '{\"username\":\"kingrohitkumar\",\"key\":\"734c20a118d1339e94b4192d5fe26313\"}' > /root/.kaggle/kaggle.json\n",
        "!chmod 600 /root/.kaggle/kaggle.json\n",
        "!kaggle datasets download -d grassknoted/asl-alphabet --unzip"
      ],
      "execution_count": 2,
      "outputs": [
        {
          "output_type": "stream",
          "text": [
            "Downloading asl-alphabet.zip to /content\n",
            " 99% 1.01G/1.03G [00:05<00:00, 172MB/s]\n",
            "100% 1.03G/1.03G [00:05<00:00, 205MB/s]\n"
          ],
          "name": "stdout"
        }
      ]
    },
    {
      "cell_type": "code",
      "metadata": {
        "colab": {
          "base_uri": "https://localhost:8080/"
        },
        "id": "LB-yBHKy4lWw",
        "outputId": "881a4c70-407a-406e-c2d0-11fdd0460353"
      },
      "source": [
        "base_model=hub.KerasLayer(handle='https://tfhub.dev/tensorflow/efficientnet/b7/feature-vector/1', trainable=False, weights=None)\n",
        "data=tf.keras.preprocessing.image.ImageDataGenerator(rescale=1/255,\n",
        "                                                     samplewise_std_normalization=True,\n",
        "                                                     height_shift_range=0.2,\n",
        "                                                     width_shift_range=0.2,              \n",
        "                                                     rotation_range=0.2,\n",
        "                                                     zca_epsilon=1e-6,\n",
        "                                                     shear_range=0.2,\n",
        "                                                     zoom_range=0.2,\n",
        "                                                     horizontal_flip=True,\n",
        "                                                     cval=0.0)\n",
        "data=data.flow_from_directory(directory='/content/sampled_image_path_main',\n",
        "                              target_size=(224, 224),\n",
        "                              class_mode='categorical',\n",
        "                              batch_size=19,\n",
        "                              shuffle=False,\n",
        "                              interpolation='bilinear')\n",
        "\n",
        "\n",
        "augmentation=tf.keras.Sequential([\n",
        "                                  tf.keras.layers.experimental.preprocessing.RandomCrop(2, 2),\n",
        "                                  tf.keras.layers.experimental.preprocessing.RandomContrast(0.2)\n",
        "])"
      ],
      "execution_count": 4,
      "outputs": [
        {
          "output_type": "stream",
          "text": [
            "/usr/local/lib/python3.7/dist-packages/keras_preprocessing/image/image_data_generator.py:356: UserWarning: This ImageDataGenerator specifies `samplewise_std_normalization`, which overrides setting of `samplewise_center`.\n",
            "  warnings.warn('This ImageDataGenerator specifies '\n"
          ],
          "name": "stderr"
        },
        {
          "output_type": "stream",
          "text": [
            "Found 8700 images belonging to 29 classes.\n"
          ],
          "name": "stdout"
        }
      ]
    },
    {
      "cell_type": "code",
      "metadata": {
        "id": "l70dGqw046r3"
      },
      "source": [
        "def randoms_images (image_path, duplicate_path):\n",
        "  for (roots, dirs, filenames) in os.walk(image_path):\n",
        "    for i in range (len(dirs)):\n",
        "      os.makedirs(duplicate_path+'/'+dirs[i])\n",
        "      cwd=image_path+'/'+dirs[i]\n",
        "      for (root, dir, files) in os.walk(cwd):\n",
        "        for m in range (300):\n",
        "          image_name=files[m]\n",
        "          img_path=Image.open(cwd+'/'+image_name)\n",
        "          du=image_name.split('.')\n",
        "          dup_path=duplicate_path+'/'+dirs[i]+'/'+f\"{du[0]}.jpeg\"\n",
        "          img_path.save(dup_path)\n",
        "          continue\n",
        "        continue\n",
        "      continue\n",
        "randoms_images ('/content/asl_alphabet_train/asl_alphabet_train', 'sampled_image_path_main')"
      ],
      "execution_count": 3,
      "outputs": []
    },
    {
      "cell_type": "code",
      "metadata": {
        "id": "jqYIGuzB5D1C"
      },
      "source": [
        "inputs=tf.keras.layers.Input(shape=(224, 224, 3))\n",
        "\n",
        "layer_1=augmentation(inputs)\n",
        "\n",
        "model=base_model(inputs, training=True)\n",
        "\n",
        "x2=tf.keras.layers.GlobalAveragePooling2D()(tf.expand_dims(tf.expand_dims(model, axis=0), axis=0))\n",
        "\n",
        "outputs=tf.keras.layers.Dense(len(os.listdir('asl_alphabet_train')), activation='softmax')(x2)\n",
        "\n",
        "model=tf.keras.Model(inputs, outputs)\n",
        "model.compile(loss=tf.keras.losses.categorical_crossentropy,\n",
        "              optimizer=tf.keras.optimizers.Adam(),\n",
        "              metrics='accuracy')\n",
        "model.fit(data, epochs=1)"
      ],
      "execution_count": null,
      "outputs": []
    },
    {
      "cell_type": "code",
      "metadata": {
        "id": "f3CkYSLq5iMP"
      },
      "source": [
        ""
      ],
      "execution_count": null,
      "outputs": []
    }
  ]
}