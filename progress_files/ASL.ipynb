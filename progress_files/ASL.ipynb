{
  "nbformat": 4,
  "nbformat_minor": 0,
  "metadata": {
    "colab": {
      "name": "ASL.ipynb",
      "provenance": [],
      "collapsed_sections": [],
      "mount_file_id": "1fqPl3kWEfYUsMnDhmuzlBy5yG4yPSntd",
      "authorship_tag": "ABX9TyOQwYrQKMx8H4t/QoQRXfLQ",
      "include_colab_link": true
    },
    "kernelspec": {
      "name": "python3",
      "display_name": "Python 3"
    },
    "language_info": {
      "name": "python"
    },
    "accelerator": "GPU"
  },
  "cells": [
    {
      "cell_type": "markdown",
      "metadata": {
        "id": "view-in-github",
        "colab_type": "text"
      },
      "source": [
        "<a href=\"https://colab.research.google.com/github/Chiraagkv/ASL/blob/main/ASL.ipynb\" target=\"_parent\"><img src=\"https://colab.research.google.com/assets/colab-badge.svg\" alt=\"Open In Colab\"/></a>"
      ]
    },
    {
      "cell_type": "markdown",
      "metadata": {
        "id": "b79rWmybZF9F"
      },
      "source": [
        "# ASL to Text"
      ]
    },
    {
      "cell_type": "code",
      "metadata": {
        "id": "1LZUVfm5KqeO"
      },
      "source": [
        "import tensorflow as tf\n",
        "import numpy as np\n",
        "import pandas as pd\n",
        "import matplotlib.pyplot as plt\n",
        "import seaborn as sns"
      ],
      "execution_count": 1,
      "outputs": []
    },
    {
      "cell_type": "code",
      "metadata": {
        "colab": {
          "base_uri": "https://localhost:8080/"
        },
        "id": "YtdtHUcebMHp",
        "outputId": "4aa39e17-b4e7-4f2c-a4ed-d42173249a98"
      },
      "source": [
        "!pip install kaggle\n",
        "!mkdir /root/.kaggle/\n",
        "!touch /root/.kaggle/kaggle.json\n",
        "!echo '{\"username\":\"tensorflowcolab\",\"key\":\"883e5dc4a7759495e6fb43d9d5138528\"}' > /root/.kaggle/kaggle.json\n",
        "!chmod 600 /root/.kaggle/kaggle.json\n",
        "!kaggle -h\n",
        "!kaggle datasets download -d grassknoted/asl-alphabet"
      ],
      "execution_count": 2,
      "outputs": [
        {
          "output_type": "stream",
          "text": [
            "Requirement already satisfied: kaggle in /usr/local/lib/python3.7/dist-packages (1.5.12)\n",
            "Requirement already satisfied: six>=1.10 in /usr/local/lib/python3.7/dist-packages (from kaggle) (1.15.0)\n",
            "Requirement already satisfied: python-slugify in /usr/local/lib/python3.7/dist-packages (from kaggle) (5.0.2)\n",
            "Requirement already satisfied: urllib3 in /usr/local/lib/python3.7/dist-packages (from kaggle) (1.24.3)\n",
            "Requirement already satisfied: python-dateutil in /usr/local/lib/python3.7/dist-packages (from kaggle) (2.8.1)\n",
            "Requirement already satisfied: certifi in /usr/local/lib/python3.7/dist-packages (from kaggle) (2021.5.30)\n",
            "Requirement already satisfied: tqdm in /usr/local/lib/python3.7/dist-packages (from kaggle) (4.41.1)\n",
            "Requirement already satisfied: requests in /usr/local/lib/python3.7/dist-packages (from kaggle) (2.23.0)\n",
            "Requirement already satisfied: text-unidecode>=1.3 in /usr/local/lib/python3.7/dist-packages (from python-slugify->kaggle) (1.3)\n",
            "Requirement already satisfied: idna<3,>=2.5 in /usr/local/lib/python3.7/dist-packages (from requests->kaggle) (2.10)\n",
            "Requirement already satisfied: chardet<4,>=3.0.2 in /usr/local/lib/python3.7/dist-packages (from requests->kaggle) (3.0.4)\n",
            "usage: kaggle [-h] [-v] {competitions,c,datasets,d,kernels,k,config} ...\n",
            "\n",
            "optional arguments:\n",
            "  -h, --help            show this help message and exit\n",
            "  -v, --version         show program's version number and exit\n",
            "\n",
            "commands:\n",
            "  {competitions,c,datasets,d,kernels,k,config}\n",
            "                        Use one of:\n",
            "                        competitions {list, files, download, submit, submissions, leaderboard}\n",
            "                        datasets {list, files, download, create, version, init, metadata, status}\n",
            "                        config {view, set, unset}\n",
            "    competitions        Commands related to Kaggle competitions\n",
            "    datasets            Commands related to Kaggle datasets\n",
            "    kernels             Commands related to Kaggle kernels\n",
            "    config              Configuration settings\n",
            "Downloading asl-alphabet.zip to /content\n",
            " 98% 1.01G/1.03G [00:06<00:00, 180MB/s]\n",
            "100% 1.03G/1.03G [00:06<00:00, 166MB/s]\n"
          ],
          "name": "stdout"
        }
      ]
    },
    {
      "cell_type": "code",
      "metadata": {
        "id": "pvW7VPojnvNO",
        "colab": {
          "base_uri": "https://localhost:8080/"
        },
        "outputId": "bd4841f2-1248-42fb-d089-b3d588aced0c"
      },
      "source": [
        "print(\"Let's start\")"
      ],
      "execution_count": 3,
      "outputs": [
        {
          "output_type": "stream",
          "text": [
            "Let's start\n"
          ],
          "name": "stdout"
        }
      ]
    },
    {
      "cell_type": "code",
      "metadata": {
        "id": "5CrQZc2EsaIF"
      },
      "source": [
        "from zipfile import ZipFile\n"
      ],
      "execution_count": 4,
      "outputs": []
    },
    {
      "cell_type": "code",
      "metadata": {
        "id": "WtVaxLXBtDGG"
      },
      "source": [
        "with ZipFile('/content/drive/MyDrive/Colab Notebooks/ASL/data/asl-alphabet.zip', 'r') as zipObj:\n",
        "   # Extract all the contents of zip file in current directory\n",
        "   zipObj.extractall()"
      ],
      "execution_count": 5,
      "outputs": []
    },
    {
      "cell_type": "markdown",
      "metadata": {
        "id": "wdBglmxBup_R"
      },
      "source": [
        "## Get the Data"
      ]
    },
    {
      "cell_type": "code",
      "metadata": {
        "colab": {
          "base_uri": "https://localhost:8080/"
        },
        "id": "lCrxTvRSZD6R",
        "outputId": "1cd434b3-95b0-4bc7-b191-43b5e16cea0b"
      },
      "source": [
        "alphabets = np.array([\"A\", \"B\", \"C\", \"D\", \"E\", \"F\", \"G\", \"H\", \"I\", \"J\", \"K\", \"L\", \"M\", \"N\", \"O\", \"P\", \"Q\",\n",
        "             \"R\", \"S\", \"T\", \"U\", \"V\", \"W\", \"X\", \"Y\", \"Z\", \"del\", \"nothing\", \"space\"])\n",
        "letters = [f'/content/asl_alphabet_train/asl_alphabet_train/{letter}/' for letter in alphabets]\n",
        "\n",
        "letters"
      ],
      "execution_count": 6,
      "outputs": [
        {
          "output_type": "execute_result",
          "data": {
            "text/plain": [
              "['/content/asl_alphabet_train/asl_alphabet_train/A/',\n",
              " '/content/asl_alphabet_train/asl_alphabet_train/B/',\n",
              " '/content/asl_alphabet_train/asl_alphabet_train/C/',\n",
              " '/content/asl_alphabet_train/asl_alphabet_train/D/',\n",
              " '/content/asl_alphabet_train/asl_alphabet_train/E/',\n",
              " '/content/asl_alphabet_train/asl_alphabet_train/F/',\n",
              " '/content/asl_alphabet_train/asl_alphabet_train/G/',\n",
              " '/content/asl_alphabet_train/asl_alphabet_train/H/',\n",
              " '/content/asl_alphabet_train/asl_alphabet_train/I/',\n",
              " '/content/asl_alphabet_train/asl_alphabet_train/J/',\n",
              " '/content/asl_alphabet_train/asl_alphabet_train/K/',\n",
              " '/content/asl_alphabet_train/asl_alphabet_train/L/',\n",
              " '/content/asl_alphabet_train/asl_alphabet_train/M/',\n",
              " '/content/asl_alphabet_train/asl_alphabet_train/N/',\n",
              " '/content/asl_alphabet_train/asl_alphabet_train/O/',\n",
              " '/content/asl_alphabet_train/asl_alphabet_train/P/',\n",
              " '/content/asl_alphabet_train/asl_alphabet_train/Q/',\n",
              " '/content/asl_alphabet_train/asl_alphabet_train/R/',\n",
              " '/content/asl_alphabet_train/asl_alphabet_train/S/',\n",
              " '/content/asl_alphabet_train/asl_alphabet_train/T/',\n",
              " '/content/asl_alphabet_train/asl_alphabet_train/U/',\n",
              " '/content/asl_alphabet_train/asl_alphabet_train/V/',\n",
              " '/content/asl_alphabet_train/asl_alphabet_train/W/',\n",
              " '/content/asl_alphabet_train/asl_alphabet_train/X/',\n",
              " '/content/asl_alphabet_train/asl_alphabet_train/Y/',\n",
              " '/content/asl_alphabet_train/asl_alphabet_train/Z/',\n",
              " '/content/asl_alphabet_train/asl_alphabet_train/del/',\n",
              " '/content/asl_alphabet_train/asl_alphabet_train/nothing/',\n",
              " '/content/asl_alphabet_train/asl_alphabet_train/space/']"
            ]
          },
          "metadata": {
            "tags": []
          },
          "execution_count": 6
        }
      ]
    },
    {
      "cell_type": "code",
      "metadata": {
        "colab": {
          "base_uri": "https://localhost:8080/"
        },
        "id": "3Jlh8LmBZ-ND",
        "outputId": "2077ac60-6203-410e-8c4d-f0cfd08717f3"
      },
      "source": [
        "from os import listdir\n",
        "from os.path import isfile, join\n",
        "onlyfiles = [f for f in listdir(letters[0]) if isfile(join(letters[0], f))]\n",
        "\n",
        "ids = []\n",
        "for pic in onlyfiles:\n",
        "  for let in alphabets:\n",
        "    ids.append(pic.replace('.jpg', '')[1:])\n",
        "len(ids)"
      ],
      "execution_count": 7,
      "outputs": [
        {
          "output_type": "execute_result",
          "data": {
            "text/plain": [
              "87000"
            ]
          },
          "metadata": {
            "tags": []
          },
          "execution_count": 7
        }
      ]
    },
    {
      "cell_type": "code",
      "metadata": {
        "colab": {
          "base_uri": "https://localhost:8080/"
        },
        "id": "km6S_wfjauxc",
        "outputId": "b6d0bbee-d851-45d7-d085-b38a499e7d1b"
      },
      "source": [
        "image_paths = []\n",
        "for letter in letters:\n",
        "  for id in ids:\n",
        "    path = letter + alphabets[letters.index(letter)] + id + '.jpg'\n",
        "    image_paths.append(path)\n",
        "\n",
        "image_paths"
      ],
      "execution_count": 8,
      "outputs": [
        {
          "output_type": "execute_result",
          "data": {
            "text/plain": [
              "['/content/asl_alphabet_train/asl_alphabet_train/A/A812.jpg',\n",
              " '/content/asl_alphabet_train/asl_alphabet_train/A/A812.jpg',\n",
              " '/content/asl_alphabet_train/asl_alphabet_train/A/A812.jpg',\n",
              " '/content/asl_alphabet_train/asl_alphabet_train/A/A812.jpg',\n",
              " '/content/asl_alphabet_train/asl_alphabet_train/A/A812.jpg',\n",
              " '/content/asl_alphabet_train/asl_alphabet_train/A/A812.jpg',\n",
              " '/content/asl_alphabet_train/asl_alphabet_train/A/A812.jpg',\n",
              " '/content/asl_alphabet_train/asl_alphabet_train/A/A812.jpg',\n",
              " '/content/asl_alphabet_train/asl_alphabet_train/A/A812.jpg',\n",
              " '/content/asl_alphabet_train/asl_alphabet_train/A/A812.jpg',\n",
              " '/content/asl_alphabet_train/asl_alphabet_train/A/A812.jpg',\n",
              " '/content/asl_alphabet_train/asl_alphabet_train/A/A812.jpg',\n",
              " '/content/asl_alphabet_train/asl_alphabet_train/A/A812.jpg',\n",
              " '/content/asl_alphabet_train/asl_alphabet_train/A/A812.jpg',\n",
              " '/content/asl_alphabet_train/asl_alphabet_train/A/A812.jpg',\n",
              " '/content/asl_alphabet_train/asl_alphabet_train/A/A812.jpg',\n",
              " '/content/asl_alphabet_train/asl_alphabet_train/A/A812.jpg',\n",
              " '/content/asl_alphabet_train/asl_alphabet_train/A/A812.jpg',\n",
              " '/content/asl_alphabet_train/asl_alphabet_train/A/A812.jpg',\n",
              " '/content/asl_alphabet_train/asl_alphabet_train/A/A812.jpg',\n",
              " '/content/asl_alphabet_train/asl_alphabet_train/A/A812.jpg',\n",
              " '/content/asl_alphabet_train/asl_alphabet_train/A/A812.jpg',\n",
              " '/content/asl_alphabet_train/asl_alphabet_train/A/A812.jpg',\n",
              " '/content/asl_alphabet_train/asl_alphabet_train/A/A812.jpg',\n",
              " '/content/asl_alphabet_train/asl_alphabet_train/A/A812.jpg',\n",
              " '/content/asl_alphabet_train/asl_alphabet_train/A/A812.jpg',\n",
              " '/content/asl_alphabet_train/asl_alphabet_train/A/A812.jpg',\n",
              " '/content/asl_alphabet_train/asl_alphabet_train/A/A812.jpg',\n",
              " '/content/asl_alphabet_train/asl_alphabet_train/A/A812.jpg',\n",
              " '/content/asl_alphabet_train/asl_alphabet_train/A/A1977.jpg',\n",
              " '/content/asl_alphabet_train/asl_alphabet_train/A/A1977.jpg',\n",
              " '/content/asl_alphabet_train/asl_alphabet_train/A/A1977.jpg',\n",
              " '/content/asl_alphabet_train/asl_alphabet_train/A/A1977.jpg',\n",
              " '/content/asl_alphabet_train/asl_alphabet_train/A/A1977.jpg',\n",
              " '/content/asl_alphabet_train/asl_alphabet_train/A/A1977.jpg',\n",
              " '/content/asl_alphabet_train/asl_alphabet_train/A/A1977.jpg',\n",
              " '/content/asl_alphabet_train/asl_alphabet_train/A/A1977.jpg',\n",
              " '/content/asl_alphabet_train/asl_alphabet_train/A/A1977.jpg',\n",
              " '/content/asl_alphabet_train/asl_alphabet_train/A/A1977.jpg',\n",
              " '/content/asl_alphabet_train/asl_alphabet_train/A/A1977.jpg',\n",
              " '/content/asl_alphabet_train/asl_alphabet_train/A/A1977.jpg',\n",
              " '/content/asl_alphabet_train/asl_alphabet_train/A/A1977.jpg',\n",
              " '/content/asl_alphabet_train/asl_alphabet_train/A/A1977.jpg',\n",
              " '/content/asl_alphabet_train/asl_alphabet_train/A/A1977.jpg',\n",
              " '/content/asl_alphabet_train/asl_alphabet_train/A/A1977.jpg',\n",
              " '/content/asl_alphabet_train/asl_alphabet_train/A/A1977.jpg',\n",
              " '/content/asl_alphabet_train/asl_alphabet_train/A/A1977.jpg',\n",
              " '/content/asl_alphabet_train/asl_alphabet_train/A/A1977.jpg',\n",
              " '/content/asl_alphabet_train/asl_alphabet_train/A/A1977.jpg',\n",
              " '/content/asl_alphabet_train/asl_alphabet_train/A/A1977.jpg',\n",
              " '/content/asl_alphabet_train/asl_alphabet_train/A/A1977.jpg',\n",
              " '/content/asl_alphabet_train/asl_alphabet_train/A/A1977.jpg',\n",
              " '/content/asl_alphabet_train/asl_alphabet_train/A/A1977.jpg',\n",
              " '/content/asl_alphabet_train/asl_alphabet_train/A/A1977.jpg',\n",
              " '/content/asl_alphabet_train/asl_alphabet_train/A/A1977.jpg',\n",
              " '/content/asl_alphabet_train/asl_alphabet_train/A/A1977.jpg',\n",
              " '/content/asl_alphabet_train/asl_alphabet_train/A/A1977.jpg',\n",
              " '/content/asl_alphabet_train/asl_alphabet_train/A/A1977.jpg',\n",
              " '/content/asl_alphabet_train/asl_alphabet_train/A/A2449.jpg',\n",
              " '/content/asl_alphabet_train/asl_alphabet_train/A/A2449.jpg',\n",
              " '/content/asl_alphabet_train/asl_alphabet_train/A/A2449.jpg',\n",
              " '/content/asl_alphabet_train/asl_alphabet_train/A/A2449.jpg',\n",
              " '/content/asl_alphabet_train/asl_alphabet_train/A/A2449.jpg',\n",
              " '/content/asl_alphabet_train/asl_alphabet_train/A/A2449.jpg',\n",
              " '/content/asl_alphabet_train/asl_alphabet_train/A/A2449.jpg',\n",
              " '/content/asl_alphabet_train/asl_alphabet_train/A/A2449.jpg',\n",
              " '/content/asl_alphabet_train/asl_alphabet_train/A/A2449.jpg',\n",
              " '/content/asl_alphabet_train/asl_alphabet_train/A/A2449.jpg',\n",
              " '/content/asl_alphabet_train/asl_alphabet_train/A/A2449.jpg',\n",
              " '/content/asl_alphabet_train/asl_alphabet_train/A/A2449.jpg',\n",
              " '/content/asl_alphabet_train/asl_alphabet_train/A/A2449.jpg',\n",
              " '/content/asl_alphabet_train/asl_alphabet_train/A/A2449.jpg',\n",
              " '/content/asl_alphabet_train/asl_alphabet_train/A/A2449.jpg',\n",
              " '/content/asl_alphabet_train/asl_alphabet_train/A/A2449.jpg',\n",
              " '/content/asl_alphabet_train/asl_alphabet_train/A/A2449.jpg',\n",
              " '/content/asl_alphabet_train/asl_alphabet_train/A/A2449.jpg',\n",
              " '/content/asl_alphabet_train/asl_alphabet_train/A/A2449.jpg',\n",
              " '/content/asl_alphabet_train/asl_alphabet_train/A/A2449.jpg',\n",
              " '/content/asl_alphabet_train/asl_alphabet_train/A/A2449.jpg',\n",
              " '/content/asl_alphabet_train/asl_alphabet_train/A/A2449.jpg',\n",
              " '/content/asl_alphabet_train/asl_alphabet_train/A/A2449.jpg',\n",
              " '/content/asl_alphabet_train/asl_alphabet_train/A/A2449.jpg',\n",
              " '/content/asl_alphabet_train/asl_alphabet_train/A/A2449.jpg',\n",
              " '/content/asl_alphabet_train/asl_alphabet_train/A/A2449.jpg',\n",
              " '/content/asl_alphabet_train/asl_alphabet_train/A/A2449.jpg',\n",
              " '/content/asl_alphabet_train/asl_alphabet_train/A/A2449.jpg',\n",
              " '/content/asl_alphabet_train/asl_alphabet_train/A/A2449.jpg',\n",
              " '/content/asl_alphabet_train/asl_alphabet_train/A/A1500.jpg',\n",
              " '/content/asl_alphabet_train/asl_alphabet_train/A/A1500.jpg',\n",
              " '/content/asl_alphabet_train/asl_alphabet_train/A/A1500.jpg',\n",
              " '/content/asl_alphabet_train/asl_alphabet_train/A/A1500.jpg',\n",
              " '/content/asl_alphabet_train/asl_alphabet_train/A/A1500.jpg',\n",
              " '/content/asl_alphabet_train/asl_alphabet_train/A/A1500.jpg',\n",
              " '/content/asl_alphabet_train/asl_alphabet_train/A/A1500.jpg',\n",
              " '/content/asl_alphabet_train/asl_alphabet_train/A/A1500.jpg',\n",
              " '/content/asl_alphabet_train/asl_alphabet_train/A/A1500.jpg',\n",
              " '/content/asl_alphabet_train/asl_alphabet_train/A/A1500.jpg',\n",
              " '/content/asl_alphabet_train/asl_alphabet_train/A/A1500.jpg',\n",
              " '/content/asl_alphabet_train/asl_alphabet_train/A/A1500.jpg',\n",
              " '/content/asl_alphabet_train/asl_alphabet_train/A/A1500.jpg',\n",
              " '/content/asl_alphabet_train/asl_alphabet_train/A/A1500.jpg',\n",
              " '/content/asl_alphabet_train/asl_alphabet_train/A/A1500.jpg',\n",
              " '/content/asl_alphabet_train/asl_alphabet_train/A/A1500.jpg',\n",
              " '/content/asl_alphabet_train/asl_alphabet_train/A/A1500.jpg',\n",
              " '/content/asl_alphabet_train/asl_alphabet_train/A/A1500.jpg',\n",
              " '/content/asl_alphabet_train/asl_alphabet_train/A/A1500.jpg',\n",
              " '/content/asl_alphabet_train/asl_alphabet_train/A/A1500.jpg',\n",
              " '/content/asl_alphabet_train/asl_alphabet_train/A/A1500.jpg',\n",
              " '/content/asl_alphabet_train/asl_alphabet_train/A/A1500.jpg',\n",
              " '/content/asl_alphabet_train/asl_alphabet_train/A/A1500.jpg',\n",
              " '/content/asl_alphabet_train/asl_alphabet_train/A/A1500.jpg',\n",
              " '/content/asl_alphabet_train/asl_alphabet_train/A/A1500.jpg',\n",
              " '/content/asl_alphabet_train/asl_alphabet_train/A/A1500.jpg',\n",
              " '/content/asl_alphabet_train/asl_alphabet_train/A/A1500.jpg',\n",
              " '/content/asl_alphabet_train/asl_alphabet_train/A/A1500.jpg',\n",
              " '/content/asl_alphabet_train/asl_alphabet_train/A/A1500.jpg',\n",
              " '/content/asl_alphabet_train/asl_alphabet_train/A/A1856.jpg',\n",
              " '/content/asl_alphabet_train/asl_alphabet_train/A/A1856.jpg',\n",
              " '/content/asl_alphabet_train/asl_alphabet_train/A/A1856.jpg',\n",
              " '/content/asl_alphabet_train/asl_alphabet_train/A/A1856.jpg',\n",
              " '/content/asl_alphabet_train/asl_alphabet_train/A/A1856.jpg',\n",
              " '/content/asl_alphabet_train/asl_alphabet_train/A/A1856.jpg',\n",
              " '/content/asl_alphabet_train/asl_alphabet_train/A/A1856.jpg',\n",
              " '/content/asl_alphabet_train/asl_alphabet_train/A/A1856.jpg',\n",
              " '/content/asl_alphabet_train/asl_alphabet_train/A/A1856.jpg',\n",
              " '/content/asl_alphabet_train/asl_alphabet_train/A/A1856.jpg',\n",
              " '/content/asl_alphabet_train/asl_alphabet_train/A/A1856.jpg',\n",
              " '/content/asl_alphabet_train/asl_alphabet_train/A/A1856.jpg',\n",
              " '/content/asl_alphabet_train/asl_alphabet_train/A/A1856.jpg',\n",
              " '/content/asl_alphabet_train/asl_alphabet_train/A/A1856.jpg',\n",
              " '/content/asl_alphabet_train/asl_alphabet_train/A/A1856.jpg',\n",
              " '/content/asl_alphabet_train/asl_alphabet_train/A/A1856.jpg',\n",
              " '/content/asl_alphabet_train/asl_alphabet_train/A/A1856.jpg',\n",
              " '/content/asl_alphabet_train/asl_alphabet_train/A/A1856.jpg',\n",
              " '/content/asl_alphabet_train/asl_alphabet_train/A/A1856.jpg',\n",
              " '/content/asl_alphabet_train/asl_alphabet_train/A/A1856.jpg',\n",
              " '/content/asl_alphabet_train/asl_alphabet_train/A/A1856.jpg',\n",
              " '/content/asl_alphabet_train/asl_alphabet_train/A/A1856.jpg',\n",
              " '/content/asl_alphabet_train/asl_alphabet_train/A/A1856.jpg',\n",
              " '/content/asl_alphabet_train/asl_alphabet_train/A/A1856.jpg',\n",
              " '/content/asl_alphabet_train/asl_alphabet_train/A/A1856.jpg',\n",
              " '/content/asl_alphabet_train/asl_alphabet_train/A/A1856.jpg',\n",
              " '/content/asl_alphabet_train/asl_alphabet_train/A/A1856.jpg',\n",
              " '/content/asl_alphabet_train/asl_alphabet_train/A/A1856.jpg',\n",
              " '/content/asl_alphabet_train/asl_alphabet_train/A/A1856.jpg',\n",
              " '/content/asl_alphabet_train/asl_alphabet_train/A/A708.jpg',\n",
              " '/content/asl_alphabet_train/asl_alphabet_train/A/A708.jpg',\n",
              " '/content/asl_alphabet_train/asl_alphabet_train/A/A708.jpg',\n",
              " '/content/asl_alphabet_train/asl_alphabet_train/A/A708.jpg',\n",
              " '/content/asl_alphabet_train/asl_alphabet_train/A/A708.jpg',\n",
              " '/content/asl_alphabet_train/asl_alphabet_train/A/A708.jpg',\n",
              " '/content/asl_alphabet_train/asl_alphabet_train/A/A708.jpg',\n",
              " '/content/asl_alphabet_train/asl_alphabet_train/A/A708.jpg',\n",
              " '/content/asl_alphabet_train/asl_alphabet_train/A/A708.jpg',\n",
              " '/content/asl_alphabet_train/asl_alphabet_train/A/A708.jpg',\n",
              " '/content/asl_alphabet_train/asl_alphabet_train/A/A708.jpg',\n",
              " '/content/asl_alphabet_train/asl_alphabet_train/A/A708.jpg',\n",
              " '/content/asl_alphabet_train/asl_alphabet_train/A/A708.jpg',\n",
              " '/content/asl_alphabet_train/asl_alphabet_train/A/A708.jpg',\n",
              " '/content/asl_alphabet_train/asl_alphabet_train/A/A708.jpg',\n",
              " '/content/asl_alphabet_train/asl_alphabet_train/A/A708.jpg',\n",
              " '/content/asl_alphabet_train/asl_alphabet_train/A/A708.jpg',\n",
              " '/content/asl_alphabet_train/asl_alphabet_train/A/A708.jpg',\n",
              " '/content/asl_alphabet_train/asl_alphabet_train/A/A708.jpg',\n",
              " '/content/asl_alphabet_train/asl_alphabet_train/A/A708.jpg',\n",
              " '/content/asl_alphabet_train/asl_alphabet_train/A/A708.jpg',\n",
              " '/content/asl_alphabet_train/asl_alphabet_train/A/A708.jpg',\n",
              " '/content/asl_alphabet_train/asl_alphabet_train/A/A708.jpg',\n",
              " '/content/asl_alphabet_train/asl_alphabet_train/A/A708.jpg',\n",
              " '/content/asl_alphabet_train/asl_alphabet_train/A/A708.jpg',\n",
              " '/content/asl_alphabet_train/asl_alphabet_train/A/A708.jpg',\n",
              " '/content/asl_alphabet_train/asl_alphabet_train/A/A708.jpg',\n",
              " '/content/asl_alphabet_train/asl_alphabet_train/A/A708.jpg',\n",
              " '/content/asl_alphabet_train/asl_alphabet_train/A/A708.jpg',\n",
              " '/content/asl_alphabet_train/asl_alphabet_train/A/A421.jpg',\n",
              " '/content/asl_alphabet_train/asl_alphabet_train/A/A421.jpg',\n",
              " '/content/asl_alphabet_train/asl_alphabet_train/A/A421.jpg',\n",
              " '/content/asl_alphabet_train/asl_alphabet_train/A/A421.jpg',\n",
              " '/content/asl_alphabet_train/asl_alphabet_train/A/A421.jpg',\n",
              " '/content/asl_alphabet_train/asl_alphabet_train/A/A421.jpg',\n",
              " '/content/asl_alphabet_train/asl_alphabet_train/A/A421.jpg',\n",
              " '/content/asl_alphabet_train/asl_alphabet_train/A/A421.jpg',\n",
              " '/content/asl_alphabet_train/asl_alphabet_train/A/A421.jpg',\n",
              " '/content/asl_alphabet_train/asl_alphabet_train/A/A421.jpg',\n",
              " '/content/asl_alphabet_train/asl_alphabet_train/A/A421.jpg',\n",
              " '/content/asl_alphabet_train/asl_alphabet_train/A/A421.jpg',\n",
              " '/content/asl_alphabet_train/asl_alphabet_train/A/A421.jpg',\n",
              " '/content/asl_alphabet_train/asl_alphabet_train/A/A421.jpg',\n",
              " '/content/asl_alphabet_train/asl_alphabet_train/A/A421.jpg',\n",
              " '/content/asl_alphabet_train/asl_alphabet_train/A/A421.jpg',\n",
              " '/content/asl_alphabet_train/asl_alphabet_train/A/A421.jpg',\n",
              " '/content/asl_alphabet_train/asl_alphabet_train/A/A421.jpg',\n",
              " '/content/asl_alphabet_train/asl_alphabet_train/A/A421.jpg',\n",
              " '/content/asl_alphabet_train/asl_alphabet_train/A/A421.jpg',\n",
              " '/content/asl_alphabet_train/asl_alphabet_train/A/A421.jpg',\n",
              " '/content/asl_alphabet_train/asl_alphabet_train/A/A421.jpg',\n",
              " '/content/asl_alphabet_train/asl_alphabet_train/A/A421.jpg',\n",
              " '/content/asl_alphabet_train/asl_alphabet_train/A/A421.jpg',\n",
              " '/content/asl_alphabet_train/asl_alphabet_train/A/A421.jpg',\n",
              " '/content/asl_alphabet_train/asl_alphabet_train/A/A421.jpg',\n",
              " '/content/asl_alphabet_train/asl_alphabet_train/A/A421.jpg',\n",
              " '/content/asl_alphabet_train/asl_alphabet_train/A/A421.jpg',\n",
              " '/content/asl_alphabet_train/asl_alphabet_train/A/A421.jpg',\n",
              " '/content/asl_alphabet_train/asl_alphabet_train/A/A2214.jpg',\n",
              " '/content/asl_alphabet_train/asl_alphabet_train/A/A2214.jpg',\n",
              " '/content/asl_alphabet_train/asl_alphabet_train/A/A2214.jpg',\n",
              " '/content/asl_alphabet_train/asl_alphabet_train/A/A2214.jpg',\n",
              " '/content/asl_alphabet_train/asl_alphabet_train/A/A2214.jpg',\n",
              " '/content/asl_alphabet_train/asl_alphabet_train/A/A2214.jpg',\n",
              " '/content/asl_alphabet_train/asl_alphabet_train/A/A2214.jpg',\n",
              " '/content/asl_alphabet_train/asl_alphabet_train/A/A2214.jpg',\n",
              " '/content/asl_alphabet_train/asl_alphabet_train/A/A2214.jpg',\n",
              " '/content/asl_alphabet_train/asl_alphabet_train/A/A2214.jpg',\n",
              " '/content/asl_alphabet_train/asl_alphabet_train/A/A2214.jpg',\n",
              " '/content/asl_alphabet_train/asl_alphabet_train/A/A2214.jpg',\n",
              " '/content/asl_alphabet_train/asl_alphabet_train/A/A2214.jpg',\n",
              " '/content/asl_alphabet_train/asl_alphabet_train/A/A2214.jpg',\n",
              " '/content/asl_alphabet_train/asl_alphabet_train/A/A2214.jpg',\n",
              " '/content/asl_alphabet_train/asl_alphabet_train/A/A2214.jpg',\n",
              " '/content/asl_alphabet_train/asl_alphabet_train/A/A2214.jpg',\n",
              " '/content/asl_alphabet_train/asl_alphabet_train/A/A2214.jpg',\n",
              " '/content/asl_alphabet_train/asl_alphabet_train/A/A2214.jpg',\n",
              " '/content/asl_alphabet_train/asl_alphabet_train/A/A2214.jpg',\n",
              " '/content/asl_alphabet_train/asl_alphabet_train/A/A2214.jpg',\n",
              " '/content/asl_alphabet_train/asl_alphabet_train/A/A2214.jpg',\n",
              " '/content/asl_alphabet_train/asl_alphabet_train/A/A2214.jpg',\n",
              " '/content/asl_alphabet_train/asl_alphabet_train/A/A2214.jpg',\n",
              " '/content/asl_alphabet_train/asl_alphabet_train/A/A2214.jpg',\n",
              " '/content/asl_alphabet_train/asl_alphabet_train/A/A2214.jpg',\n",
              " '/content/asl_alphabet_train/asl_alphabet_train/A/A2214.jpg',\n",
              " '/content/asl_alphabet_train/asl_alphabet_train/A/A2214.jpg',\n",
              " '/content/asl_alphabet_train/asl_alphabet_train/A/A2214.jpg',\n",
              " '/content/asl_alphabet_train/asl_alphabet_train/A/A877.jpg',\n",
              " '/content/asl_alphabet_train/asl_alphabet_train/A/A877.jpg',\n",
              " '/content/asl_alphabet_train/asl_alphabet_train/A/A877.jpg',\n",
              " '/content/asl_alphabet_train/asl_alphabet_train/A/A877.jpg',\n",
              " '/content/asl_alphabet_train/asl_alphabet_train/A/A877.jpg',\n",
              " '/content/asl_alphabet_train/asl_alphabet_train/A/A877.jpg',\n",
              " '/content/asl_alphabet_train/asl_alphabet_train/A/A877.jpg',\n",
              " '/content/asl_alphabet_train/asl_alphabet_train/A/A877.jpg',\n",
              " '/content/asl_alphabet_train/asl_alphabet_train/A/A877.jpg',\n",
              " '/content/asl_alphabet_train/asl_alphabet_train/A/A877.jpg',\n",
              " '/content/asl_alphabet_train/asl_alphabet_train/A/A877.jpg',\n",
              " '/content/asl_alphabet_train/asl_alphabet_train/A/A877.jpg',\n",
              " '/content/asl_alphabet_train/asl_alphabet_train/A/A877.jpg',\n",
              " '/content/asl_alphabet_train/asl_alphabet_train/A/A877.jpg',\n",
              " '/content/asl_alphabet_train/asl_alphabet_train/A/A877.jpg',\n",
              " '/content/asl_alphabet_train/asl_alphabet_train/A/A877.jpg',\n",
              " '/content/asl_alphabet_train/asl_alphabet_train/A/A877.jpg',\n",
              " '/content/asl_alphabet_train/asl_alphabet_train/A/A877.jpg',\n",
              " '/content/asl_alphabet_train/asl_alphabet_train/A/A877.jpg',\n",
              " '/content/asl_alphabet_train/asl_alphabet_train/A/A877.jpg',\n",
              " '/content/asl_alphabet_train/asl_alphabet_train/A/A877.jpg',\n",
              " '/content/asl_alphabet_train/asl_alphabet_train/A/A877.jpg',\n",
              " '/content/asl_alphabet_train/asl_alphabet_train/A/A877.jpg',\n",
              " '/content/asl_alphabet_train/asl_alphabet_train/A/A877.jpg',\n",
              " '/content/asl_alphabet_train/asl_alphabet_train/A/A877.jpg',\n",
              " '/content/asl_alphabet_train/asl_alphabet_train/A/A877.jpg',\n",
              " '/content/asl_alphabet_train/asl_alphabet_train/A/A877.jpg',\n",
              " '/content/asl_alphabet_train/asl_alphabet_train/A/A877.jpg',\n",
              " '/content/asl_alphabet_train/asl_alphabet_train/A/A877.jpg',\n",
              " '/content/asl_alphabet_train/asl_alphabet_train/A/A2949.jpg',\n",
              " '/content/asl_alphabet_train/asl_alphabet_train/A/A2949.jpg',\n",
              " '/content/asl_alphabet_train/asl_alphabet_train/A/A2949.jpg',\n",
              " '/content/asl_alphabet_train/asl_alphabet_train/A/A2949.jpg',\n",
              " '/content/asl_alphabet_train/asl_alphabet_train/A/A2949.jpg',\n",
              " '/content/asl_alphabet_train/asl_alphabet_train/A/A2949.jpg',\n",
              " '/content/asl_alphabet_train/asl_alphabet_train/A/A2949.jpg',\n",
              " '/content/asl_alphabet_train/asl_alphabet_train/A/A2949.jpg',\n",
              " '/content/asl_alphabet_train/asl_alphabet_train/A/A2949.jpg',\n",
              " '/content/asl_alphabet_train/asl_alphabet_train/A/A2949.jpg',\n",
              " '/content/asl_alphabet_train/asl_alphabet_train/A/A2949.jpg',\n",
              " '/content/asl_alphabet_train/asl_alphabet_train/A/A2949.jpg',\n",
              " '/content/asl_alphabet_train/asl_alphabet_train/A/A2949.jpg',\n",
              " '/content/asl_alphabet_train/asl_alphabet_train/A/A2949.jpg',\n",
              " '/content/asl_alphabet_train/asl_alphabet_train/A/A2949.jpg',\n",
              " '/content/asl_alphabet_train/asl_alphabet_train/A/A2949.jpg',\n",
              " '/content/asl_alphabet_train/asl_alphabet_train/A/A2949.jpg',\n",
              " '/content/asl_alphabet_train/asl_alphabet_train/A/A2949.jpg',\n",
              " '/content/asl_alphabet_train/asl_alphabet_train/A/A2949.jpg',\n",
              " '/content/asl_alphabet_train/asl_alphabet_train/A/A2949.jpg',\n",
              " '/content/asl_alphabet_train/asl_alphabet_train/A/A2949.jpg',\n",
              " '/content/asl_alphabet_train/asl_alphabet_train/A/A2949.jpg',\n",
              " '/content/asl_alphabet_train/asl_alphabet_train/A/A2949.jpg',\n",
              " '/content/asl_alphabet_train/asl_alphabet_train/A/A2949.jpg',\n",
              " '/content/asl_alphabet_train/asl_alphabet_train/A/A2949.jpg',\n",
              " '/content/asl_alphabet_train/asl_alphabet_train/A/A2949.jpg',\n",
              " '/content/asl_alphabet_train/asl_alphabet_train/A/A2949.jpg',\n",
              " '/content/asl_alphabet_train/asl_alphabet_train/A/A2949.jpg',\n",
              " '/content/asl_alphabet_train/asl_alphabet_train/A/A2949.jpg',\n",
              " '/content/asl_alphabet_train/asl_alphabet_train/A/A2697.jpg',\n",
              " '/content/asl_alphabet_train/asl_alphabet_train/A/A2697.jpg',\n",
              " '/content/asl_alphabet_train/asl_alphabet_train/A/A2697.jpg',\n",
              " '/content/asl_alphabet_train/asl_alphabet_train/A/A2697.jpg',\n",
              " '/content/asl_alphabet_train/asl_alphabet_train/A/A2697.jpg',\n",
              " '/content/asl_alphabet_train/asl_alphabet_train/A/A2697.jpg',\n",
              " '/content/asl_alphabet_train/asl_alphabet_train/A/A2697.jpg',\n",
              " '/content/asl_alphabet_train/asl_alphabet_train/A/A2697.jpg',\n",
              " '/content/asl_alphabet_train/asl_alphabet_train/A/A2697.jpg',\n",
              " '/content/asl_alphabet_train/asl_alphabet_train/A/A2697.jpg',\n",
              " '/content/asl_alphabet_train/asl_alphabet_train/A/A2697.jpg',\n",
              " '/content/asl_alphabet_train/asl_alphabet_train/A/A2697.jpg',\n",
              " '/content/asl_alphabet_train/asl_alphabet_train/A/A2697.jpg',\n",
              " '/content/asl_alphabet_train/asl_alphabet_train/A/A2697.jpg',\n",
              " '/content/asl_alphabet_train/asl_alphabet_train/A/A2697.jpg',\n",
              " '/content/asl_alphabet_train/asl_alphabet_train/A/A2697.jpg',\n",
              " '/content/asl_alphabet_train/asl_alphabet_train/A/A2697.jpg',\n",
              " '/content/asl_alphabet_train/asl_alphabet_train/A/A2697.jpg',\n",
              " '/content/asl_alphabet_train/asl_alphabet_train/A/A2697.jpg',\n",
              " '/content/asl_alphabet_train/asl_alphabet_train/A/A2697.jpg',\n",
              " '/content/asl_alphabet_train/asl_alphabet_train/A/A2697.jpg',\n",
              " '/content/asl_alphabet_train/asl_alphabet_train/A/A2697.jpg',\n",
              " '/content/asl_alphabet_train/asl_alphabet_train/A/A2697.jpg',\n",
              " '/content/asl_alphabet_train/asl_alphabet_train/A/A2697.jpg',\n",
              " '/content/asl_alphabet_train/asl_alphabet_train/A/A2697.jpg',\n",
              " '/content/asl_alphabet_train/asl_alphabet_train/A/A2697.jpg',\n",
              " '/content/asl_alphabet_train/asl_alphabet_train/A/A2697.jpg',\n",
              " '/content/asl_alphabet_train/asl_alphabet_train/A/A2697.jpg',\n",
              " '/content/asl_alphabet_train/asl_alphabet_train/A/A2697.jpg',\n",
              " '/content/asl_alphabet_train/asl_alphabet_train/A/A720.jpg',\n",
              " '/content/asl_alphabet_train/asl_alphabet_train/A/A720.jpg',\n",
              " '/content/asl_alphabet_train/asl_alphabet_train/A/A720.jpg',\n",
              " '/content/asl_alphabet_train/asl_alphabet_train/A/A720.jpg',\n",
              " '/content/asl_alphabet_train/asl_alphabet_train/A/A720.jpg',\n",
              " '/content/asl_alphabet_train/asl_alphabet_train/A/A720.jpg',\n",
              " '/content/asl_alphabet_train/asl_alphabet_train/A/A720.jpg',\n",
              " '/content/asl_alphabet_train/asl_alphabet_train/A/A720.jpg',\n",
              " '/content/asl_alphabet_train/asl_alphabet_train/A/A720.jpg',\n",
              " '/content/asl_alphabet_train/asl_alphabet_train/A/A720.jpg',\n",
              " '/content/asl_alphabet_train/asl_alphabet_train/A/A720.jpg',\n",
              " '/content/asl_alphabet_train/asl_alphabet_train/A/A720.jpg',\n",
              " '/content/asl_alphabet_train/asl_alphabet_train/A/A720.jpg',\n",
              " '/content/asl_alphabet_train/asl_alphabet_train/A/A720.jpg',\n",
              " '/content/asl_alphabet_train/asl_alphabet_train/A/A720.jpg',\n",
              " '/content/asl_alphabet_train/asl_alphabet_train/A/A720.jpg',\n",
              " '/content/asl_alphabet_train/asl_alphabet_train/A/A720.jpg',\n",
              " '/content/asl_alphabet_train/asl_alphabet_train/A/A720.jpg',\n",
              " '/content/asl_alphabet_train/asl_alphabet_train/A/A720.jpg',\n",
              " '/content/asl_alphabet_train/asl_alphabet_train/A/A720.jpg',\n",
              " '/content/asl_alphabet_train/asl_alphabet_train/A/A720.jpg',\n",
              " '/content/asl_alphabet_train/asl_alphabet_train/A/A720.jpg',\n",
              " '/content/asl_alphabet_train/asl_alphabet_train/A/A720.jpg',\n",
              " '/content/asl_alphabet_train/asl_alphabet_train/A/A720.jpg',\n",
              " '/content/asl_alphabet_train/asl_alphabet_train/A/A720.jpg',\n",
              " '/content/asl_alphabet_train/asl_alphabet_train/A/A720.jpg',\n",
              " '/content/asl_alphabet_train/asl_alphabet_train/A/A720.jpg',\n",
              " '/content/asl_alphabet_train/asl_alphabet_train/A/A720.jpg',\n",
              " '/content/asl_alphabet_train/asl_alphabet_train/A/A720.jpg',\n",
              " '/content/asl_alphabet_train/asl_alphabet_train/A/A1704.jpg',\n",
              " '/content/asl_alphabet_train/asl_alphabet_train/A/A1704.jpg',\n",
              " '/content/asl_alphabet_train/asl_alphabet_train/A/A1704.jpg',\n",
              " '/content/asl_alphabet_train/asl_alphabet_train/A/A1704.jpg',\n",
              " '/content/asl_alphabet_train/asl_alphabet_train/A/A1704.jpg',\n",
              " '/content/asl_alphabet_train/asl_alphabet_train/A/A1704.jpg',\n",
              " '/content/asl_alphabet_train/asl_alphabet_train/A/A1704.jpg',\n",
              " '/content/asl_alphabet_train/asl_alphabet_train/A/A1704.jpg',\n",
              " '/content/asl_alphabet_train/asl_alphabet_train/A/A1704.jpg',\n",
              " '/content/asl_alphabet_train/asl_alphabet_train/A/A1704.jpg',\n",
              " '/content/asl_alphabet_train/asl_alphabet_train/A/A1704.jpg',\n",
              " '/content/asl_alphabet_train/asl_alphabet_train/A/A1704.jpg',\n",
              " '/content/asl_alphabet_train/asl_alphabet_train/A/A1704.jpg',\n",
              " '/content/asl_alphabet_train/asl_alphabet_train/A/A1704.jpg',\n",
              " '/content/asl_alphabet_train/asl_alphabet_train/A/A1704.jpg',\n",
              " '/content/asl_alphabet_train/asl_alphabet_train/A/A1704.jpg',\n",
              " '/content/asl_alphabet_train/asl_alphabet_train/A/A1704.jpg',\n",
              " '/content/asl_alphabet_train/asl_alphabet_train/A/A1704.jpg',\n",
              " '/content/asl_alphabet_train/asl_alphabet_train/A/A1704.jpg',\n",
              " '/content/asl_alphabet_train/asl_alphabet_train/A/A1704.jpg',\n",
              " '/content/asl_alphabet_train/asl_alphabet_train/A/A1704.jpg',\n",
              " '/content/asl_alphabet_train/asl_alphabet_train/A/A1704.jpg',\n",
              " '/content/asl_alphabet_train/asl_alphabet_train/A/A1704.jpg',\n",
              " '/content/asl_alphabet_train/asl_alphabet_train/A/A1704.jpg',\n",
              " '/content/asl_alphabet_train/asl_alphabet_train/A/A1704.jpg',\n",
              " '/content/asl_alphabet_train/asl_alphabet_train/A/A1704.jpg',\n",
              " '/content/asl_alphabet_train/asl_alphabet_train/A/A1704.jpg',\n",
              " '/content/asl_alphabet_train/asl_alphabet_train/A/A1704.jpg',\n",
              " '/content/asl_alphabet_train/asl_alphabet_train/A/A1704.jpg',\n",
              " '/content/asl_alphabet_train/asl_alphabet_train/A/A1861.jpg',\n",
              " '/content/asl_alphabet_train/asl_alphabet_train/A/A1861.jpg',\n",
              " '/content/asl_alphabet_train/asl_alphabet_train/A/A1861.jpg',\n",
              " '/content/asl_alphabet_train/asl_alphabet_train/A/A1861.jpg',\n",
              " '/content/asl_alphabet_train/asl_alphabet_train/A/A1861.jpg',\n",
              " '/content/asl_alphabet_train/asl_alphabet_train/A/A1861.jpg',\n",
              " '/content/asl_alphabet_train/asl_alphabet_train/A/A1861.jpg',\n",
              " '/content/asl_alphabet_train/asl_alphabet_train/A/A1861.jpg',\n",
              " '/content/asl_alphabet_train/asl_alphabet_train/A/A1861.jpg',\n",
              " '/content/asl_alphabet_train/asl_alphabet_train/A/A1861.jpg',\n",
              " '/content/asl_alphabet_train/asl_alphabet_train/A/A1861.jpg',\n",
              " '/content/asl_alphabet_train/asl_alphabet_train/A/A1861.jpg',\n",
              " '/content/asl_alphabet_train/asl_alphabet_train/A/A1861.jpg',\n",
              " '/content/asl_alphabet_train/asl_alphabet_train/A/A1861.jpg',\n",
              " '/content/asl_alphabet_train/asl_alphabet_train/A/A1861.jpg',\n",
              " '/content/asl_alphabet_train/asl_alphabet_train/A/A1861.jpg',\n",
              " '/content/asl_alphabet_train/asl_alphabet_train/A/A1861.jpg',\n",
              " '/content/asl_alphabet_train/asl_alphabet_train/A/A1861.jpg',\n",
              " '/content/asl_alphabet_train/asl_alphabet_train/A/A1861.jpg',\n",
              " '/content/asl_alphabet_train/asl_alphabet_train/A/A1861.jpg',\n",
              " '/content/asl_alphabet_train/asl_alphabet_train/A/A1861.jpg',\n",
              " '/content/asl_alphabet_train/asl_alphabet_train/A/A1861.jpg',\n",
              " '/content/asl_alphabet_train/asl_alphabet_train/A/A1861.jpg',\n",
              " '/content/asl_alphabet_train/asl_alphabet_train/A/A1861.jpg',\n",
              " '/content/asl_alphabet_train/asl_alphabet_train/A/A1861.jpg',\n",
              " '/content/asl_alphabet_train/asl_alphabet_train/A/A1861.jpg',\n",
              " '/content/asl_alphabet_train/asl_alphabet_train/A/A1861.jpg',\n",
              " '/content/asl_alphabet_train/asl_alphabet_train/A/A1861.jpg',\n",
              " '/content/asl_alphabet_train/asl_alphabet_train/A/A1861.jpg',\n",
              " '/content/asl_alphabet_train/asl_alphabet_train/A/A601.jpg',\n",
              " '/content/asl_alphabet_train/asl_alphabet_train/A/A601.jpg',\n",
              " '/content/asl_alphabet_train/asl_alphabet_train/A/A601.jpg',\n",
              " '/content/asl_alphabet_train/asl_alphabet_train/A/A601.jpg',\n",
              " '/content/asl_alphabet_train/asl_alphabet_train/A/A601.jpg',\n",
              " '/content/asl_alphabet_train/asl_alphabet_train/A/A601.jpg',\n",
              " '/content/asl_alphabet_train/asl_alphabet_train/A/A601.jpg',\n",
              " '/content/asl_alphabet_train/asl_alphabet_train/A/A601.jpg',\n",
              " '/content/asl_alphabet_train/asl_alphabet_train/A/A601.jpg',\n",
              " '/content/asl_alphabet_train/asl_alphabet_train/A/A601.jpg',\n",
              " '/content/asl_alphabet_train/asl_alphabet_train/A/A601.jpg',\n",
              " '/content/asl_alphabet_train/asl_alphabet_train/A/A601.jpg',\n",
              " '/content/asl_alphabet_train/asl_alphabet_train/A/A601.jpg',\n",
              " '/content/asl_alphabet_train/asl_alphabet_train/A/A601.jpg',\n",
              " '/content/asl_alphabet_train/asl_alphabet_train/A/A601.jpg',\n",
              " '/content/asl_alphabet_train/asl_alphabet_train/A/A601.jpg',\n",
              " '/content/asl_alphabet_train/asl_alphabet_train/A/A601.jpg',\n",
              " '/content/asl_alphabet_train/asl_alphabet_train/A/A601.jpg',\n",
              " '/content/asl_alphabet_train/asl_alphabet_train/A/A601.jpg',\n",
              " '/content/asl_alphabet_train/asl_alphabet_train/A/A601.jpg',\n",
              " '/content/asl_alphabet_train/asl_alphabet_train/A/A601.jpg',\n",
              " '/content/asl_alphabet_train/asl_alphabet_train/A/A601.jpg',\n",
              " '/content/asl_alphabet_train/asl_alphabet_train/A/A601.jpg',\n",
              " '/content/asl_alphabet_train/asl_alphabet_train/A/A601.jpg',\n",
              " '/content/asl_alphabet_train/asl_alphabet_train/A/A601.jpg',\n",
              " '/content/asl_alphabet_train/asl_alphabet_train/A/A601.jpg',\n",
              " '/content/asl_alphabet_train/asl_alphabet_train/A/A601.jpg',\n",
              " '/content/asl_alphabet_train/asl_alphabet_train/A/A601.jpg',\n",
              " '/content/asl_alphabet_train/asl_alphabet_train/A/A601.jpg',\n",
              " '/content/asl_alphabet_train/asl_alphabet_train/A/A1024.jpg',\n",
              " '/content/asl_alphabet_train/asl_alphabet_train/A/A1024.jpg',\n",
              " '/content/asl_alphabet_train/asl_alphabet_train/A/A1024.jpg',\n",
              " '/content/asl_alphabet_train/asl_alphabet_train/A/A1024.jpg',\n",
              " '/content/asl_alphabet_train/asl_alphabet_train/A/A1024.jpg',\n",
              " '/content/asl_alphabet_train/asl_alphabet_train/A/A1024.jpg',\n",
              " '/content/asl_alphabet_train/asl_alphabet_train/A/A1024.jpg',\n",
              " '/content/asl_alphabet_train/asl_alphabet_train/A/A1024.jpg',\n",
              " '/content/asl_alphabet_train/asl_alphabet_train/A/A1024.jpg',\n",
              " '/content/asl_alphabet_train/asl_alphabet_train/A/A1024.jpg',\n",
              " '/content/asl_alphabet_train/asl_alphabet_train/A/A1024.jpg',\n",
              " '/content/asl_alphabet_train/asl_alphabet_train/A/A1024.jpg',\n",
              " '/content/asl_alphabet_train/asl_alphabet_train/A/A1024.jpg',\n",
              " '/content/asl_alphabet_train/asl_alphabet_train/A/A1024.jpg',\n",
              " '/content/asl_alphabet_train/asl_alphabet_train/A/A1024.jpg',\n",
              " '/content/asl_alphabet_train/asl_alphabet_train/A/A1024.jpg',\n",
              " '/content/asl_alphabet_train/asl_alphabet_train/A/A1024.jpg',\n",
              " '/content/asl_alphabet_train/asl_alphabet_train/A/A1024.jpg',\n",
              " '/content/asl_alphabet_train/asl_alphabet_train/A/A1024.jpg',\n",
              " '/content/asl_alphabet_train/asl_alphabet_train/A/A1024.jpg',\n",
              " '/content/asl_alphabet_train/asl_alphabet_train/A/A1024.jpg',\n",
              " '/content/asl_alphabet_train/asl_alphabet_train/A/A1024.jpg',\n",
              " '/content/asl_alphabet_train/asl_alphabet_train/A/A1024.jpg',\n",
              " '/content/asl_alphabet_train/asl_alphabet_train/A/A1024.jpg',\n",
              " '/content/asl_alphabet_train/asl_alphabet_train/A/A1024.jpg',\n",
              " '/content/asl_alphabet_train/asl_alphabet_train/A/A1024.jpg',\n",
              " '/content/asl_alphabet_train/asl_alphabet_train/A/A1024.jpg',\n",
              " '/content/asl_alphabet_train/asl_alphabet_train/A/A1024.jpg',\n",
              " '/content/asl_alphabet_train/asl_alphabet_train/A/A1024.jpg',\n",
              " '/content/asl_alphabet_train/asl_alphabet_train/A/A1839.jpg',\n",
              " '/content/asl_alphabet_train/asl_alphabet_train/A/A1839.jpg',\n",
              " '/content/asl_alphabet_train/asl_alphabet_train/A/A1839.jpg',\n",
              " '/content/asl_alphabet_train/asl_alphabet_train/A/A1839.jpg',\n",
              " '/content/asl_alphabet_train/asl_alphabet_train/A/A1839.jpg',\n",
              " '/content/asl_alphabet_train/asl_alphabet_train/A/A1839.jpg',\n",
              " '/content/asl_alphabet_train/asl_alphabet_train/A/A1839.jpg',\n",
              " '/content/asl_alphabet_train/asl_alphabet_train/A/A1839.jpg',\n",
              " '/content/asl_alphabet_train/asl_alphabet_train/A/A1839.jpg',\n",
              " '/content/asl_alphabet_train/asl_alphabet_train/A/A1839.jpg',\n",
              " '/content/asl_alphabet_train/asl_alphabet_train/A/A1839.jpg',\n",
              " '/content/asl_alphabet_train/asl_alphabet_train/A/A1839.jpg',\n",
              " '/content/asl_alphabet_train/asl_alphabet_train/A/A1839.jpg',\n",
              " '/content/asl_alphabet_train/asl_alphabet_train/A/A1839.jpg',\n",
              " '/content/asl_alphabet_train/asl_alphabet_train/A/A1839.jpg',\n",
              " '/content/asl_alphabet_train/asl_alphabet_train/A/A1839.jpg',\n",
              " '/content/asl_alphabet_train/asl_alphabet_train/A/A1839.jpg',\n",
              " '/content/asl_alphabet_train/asl_alphabet_train/A/A1839.jpg',\n",
              " '/content/asl_alphabet_train/asl_alphabet_train/A/A1839.jpg',\n",
              " '/content/asl_alphabet_train/asl_alphabet_train/A/A1839.jpg',\n",
              " '/content/asl_alphabet_train/asl_alphabet_train/A/A1839.jpg',\n",
              " '/content/asl_alphabet_train/asl_alphabet_train/A/A1839.jpg',\n",
              " '/content/asl_alphabet_train/asl_alphabet_train/A/A1839.jpg',\n",
              " '/content/asl_alphabet_train/asl_alphabet_train/A/A1839.jpg',\n",
              " '/content/asl_alphabet_train/asl_alphabet_train/A/A1839.jpg',\n",
              " '/content/asl_alphabet_train/asl_alphabet_train/A/A1839.jpg',\n",
              " '/content/asl_alphabet_train/asl_alphabet_train/A/A1839.jpg',\n",
              " '/content/asl_alphabet_train/asl_alphabet_train/A/A1839.jpg',\n",
              " '/content/asl_alphabet_train/asl_alphabet_train/A/A1839.jpg',\n",
              " '/content/asl_alphabet_train/asl_alphabet_train/A/A1721.jpg',\n",
              " '/content/asl_alphabet_train/asl_alphabet_train/A/A1721.jpg',\n",
              " '/content/asl_alphabet_train/asl_alphabet_train/A/A1721.jpg',\n",
              " '/content/asl_alphabet_train/asl_alphabet_train/A/A1721.jpg',\n",
              " '/content/asl_alphabet_train/asl_alphabet_train/A/A1721.jpg',\n",
              " '/content/asl_alphabet_train/asl_alphabet_train/A/A1721.jpg',\n",
              " '/content/asl_alphabet_train/asl_alphabet_train/A/A1721.jpg',\n",
              " '/content/asl_alphabet_train/asl_alphabet_train/A/A1721.jpg',\n",
              " '/content/asl_alphabet_train/asl_alphabet_train/A/A1721.jpg',\n",
              " '/content/asl_alphabet_train/asl_alphabet_train/A/A1721.jpg',\n",
              " '/content/asl_alphabet_train/asl_alphabet_train/A/A1721.jpg',\n",
              " '/content/asl_alphabet_train/asl_alphabet_train/A/A1721.jpg',\n",
              " '/content/asl_alphabet_train/asl_alphabet_train/A/A1721.jpg',\n",
              " '/content/asl_alphabet_train/asl_alphabet_train/A/A1721.jpg',\n",
              " '/content/asl_alphabet_train/asl_alphabet_train/A/A1721.jpg',\n",
              " '/content/asl_alphabet_train/asl_alphabet_train/A/A1721.jpg',\n",
              " '/content/asl_alphabet_train/asl_alphabet_train/A/A1721.jpg',\n",
              " '/content/asl_alphabet_train/asl_alphabet_train/A/A1721.jpg',\n",
              " '/content/asl_alphabet_train/asl_alphabet_train/A/A1721.jpg',\n",
              " '/content/asl_alphabet_train/asl_alphabet_train/A/A1721.jpg',\n",
              " '/content/asl_alphabet_train/asl_alphabet_train/A/A1721.jpg',\n",
              " '/content/asl_alphabet_train/asl_alphabet_train/A/A1721.jpg',\n",
              " '/content/asl_alphabet_train/asl_alphabet_train/A/A1721.jpg',\n",
              " '/content/asl_alphabet_train/asl_alphabet_train/A/A1721.jpg',\n",
              " '/content/asl_alphabet_train/asl_alphabet_train/A/A1721.jpg',\n",
              " '/content/asl_alphabet_train/asl_alphabet_train/A/A1721.jpg',\n",
              " '/content/asl_alphabet_train/asl_alphabet_train/A/A1721.jpg',\n",
              " '/content/asl_alphabet_train/asl_alphabet_train/A/A1721.jpg',\n",
              " '/content/asl_alphabet_train/asl_alphabet_train/A/A1721.jpg',\n",
              " '/content/asl_alphabet_train/asl_alphabet_train/A/A1703.jpg',\n",
              " '/content/asl_alphabet_train/asl_alphabet_train/A/A1703.jpg',\n",
              " '/content/asl_alphabet_train/asl_alphabet_train/A/A1703.jpg',\n",
              " '/content/asl_alphabet_train/asl_alphabet_train/A/A1703.jpg',\n",
              " '/content/asl_alphabet_train/asl_alphabet_train/A/A1703.jpg',\n",
              " '/content/asl_alphabet_train/asl_alphabet_train/A/A1703.jpg',\n",
              " '/content/asl_alphabet_train/asl_alphabet_train/A/A1703.jpg',\n",
              " '/content/asl_alphabet_train/asl_alphabet_train/A/A1703.jpg',\n",
              " '/content/asl_alphabet_train/asl_alphabet_train/A/A1703.jpg',\n",
              " '/content/asl_alphabet_train/asl_alphabet_train/A/A1703.jpg',\n",
              " '/content/asl_alphabet_train/asl_alphabet_train/A/A1703.jpg',\n",
              " '/content/asl_alphabet_train/asl_alphabet_train/A/A1703.jpg',\n",
              " '/content/asl_alphabet_train/asl_alphabet_train/A/A1703.jpg',\n",
              " '/content/asl_alphabet_train/asl_alphabet_train/A/A1703.jpg',\n",
              " '/content/asl_alphabet_train/asl_alphabet_train/A/A1703.jpg',\n",
              " '/content/asl_alphabet_train/asl_alphabet_train/A/A1703.jpg',\n",
              " '/content/asl_alphabet_train/asl_alphabet_train/A/A1703.jpg',\n",
              " '/content/asl_alphabet_train/asl_alphabet_train/A/A1703.jpg',\n",
              " '/content/asl_alphabet_train/asl_alphabet_train/A/A1703.jpg',\n",
              " '/content/asl_alphabet_train/asl_alphabet_train/A/A1703.jpg',\n",
              " '/content/asl_alphabet_train/asl_alphabet_train/A/A1703.jpg',\n",
              " '/content/asl_alphabet_train/asl_alphabet_train/A/A1703.jpg',\n",
              " '/content/asl_alphabet_train/asl_alphabet_train/A/A1703.jpg',\n",
              " '/content/asl_alphabet_train/asl_alphabet_train/A/A1703.jpg',\n",
              " '/content/asl_alphabet_train/asl_alphabet_train/A/A1703.jpg',\n",
              " '/content/asl_alphabet_train/asl_alphabet_train/A/A1703.jpg',\n",
              " '/content/asl_alphabet_train/asl_alphabet_train/A/A1703.jpg',\n",
              " '/content/asl_alphabet_train/asl_alphabet_train/A/A1703.jpg',\n",
              " '/content/asl_alphabet_train/asl_alphabet_train/A/A1703.jpg',\n",
              " '/content/asl_alphabet_train/asl_alphabet_train/A/A1968.jpg',\n",
              " '/content/asl_alphabet_train/asl_alphabet_train/A/A1968.jpg',\n",
              " '/content/asl_alphabet_train/asl_alphabet_train/A/A1968.jpg',\n",
              " '/content/asl_alphabet_train/asl_alphabet_train/A/A1968.jpg',\n",
              " '/content/asl_alphabet_train/asl_alphabet_train/A/A1968.jpg',\n",
              " '/content/asl_alphabet_train/asl_alphabet_train/A/A1968.jpg',\n",
              " '/content/asl_alphabet_train/asl_alphabet_train/A/A1968.jpg',\n",
              " '/content/asl_alphabet_train/asl_alphabet_train/A/A1968.jpg',\n",
              " '/content/asl_alphabet_train/asl_alphabet_train/A/A1968.jpg',\n",
              " '/content/asl_alphabet_train/asl_alphabet_train/A/A1968.jpg',\n",
              " '/content/asl_alphabet_train/asl_alphabet_train/A/A1968.jpg',\n",
              " '/content/asl_alphabet_train/asl_alphabet_train/A/A1968.jpg',\n",
              " '/content/asl_alphabet_train/asl_alphabet_train/A/A1968.jpg',\n",
              " '/content/asl_alphabet_train/asl_alphabet_train/A/A1968.jpg',\n",
              " '/content/asl_alphabet_train/asl_alphabet_train/A/A1968.jpg',\n",
              " '/content/asl_alphabet_train/asl_alphabet_train/A/A1968.jpg',\n",
              " '/content/asl_alphabet_train/asl_alphabet_train/A/A1968.jpg',\n",
              " '/content/asl_alphabet_train/asl_alphabet_train/A/A1968.jpg',\n",
              " '/content/asl_alphabet_train/asl_alphabet_train/A/A1968.jpg',\n",
              " '/content/asl_alphabet_train/asl_alphabet_train/A/A1968.jpg',\n",
              " '/content/asl_alphabet_train/asl_alphabet_train/A/A1968.jpg',\n",
              " '/content/asl_alphabet_train/asl_alphabet_train/A/A1968.jpg',\n",
              " '/content/asl_alphabet_train/asl_alphabet_train/A/A1968.jpg',\n",
              " '/content/asl_alphabet_train/asl_alphabet_train/A/A1968.jpg',\n",
              " '/content/asl_alphabet_train/asl_alphabet_train/A/A1968.jpg',\n",
              " '/content/asl_alphabet_train/asl_alphabet_train/A/A1968.jpg',\n",
              " '/content/asl_alphabet_train/asl_alphabet_train/A/A1968.jpg',\n",
              " '/content/asl_alphabet_train/asl_alphabet_train/A/A1968.jpg',\n",
              " '/content/asl_alphabet_train/asl_alphabet_train/A/A1968.jpg',\n",
              " '/content/asl_alphabet_train/asl_alphabet_train/A/A607.jpg',\n",
              " '/content/asl_alphabet_train/asl_alphabet_train/A/A607.jpg',\n",
              " '/content/asl_alphabet_train/asl_alphabet_train/A/A607.jpg',\n",
              " '/content/asl_alphabet_train/asl_alphabet_train/A/A607.jpg',\n",
              " '/content/asl_alphabet_train/asl_alphabet_train/A/A607.jpg',\n",
              " '/content/asl_alphabet_train/asl_alphabet_train/A/A607.jpg',\n",
              " '/content/asl_alphabet_train/asl_alphabet_train/A/A607.jpg',\n",
              " '/content/asl_alphabet_train/asl_alphabet_train/A/A607.jpg',\n",
              " '/content/asl_alphabet_train/asl_alphabet_train/A/A607.jpg',\n",
              " '/content/asl_alphabet_train/asl_alphabet_train/A/A607.jpg',\n",
              " '/content/asl_alphabet_train/asl_alphabet_train/A/A607.jpg',\n",
              " '/content/asl_alphabet_train/asl_alphabet_train/A/A607.jpg',\n",
              " '/content/asl_alphabet_train/asl_alphabet_train/A/A607.jpg',\n",
              " '/content/asl_alphabet_train/asl_alphabet_train/A/A607.jpg',\n",
              " '/content/asl_alphabet_train/asl_alphabet_train/A/A607.jpg',\n",
              " '/content/asl_alphabet_train/asl_alphabet_train/A/A607.jpg',\n",
              " '/content/asl_alphabet_train/asl_alphabet_train/A/A607.jpg',\n",
              " '/content/asl_alphabet_train/asl_alphabet_train/A/A607.jpg',\n",
              " '/content/asl_alphabet_train/asl_alphabet_train/A/A607.jpg',\n",
              " '/content/asl_alphabet_train/asl_alphabet_train/A/A607.jpg',\n",
              " '/content/asl_alphabet_train/asl_alphabet_train/A/A607.jpg',\n",
              " '/content/asl_alphabet_train/asl_alphabet_train/A/A607.jpg',\n",
              " '/content/asl_alphabet_train/asl_alphabet_train/A/A607.jpg',\n",
              " '/content/asl_alphabet_train/asl_alphabet_train/A/A607.jpg',\n",
              " '/content/asl_alphabet_train/asl_alphabet_train/A/A607.jpg',\n",
              " '/content/asl_alphabet_train/asl_alphabet_train/A/A607.jpg',\n",
              " '/content/asl_alphabet_train/asl_alphabet_train/A/A607.jpg',\n",
              " '/content/asl_alphabet_train/asl_alphabet_train/A/A607.jpg',\n",
              " '/content/asl_alphabet_train/asl_alphabet_train/A/A607.jpg',\n",
              " '/content/asl_alphabet_train/asl_alphabet_train/A/A795.jpg',\n",
              " '/content/asl_alphabet_train/asl_alphabet_train/A/A795.jpg',\n",
              " '/content/asl_alphabet_train/asl_alphabet_train/A/A795.jpg',\n",
              " '/content/asl_alphabet_train/asl_alphabet_train/A/A795.jpg',\n",
              " '/content/asl_alphabet_train/asl_alphabet_train/A/A795.jpg',\n",
              " '/content/asl_alphabet_train/asl_alphabet_train/A/A795.jpg',\n",
              " '/content/asl_alphabet_train/asl_alphabet_train/A/A795.jpg',\n",
              " '/content/asl_alphabet_train/asl_alphabet_train/A/A795.jpg',\n",
              " '/content/asl_alphabet_train/asl_alphabet_train/A/A795.jpg',\n",
              " '/content/asl_alphabet_train/asl_alphabet_train/A/A795.jpg',\n",
              " '/content/asl_alphabet_train/asl_alphabet_train/A/A795.jpg',\n",
              " '/content/asl_alphabet_train/asl_alphabet_train/A/A795.jpg',\n",
              " '/content/asl_alphabet_train/asl_alphabet_train/A/A795.jpg',\n",
              " '/content/asl_alphabet_train/asl_alphabet_train/A/A795.jpg',\n",
              " '/content/asl_alphabet_train/asl_alphabet_train/A/A795.jpg',\n",
              " '/content/asl_alphabet_train/asl_alphabet_train/A/A795.jpg',\n",
              " '/content/asl_alphabet_train/asl_alphabet_train/A/A795.jpg',\n",
              " '/content/asl_alphabet_train/asl_alphabet_train/A/A795.jpg',\n",
              " '/content/asl_alphabet_train/asl_alphabet_train/A/A795.jpg',\n",
              " '/content/asl_alphabet_train/asl_alphabet_train/A/A795.jpg',\n",
              " '/content/asl_alphabet_train/asl_alphabet_train/A/A795.jpg',\n",
              " '/content/asl_alphabet_train/asl_alphabet_train/A/A795.jpg',\n",
              " '/content/asl_alphabet_train/asl_alphabet_train/A/A795.jpg',\n",
              " '/content/asl_alphabet_train/asl_alphabet_train/A/A795.jpg',\n",
              " '/content/asl_alphabet_train/asl_alphabet_train/A/A795.jpg',\n",
              " '/content/asl_alphabet_train/asl_alphabet_train/A/A795.jpg',\n",
              " '/content/asl_alphabet_train/asl_alphabet_train/A/A795.jpg',\n",
              " '/content/asl_alphabet_train/asl_alphabet_train/A/A795.jpg',\n",
              " '/content/asl_alphabet_train/asl_alphabet_train/A/A795.jpg',\n",
              " '/content/asl_alphabet_train/asl_alphabet_train/A/A1208.jpg',\n",
              " '/content/asl_alphabet_train/asl_alphabet_train/A/A1208.jpg',\n",
              " '/content/asl_alphabet_train/asl_alphabet_train/A/A1208.jpg',\n",
              " '/content/asl_alphabet_train/asl_alphabet_train/A/A1208.jpg',\n",
              " '/content/asl_alphabet_train/asl_alphabet_train/A/A1208.jpg',\n",
              " '/content/asl_alphabet_train/asl_alphabet_train/A/A1208.jpg',\n",
              " '/content/asl_alphabet_train/asl_alphabet_train/A/A1208.jpg',\n",
              " '/content/asl_alphabet_train/asl_alphabet_train/A/A1208.jpg',\n",
              " '/content/asl_alphabet_train/asl_alphabet_train/A/A1208.jpg',\n",
              " '/content/asl_alphabet_train/asl_alphabet_train/A/A1208.jpg',\n",
              " '/content/asl_alphabet_train/asl_alphabet_train/A/A1208.jpg',\n",
              " '/content/asl_alphabet_train/asl_alphabet_train/A/A1208.jpg',\n",
              " '/content/asl_alphabet_train/asl_alphabet_train/A/A1208.jpg',\n",
              " '/content/asl_alphabet_train/asl_alphabet_train/A/A1208.jpg',\n",
              " '/content/asl_alphabet_train/asl_alphabet_train/A/A1208.jpg',\n",
              " '/content/asl_alphabet_train/asl_alphabet_train/A/A1208.jpg',\n",
              " '/content/asl_alphabet_train/asl_alphabet_train/A/A1208.jpg',\n",
              " '/content/asl_alphabet_train/asl_alphabet_train/A/A1208.jpg',\n",
              " '/content/asl_alphabet_train/asl_alphabet_train/A/A1208.jpg',\n",
              " '/content/asl_alphabet_train/asl_alphabet_train/A/A1208.jpg',\n",
              " '/content/asl_alphabet_train/asl_alphabet_train/A/A1208.jpg',\n",
              " '/content/asl_alphabet_train/asl_alphabet_train/A/A1208.jpg',\n",
              " '/content/asl_alphabet_train/asl_alphabet_train/A/A1208.jpg',\n",
              " '/content/asl_alphabet_train/asl_alphabet_train/A/A1208.jpg',\n",
              " '/content/asl_alphabet_train/asl_alphabet_train/A/A1208.jpg',\n",
              " '/content/asl_alphabet_train/asl_alphabet_train/A/A1208.jpg',\n",
              " '/content/asl_alphabet_train/asl_alphabet_train/A/A1208.jpg',\n",
              " '/content/asl_alphabet_train/asl_alphabet_train/A/A1208.jpg',\n",
              " '/content/asl_alphabet_train/asl_alphabet_train/A/A1208.jpg',\n",
              " '/content/asl_alphabet_train/asl_alphabet_train/A/A7.jpg',\n",
              " '/content/asl_alphabet_train/asl_alphabet_train/A/A7.jpg',\n",
              " '/content/asl_alphabet_train/asl_alphabet_train/A/A7.jpg',\n",
              " '/content/asl_alphabet_train/asl_alphabet_train/A/A7.jpg',\n",
              " '/content/asl_alphabet_train/asl_alphabet_train/A/A7.jpg',\n",
              " '/content/asl_alphabet_train/asl_alphabet_train/A/A7.jpg',\n",
              " '/content/asl_alphabet_train/asl_alphabet_train/A/A7.jpg',\n",
              " '/content/asl_alphabet_train/asl_alphabet_train/A/A7.jpg',\n",
              " '/content/asl_alphabet_train/asl_alphabet_train/A/A7.jpg',\n",
              " '/content/asl_alphabet_train/asl_alphabet_train/A/A7.jpg',\n",
              " '/content/asl_alphabet_train/asl_alphabet_train/A/A7.jpg',\n",
              " '/content/asl_alphabet_train/asl_alphabet_train/A/A7.jpg',\n",
              " '/content/asl_alphabet_train/asl_alphabet_train/A/A7.jpg',\n",
              " '/content/asl_alphabet_train/asl_alphabet_train/A/A7.jpg',\n",
              " '/content/asl_alphabet_train/asl_alphabet_train/A/A7.jpg',\n",
              " '/content/asl_alphabet_train/asl_alphabet_train/A/A7.jpg',\n",
              " '/content/asl_alphabet_train/asl_alphabet_train/A/A7.jpg',\n",
              " '/content/asl_alphabet_train/asl_alphabet_train/A/A7.jpg',\n",
              " '/content/asl_alphabet_train/asl_alphabet_train/A/A7.jpg',\n",
              " '/content/asl_alphabet_train/asl_alphabet_train/A/A7.jpg',\n",
              " '/content/asl_alphabet_train/asl_alphabet_train/A/A7.jpg',\n",
              " '/content/asl_alphabet_train/asl_alphabet_train/A/A7.jpg',\n",
              " '/content/asl_alphabet_train/asl_alphabet_train/A/A7.jpg',\n",
              " '/content/asl_alphabet_train/asl_alphabet_train/A/A7.jpg',\n",
              " '/content/asl_alphabet_train/asl_alphabet_train/A/A7.jpg',\n",
              " '/content/asl_alphabet_train/asl_alphabet_train/A/A7.jpg',\n",
              " '/content/asl_alphabet_train/asl_alphabet_train/A/A7.jpg',\n",
              " '/content/asl_alphabet_train/asl_alphabet_train/A/A7.jpg',\n",
              " '/content/asl_alphabet_train/asl_alphabet_train/A/A7.jpg',\n",
              " '/content/asl_alphabet_train/asl_alphabet_train/A/A1675.jpg',\n",
              " '/content/asl_alphabet_train/asl_alphabet_train/A/A1675.jpg',\n",
              " '/content/asl_alphabet_train/asl_alphabet_train/A/A1675.jpg',\n",
              " '/content/asl_alphabet_train/asl_alphabet_train/A/A1675.jpg',\n",
              " '/content/asl_alphabet_train/asl_alphabet_train/A/A1675.jpg',\n",
              " '/content/asl_alphabet_train/asl_alphabet_train/A/A1675.jpg',\n",
              " '/content/asl_alphabet_train/asl_alphabet_train/A/A1675.jpg',\n",
              " '/content/asl_alphabet_train/asl_alphabet_train/A/A1675.jpg',\n",
              " '/content/asl_alphabet_train/asl_alphabet_train/A/A1675.jpg',\n",
              " '/content/asl_alphabet_train/asl_alphabet_train/A/A1675.jpg',\n",
              " '/content/asl_alphabet_train/asl_alphabet_train/A/A1675.jpg',\n",
              " '/content/asl_alphabet_train/asl_alphabet_train/A/A1675.jpg',\n",
              " '/content/asl_alphabet_train/asl_alphabet_train/A/A1675.jpg',\n",
              " '/content/asl_alphabet_train/asl_alphabet_train/A/A1675.jpg',\n",
              " '/content/asl_alphabet_train/asl_alphabet_train/A/A1675.jpg',\n",
              " '/content/asl_alphabet_train/asl_alphabet_train/A/A1675.jpg',\n",
              " '/content/asl_alphabet_train/asl_alphabet_train/A/A1675.jpg',\n",
              " '/content/asl_alphabet_train/asl_alphabet_train/A/A1675.jpg',\n",
              " '/content/asl_alphabet_train/asl_alphabet_train/A/A1675.jpg',\n",
              " '/content/asl_alphabet_train/asl_alphabet_train/A/A1675.jpg',\n",
              " '/content/asl_alphabet_train/asl_alphabet_train/A/A1675.jpg',\n",
              " '/content/asl_alphabet_train/asl_alphabet_train/A/A1675.jpg',\n",
              " '/content/asl_alphabet_train/asl_alphabet_train/A/A1675.jpg',\n",
              " '/content/asl_alphabet_train/asl_alphabet_train/A/A1675.jpg',\n",
              " '/content/asl_alphabet_train/asl_alphabet_train/A/A1675.jpg',\n",
              " '/content/asl_alphabet_train/asl_alphabet_train/A/A1675.jpg',\n",
              " '/content/asl_alphabet_train/asl_alphabet_train/A/A1675.jpg',\n",
              " '/content/asl_alphabet_train/asl_alphabet_train/A/A1675.jpg',\n",
              " '/content/asl_alphabet_train/asl_alphabet_train/A/A1675.jpg',\n",
              " '/content/asl_alphabet_train/asl_alphabet_train/A/A1577.jpg',\n",
              " '/content/asl_alphabet_train/asl_alphabet_train/A/A1577.jpg',\n",
              " '/content/asl_alphabet_train/asl_alphabet_train/A/A1577.jpg',\n",
              " '/content/asl_alphabet_train/asl_alphabet_train/A/A1577.jpg',\n",
              " '/content/asl_alphabet_train/asl_alphabet_train/A/A1577.jpg',\n",
              " '/content/asl_alphabet_train/asl_alphabet_train/A/A1577.jpg',\n",
              " '/content/asl_alphabet_train/asl_alphabet_train/A/A1577.jpg',\n",
              " '/content/asl_alphabet_train/asl_alphabet_train/A/A1577.jpg',\n",
              " '/content/asl_alphabet_train/asl_alphabet_train/A/A1577.jpg',\n",
              " '/content/asl_alphabet_train/asl_alphabet_train/A/A1577.jpg',\n",
              " '/content/asl_alphabet_train/asl_alphabet_train/A/A1577.jpg',\n",
              " '/content/asl_alphabet_train/asl_alphabet_train/A/A1577.jpg',\n",
              " '/content/asl_alphabet_train/asl_alphabet_train/A/A1577.jpg',\n",
              " '/content/asl_alphabet_train/asl_alphabet_train/A/A1577.jpg',\n",
              " '/content/asl_alphabet_train/asl_alphabet_train/A/A1577.jpg',\n",
              " '/content/asl_alphabet_train/asl_alphabet_train/A/A1577.jpg',\n",
              " '/content/asl_alphabet_train/asl_alphabet_train/A/A1577.jpg',\n",
              " '/content/asl_alphabet_train/asl_alphabet_train/A/A1577.jpg',\n",
              " '/content/asl_alphabet_train/asl_alphabet_train/A/A1577.jpg',\n",
              " '/content/asl_alphabet_train/asl_alphabet_train/A/A1577.jpg',\n",
              " '/content/asl_alphabet_train/asl_alphabet_train/A/A1577.jpg',\n",
              " '/content/asl_alphabet_train/asl_alphabet_train/A/A1577.jpg',\n",
              " '/content/asl_alphabet_train/asl_alphabet_train/A/A1577.jpg',\n",
              " '/content/asl_alphabet_train/asl_alphabet_train/A/A1577.jpg',\n",
              " '/content/asl_alphabet_train/asl_alphabet_train/A/A1577.jpg',\n",
              " '/content/asl_alphabet_train/asl_alphabet_train/A/A1577.jpg',\n",
              " '/content/asl_alphabet_train/asl_alphabet_train/A/A1577.jpg',\n",
              " '/content/asl_alphabet_train/asl_alphabet_train/A/A1577.jpg',\n",
              " '/content/asl_alphabet_train/asl_alphabet_train/A/A1577.jpg',\n",
              " '/content/asl_alphabet_train/asl_alphabet_train/A/A1113.jpg',\n",
              " '/content/asl_alphabet_train/asl_alphabet_train/A/A1113.jpg',\n",
              " '/content/asl_alphabet_train/asl_alphabet_train/A/A1113.jpg',\n",
              " '/content/asl_alphabet_train/asl_alphabet_train/A/A1113.jpg',\n",
              " '/content/asl_alphabet_train/asl_alphabet_train/A/A1113.jpg',\n",
              " '/content/asl_alphabet_train/asl_alphabet_train/A/A1113.jpg',\n",
              " '/content/asl_alphabet_train/asl_alphabet_train/A/A1113.jpg',\n",
              " '/content/asl_alphabet_train/asl_alphabet_train/A/A1113.jpg',\n",
              " '/content/asl_alphabet_train/asl_alphabet_train/A/A1113.jpg',\n",
              " '/content/asl_alphabet_train/asl_alphabet_train/A/A1113.jpg',\n",
              " '/content/asl_alphabet_train/asl_alphabet_train/A/A1113.jpg',\n",
              " '/content/asl_alphabet_train/asl_alphabet_train/A/A1113.jpg',\n",
              " '/content/asl_alphabet_train/asl_alphabet_train/A/A1113.jpg',\n",
              " '/content/asl_alphabet_train/asl_alphabet_train/A/A1113.jpg',\n",
              " '/content/asl_alphabet_train/asl_alphabet_train/A/A1113.jpg',\n",
              " '/content/asl_alphabet_train/asl_alphabet_train/A/A1113.jpg',\n",
              " '/content/asl_alphabet_train/asl_alphabet_train/A/A1113.jpg',\n",
              " '/content/asl_alphabet_train/asl_alphabet_train/A/A1113.jpg',\n",
              " '/content/asl_alphabet_train/asl_alphabet_train/A/A1113.jpg',\n",
              " '/content/asl_alphabet_train/asl_alphabet_train/A/A1113.jpg',\n",
              " '/content/asl_alphabet_train/asl_alphabet_train/A/A1113.jpg',\n",
              " '/content/asl_alphabet_train/asl_alphabet_train/A/A1113.jpg',\n",
              " '/content/asl_alphabet_train/asl_alphabet_train/A/A1113.jpg',\n",
              " '/content/asl_alphabet_train/asl_alphabet_train/A/A1113.jpg',\n",
              " '/content/asl_alphabet_train/asl_alphabet_train/A/A1113.jpg',\n",
              " '/content/asl_alphabet_train/asl_alphabet_train/A/A1113.jpg',\n",
              " '/content/asl_alphabet_train/asl_alphabet_train/A/A1113.jpg',\n",
              " '/content/asl_alphabet_train/asl_alphabet_train/A/A1113.jpg',\n",
              " '/content/asl_alphabet_train/asl_alphabet_train/A/A1113.jpg',\n",
              " '/content/asl_alphabet_train/asl_alphabet_train/A/A2504.jpg',\n",
              " '/content/asl_alphabet_train/asl_alphabet_train/A/A2504.jpg',\n",
              " '/content/asl_alphabet_train/asl_alphabet_train/A/A2504.jpg',\n",
              " '/content/asl_alphabet_train/asl_alphabet_train/A/A2504.jpg',\n",
              " '/content/asl_alphabet_train/asl_alphabet_train/A/A2504.jpg',\n",
              " '/content/asl_alphabet_train/asl_alphabet_train/A/A2504.jpg',\n",
              " '/content/asl_alphabet_train/asl_alphabet_train/A/A2504.jpg',\n",
              " '/content/asl_alphabet_train/asl_alphabet_train/A/A2504.jpg',\n",
              " '/content/asl_alphabet_train/asl_alphabet_train/A/A2504.jpg',\n",
              " '/content/asl_alphabet_train/asl_alphabet_train/A/A2504.jpg',\n",
              " '/content/asl_alphabet_train/asl_alphabet_train/A/A2504.jpg',\n",
              " '/content/asl_alphabet_train/asl_alphabet_train/A/A2504.jpg',\n",
              " '/content/asl_alphabet_train/asl_alphabet_train/A/A2504.jpg',\n",
              " '/content/asl_alphabet_train/asl_alphabet_train/A/A2504.jpg',\n",
              " '/content/asl_alphabet_train/asl_alphabet_train/A/A2504.jpg',\n",
              " '/content/asl_alphabet_train/asl_alphabet_train/A/A2504.jpg',\n",
              " '/content/asl_alphabet_train/asl_alphabet_train/A/A2504.jpg',\n",
              " '/content/asl_alphabet_train/asl_alphabet_train/A/A2504.jpg',\n",
              " '/content/asl_alphabet_train/asl_alphabet_train/A/A2504.jpg',\n",
              " '/content/asl_alphabet_train/asl_alphabet_train/A/A2504.jpg',\n",
              " '/content/asl_alphabet_train/asl_alphabet_train/A/A2504.jpg',\n",
              " '/content/asl_alphabet_train/asl_alphabet_train/A/A2504.jpg',\n",
              " '/content/asl_alphabet_train/asl_alphabet_train/A/A2504.jpg',\n",
              " '/content/asl_alphabet_train/asl_alphabet_train/A/A2504.jpg',\n",
              " '/content/asl_alphabet_train/asl_alphabet_train/A/A2504.jpg',\n",
              " '/content/asl_alphabet_train/asl_alphabet_train/A/A2504.jpg',\n",
              " '/content/asl_alphabet_train/asl_alphabet_train/A/A2504.jpg',\n",
              " '/content/asl_alphabet_train/asl_alphabet_train/A/A2504.jpg',\n",
              " '/content/asl_alphabet_train/asl_alphabet_train/A/A2504.jpg',\n",
              " '/content/asl_alphabet_train/asl_alphabet_train/A/A2490.jpg',\n",
              " '/content/asl_alphabet_train/asl_alphabet_train/A/A2490.jpg',\n",
              " '/content/asl_alphabet_train/asl_alphabet_train/A/A2490.jpg',\n",
              " '/content/asl_alphabet_train/asl_alphabet_train/A/A2490.jpg',\n",
              " '/content/asl_alphabet_train/asl_alphabet_train/A/A2490.jpg',\n",
              " '/content/asl_alphabet_train/asl_alphabet_train/A/A2490.jpg',\n",
              " '/content/asl_alphabet_train/asl_alphabet_train/A/A2490.jpg',\n",
              " '/content/asl_alphabet_train/asl_alphabet_train/A/A2490.jpg',\n",
              " '/content/asl_alphabet_train/asl_alphabet_train/A/A2490.jpg',\n",
              " '/content/asl_alphabet_train/asl_alphabet_train/A/A2490.jpg',\n",
              " '/content/asl_alphabet_train/asl_alphabet_train/A/A2490.jpg',\n",
              " '/content/asl_alphabet_train/asl_alphabet_train/A/A2490.jpg',\n",
              " '/content/asl_alphabet_train/asl_alphabet_train/A/A2490.jpg',\n",
              " '/content/asl_alphabet_train/asl_alphabet_train/A/A2490.jpg',\n",
              " '/content/asl_alphabet_train/asl_alphabet_train/A/A2490.jpg',\n",
              " '/content/asl_alphabet_train/asl_alphabet_train/A/A2490.jpg',\n",
              " '/content/asl_alphabet_train/asl_alphabet_train/A/A2490.jpg',\n",
              " '/content/asl_alphabet_train/asl_alphabet_train/A/A2490.jpg',\n",
              " '/content/asl_alphabet_train/asl_alphabet_train/A/A2490.jpg',\n",
              " '/content/asl_alphabet_train/asl_alphabet_train/A/A2490.jpg',\n",
              " '/content/asl_alphabet_train/asl_alphabet_train/A/A2490.jpg',\n",
              " '/content/asl_alphabet_train/asl_alphabet_train/A/A2490.jpg',\n",
              " '/content/asl_alphabet_train/asl_alphabet_train/A/A2490.jpg',\n",
              " '/content/asl_alphabet_train/asl_alphabet_train/A/A2490.jpg',\n",
              " '/content/asl_alphabet_train/asl_alphabet_train/A/A2490.jpg',\n",
              " '/content/asl_alphabet_train/asl_alphabet_train/A/A2490.jpg',\n",
              " '/content/asl_alphabet_train/asl_alphabet_train/A/A2490.jpg',\n",
              " '/content/asl_alphabet_train/asl_alphabet_train/A/A2490.jpg',\n",
              " '/content/asl_alphabet_train/asl_alphabet_train/A/A2490.jpg',\n",
              " '/content/asl_alphabet_train/asl_alphabet_train/A/A1529.jpg',\n",
              " '/content/asl_alphabet_train/asl_alphabet_train/A/A1529.jpg',\n",
              " '/content/asl_alphabet_train/asl_alphabet_train/A/A1529.jpg',\n",
              " '/content/asl_alphabet_train/asl_alphabet_train/A/A1529.jpg',\n",
              " '/content/asl_alphabet_train/asl_alphabet_train/A/A1529.jpg',\n",
              " '/content/asl_alphabet_train/asl_alphabet_train/A/A1529.jpg',\n",
              " '/content/asl_alphabet_train/asl_alphabet_train/A/A1529.jpg',\n",
              " '/content/asl_alphabet_train/asl_alphabet_train/A/A1529.jpg',\n",
              " '/content/asl_alphabet_train/asl_alphabet_train/A/A1529.jpg',\n",
              " '/content/asl_alphabet_train/asl_alphabet_train/A/A1529.jpg',\n",
              " '/content/asl_alphabet_train/asl_alphabet_train/A/A1529.jpg',\n",
              " '/content/asl_alphabet_train/asl_alphabet_train/A/A1529.jpg',\n",
              " '/content/asl_alphabet_train/asl_alphabet_train/A/A1529.jpg',\n",
              " '/content/asl_alphabet_train/asl_alphabet_train/A/A1529.jpg',\n",
              " '/content/asl_alphabet_train/asl_alphabet_train/A/A1529.jpg',\n",
              " '/content/asl_alphabet_train/asl_alphabet_train/A/A1529.jpg',\n",
              " '/content/asl_alphabet_train/asl_alphabet_train/A/A1529.jpg',\n",
              " '/content/asl_alphabet_train/asl_alphabet_train/A/A1529.jpg',\n",
              " '/content/asl_alphabet_train/asl_alphabet_train/A/A1529.jpg',\n",
              " '/content/asl_alphabet_train/asl_alphabet_train/A/A1529.jpg',\n",
              " '/content/asl_alphabet_train/asl_alphabet_train/A/A1529.jpg',\n",
              " '/content/asl_alphabet_train/asl_alphabet_train/A/A1529.jpg',\n",
              " '/content/asl_alphabet_train/asl_alphabet_train/A/A1529.jpg',\n",
              " '/content/asl_alphabet_train/asl_alphabet_train/A/A1529.jpg',\n",
              " '/content/asl_alphabet_train/asl_alphabet_train/A/A1529.jpg',\n",
              " '/content/asl_alphabet_train/asl_alphabet_train/A/A1529.jpg',\n",
              " '/content/asl_alphabet_train/asl_alphabet_train/A/A1529.jpg',\n",
              " '/content/asl_alphabet_train/asl_alphabet_train/A/A1529.jpg',\n",
              " '/content/asl_alphabet_train/asl_alphabet_train/A/A1529.jpg',\n",
              " '/content/asl_alphabet_train/asl_alphabet_train/A/A122.jpg',\n",
              " '/content/asl_alphabet_train/asl_alphabet_train/A/A122.jpg',\n",
              " '/content/asl_alphabet_train/asl_alphabet_train/A/A122.jpg',\n",
              " '/content/asl_alphabet_train/asl_alphabet_train/A/A122.jpg',\n",
              " '/content/asl_alphabet_train/asl_alphabet_train/A/A122.jpg',\n",
              " '/content/asl_alphabet_train/asl_alphabet_train/A/A122.jpg',\n",
              " '/content/asl_alphabet_train/asl_alphabet_train/A/A122.jpg',\n",
              " '/content/asl_alphabet_train/asl_alphabet_train/A/A122.jpg',\n",
              " '/content/asl_alphabet_train/asl_alphabet_train/A/A122.jpg',\n",
              " '/content/asl_alphabet_train/asl_alphabet_train/A/A122.jpg',\n",
              " '/content/asl_alphabet_train/asl_alphabet_train/A/A122.jpg',\n",
              " '/content/asl_alphabet_train/asl_alphabet_train/A/A122.jpg',\n",
              " '/content/asl_alphabet_train/asl_alphabet_train/A/A122.jpg',\n",
              " '/content/asl_alphabet_train/asl_alphabet_train/A/A122.jpg',\n",
              " '/content/asl_alphabet_train/asl_alphabet_train/A/A122.jpg',\n",
              " '/content/asl_alphabet_train/asl_alphabet_train/A/A122.jpg',\n",
              " '/content/asl_alphabet_train/asl_alphabet_train/A/A122.jpg',\n",
              " '/content/asl_alphabet_train/asl_alphabet_train/A/A122.jpg',\n",
              " '/content/asl_alphabet_train/asl_alphabet_train/A/A122.jpg',\n",
              " '/content/asl_alphabet_train/asl_alphabet_train/A/A122.jpg',\n",
              " '/content/asl_alphabet_train/asl_alphabet_train/A/A122.jpg',\n",
              " '/content/asl_alphabet_train/asl_alphabet_train/A/A122.jpg',\n",
              " '/content/asl_alphabet_train/asl_alphabet_train/A/A122.jpg',\n",
              " '/content/asl_alphabet_train/asl_alphabet_train/A/A122.jpg',\n",
              " '/content/asl_alphabet_train/asl_alphabet_train/A/A122.jpg',\n",
              " '/content/asl_alphabet_train/asl_alphabet_train/A/A122.jpg',\n",
              " '/content/asl_alphabet_train/asl_alphabet_train/A/A122.jpg',\n",
              " '/content/asl_alphabet_train/asl_alphabet_train/A/A122.jpg',\n",
              " '/content/asl_alphabet_train/asl_alphabet_train/A/A122.jpg',\n",
              " '/content/asl_alphabet_train/asl_alphabet_train/A/A1473.jpg',\n",
              " '/content/asl_alphabet_train/asl_alphabet_train/A/A1473.jpg',\n",
              " '/content/asl_alphabet_train/asl_alphabet_train/A/A1473.jpg',\n",
              " '/content/asl_alphabet_train/asl_alphabet_train/A/A1473.jpg',\n",
              " '/content/asl_alphabet_train/asl_alphabet_train/A/A1473.jpg',\n",
              " '/content/asl_alphabet_train/asl_alphabet_train/A/A1473.jpg',\n",
              " '/content/asl_alphabet_train/asl_alphabet_train/A/A1473.jpg',\n",
              " '/content/asl_alphabet_train/asl_alphabet_train/A/A1473.jpg',\n",
              " '/content/asl_alphabet_train/asl_alphabet_train/A/A1473.jpg',\n",
              " '/content/asl_alphabet_train/asl_alphabet_train/A/A1473.jpg',\n",
              " '/content/asl_alphabet_train/asl_alphabet_train/A/A1473.jpg',\n",
              " '/content/asl_alphabet_train/asl_alphabet_train/A/A1473.jpg',\n",
              " '/content/asl_alphabet_train/asl_alphabet_train/A/A1473.jpg',\n",
              " '/content/asl_alphabet_train/asl_alphabet_train/A/A1473.jpg',\n",
              " '/content/asl_alphabet_train/asl_alphabet_train/A/A1473.jpg',\n",
              " '/content/asl_alphabet_train/asl_alphabet_train/A/A1473.jpg',\n",
              " '/content/asl_alphabet_train/asl_alphabet_train/A/A1473.jpg',\n",
              " '/content/asl_alphabet_train/asl_alphabet_train/A/A1473.jpg',\n",
              " '/content/asl_alphabet_train/asl_alphabet_train/A/A1473.jpg',\n",
              " '/content/asl_alphabet_train/asl_alphabet_train/A/A1473.jpg',\n",
              " '/content/asl_alphabet_train/asl_alphabet_train/A/A1473.jpg',\n",
              " '/content/asl_alphabet_train/asl_alphabet_train/A/A1473.jpg',\n",
              " '/content/asl_alphabet_train/asl_alphabet_train/A/A1473.jpg',\n",
              " '/content/asl_alphabet_train/asl_alphabet_train/A/A1473.jpg',\n",
              " '/content/asl_alphabet_train/asl_alphabet_train/A/A1473.jpg',\n",
              " '/content/asl_alphabet_train/asl_alphabet_train/A/A1473.jpg',\n",
              " '/content/asl_alphabet_train/asl_alphabet_train/A/A1473.jpg',\n",
              " '/content/asl_alphabet_train/asl_alphabet_train/A/A1473.jpg',\n",
              " '/content/asl_alphabet_train/asl_alphabet_train/A/A1473.jpg',\n",
              " '/content/asl_alphabet_train/asl_alphabet_train/A/A611.jpg',\n",
              " '/content/asl_alphabet_train/asl_alphabet_train/A/A611.jpg',\n",
              " '/content/asl_alphabet_train/asl_alphabet_train/A/A611.jpg',\n",
              " '/content/asl_alphabet_train/asl_alphabet_train/A/A611.jpg',\n",
              " '/content/asl_alphabet_train/asl_alphabet_train/A/A611.jpg',\n",
              " '/content/asl_alphabet_train/asl_alphabet_train/A/A611.jpg',\n",
              " '/content/asl_alphabet_train/asl_alphabet_train/A/A611.jpg',\n",
              " '/content/asl_alphabet_train/asl_alphabet_train/A/A611.jpg',\n",
              " '/content/asl_alphabet_train/asl_alphabet_train/A/A611.jpg',\n",
              " '/content/asl_alphabet_train/asl_alphabet_train/A/A611.jpg',\n",
              " '/content/asl_alphabet_train/asl_alphabet_train/A/A611.jpg',\n",
              " '/content/asl_alphabet_train/asl_alphabet_train/A/A611.jpg',\n",
              " '/content/asl_alphabet_train/asl_alphabet_train/A/A611.jpg',\n",
              " '/content/asl_alphabet_train/asl_alphabet_train/A/A611.jpg',\n",
              " '/content/asl_alphabet_train/asl_alphabet_train/A/A611.jpg',\n",
              " '/content/asl_alphabet_train/asl_alphabet_train/A/A611.jpg',\n",
              " '/content/asl_alphabet_train/asl_alphabet_train/A/A611.jpg',\n",
              " '/content/asl_alphabet_train/asl_alphabet_train/A/A611.jpg',\n",
              " '/content/asl_alphabet_train/asl_alphabet_train/A/A611.jpg',\n",
              " '/content/asl_alphabet_train/asl_alphabet_train/A/A611.jpg',\n",
              " '/content/asl_alphabet_train/asl_alphabet_train/A/A611.jpg',\n",
              " '/content/asl_alphabet_train/asl_alphabet_train/A/A611.jpg',\n",
              " '/content/asl_alphabet_train/asl_alphabet_train/A/A611.jpg',\n",
              " '/content/asl_alphabet_train/asl_alphabet_train/A/A611.jpg',\n",
              " '/content/asl_alphabet_train/asl_alphabet_train/A/A611.jpg',\n",
              " '/content/asl_alphabet_train/asl_alphabet_train/A/A611.jpg',\n",
              " '/content/asl_alphabet_train/asl_alphabet_train/A/A611.jpg',\n",
              " '/content/asl_alphabet_train/asl_alphabet_train/A/A611.jpg',\n",
              " '/content/asl_alphabet_train/asl_alphabet_train/A/A611.jpg',\n",
              " '/content/asl_alphabet_train/asl_alphabet_train/A/A857.jpg',\n",
              " '/content/asl_alphabet_train/asl_alphabet_train/A/A857.jpg',\n",
              " '/content/asl_alphabet_train/asl_alphabet_train/A/A857.jpg',\n",
              " '/content/asl_alphabet_train/asl_alphabet_train/A/A857.jpg',\n",
              " '/content/asl_alphabet_train/asl_alphabet_train/A/A857.jpg',\n",
              " '/content/asl_alphabet_train/asl_alphabet_train/A/A857.jpg',\n",
              " '/content/asl_alphabet_train/asl_alphabet_train/A/A857.jpg',\n",
              " '/content/asl_alphabet_train/asl_alphabet_train/A/A857.jpg',\n",
              " '/content/asl_alphabet_train/asl_alphabet_train/A/A857.jpg',\n",
              " '/content/asl_alphabet_train/asl_alphabet_train/A/A857.jpg',\n",
              " '/content/asl_alphabet_train/asl_alphabet_train/A/A857.jpg',\n",
              " '/content/asl_alphabet_train/asl_alphabet_train/A/A857.jpg',\n",
              " '/content/asl_alphabet_train/asl_alphabet_train/A/A857.jpg',\n",
              " '/content/asl_alphabet_train/asl_alphabet_train/A/A857.jpg',\n",
              " '/content/asl_alphabet_train/asl_alphabet_train/A/A857.jpg',\n",
              " '/content/asl_alphabet_train/asl_alphabet_train/A/A857.jpg',\n",
              " '/content/asl_alphabet_train/asl_alphabet_train/A/A857.jpg',\n",
              " '/content/asl_alphabet_train/asl_alphabet_train/A/A857.jpg',\n",
              " '/content/asl_alphabet_train/asl_alphabet_train/A/A857.jpg',\n",
              " '/content/asl_alphabet_train/asl_alphabet_train/A/A857.jpg',\n",
              " '/content/asl_alphabet_train/asl_alphabet_train/A/A857.jpg',\n",
              " '/content/asl_alphabet_train/asl_alphabet_train/A/A857.jpg',\n",
              " '/content/asl_alphabet_train/asl_alphabet_train/A/A857.jpg',\n",
              " '/content/asl_alphabet_train/asl_alphabet_train/A/A857.jpg',\n",
              " '/content/asl_alphabet_train/asl_alphabet_train/A/A857.jpg',\n",
              " '/content/asl_alphabet_train/asl_alphabet_train/A/A857.jpg',\n",
              " '/content/asl_alphabet_train/asl_alphabet_train/A/A857.jpg',\n",
              " '/content/asl_alphabet_train/asl_alphabet_train/A/A857.jpg',\n",
              " '/content/asl_alphabet_train/asl_alphabet_train/A/A857.jpg',\n",
              " '/content/asl_alphabet_train/asl_alphabet_train/A/A316.jpg',\n",
              " '/content/asl_alphabet_train/asl_alphabet_train/A/A316.jpg',\n",
              " '/content/asl_alphabet_train/asl_alphabet_train/A/A316.jpg',\n",
              " '/content/asl_alphabet_train/asl_alphabet_train/A/A316.jpg',\n",
              " '/content/asl_alphabet_train/asl_alphabet_train/A/A316.jpg',\n",
              " '/content/asl_alphabet_train/asl_alphabet_train/A/A316.jpg',\n",
              " '/content/asl_alphabet_train/asl_alphabet_train/A/A316.jpg',\n",
              " '/content/asl_alphabet_train/asl_alphabet_train/A/A316.jpg',\n",
              " '/content/asl_alphabet_train/asl_alphabet_train/A/A316.jpg',\n",
              " '/content/asl_alphabet_train/asl_alphabet_train/A/A316.jpg',\n",
              " '/content/asl_alphabet_train/asl_alphabet_train/A/A316.jpg',\n",
              " '/content/asl_alphabet_train/asl_alphabet_train/A/A316.jpg',\n",
              " '/content/asl_alphabet_train/asl_alphabet_train/A/A316.jpg',\n",
              " '/content/asl_alphabet_train/asl_alphabet_train/A/A316.jpg',\n",
              " ...]"
            ]
          },
          "metadata": {
            "tags": []
          },
          "execution_count": 8
        }
      ]
    },
    {
      "cell_type": "code",
      "metadata": {
        "id": "jf_X50nXzt54"
      },
      "source": [
        "image_paths = list(set(image_paths))"
      ],
      "execution_count": 9,
      "outputs": []
    },
    {
      "cell_type": "code",
      "metadata": {
        "id": "g_uPak5qcFkK",
        "colab": {
          "base_uri": "https://localhost:8080/",
          "height": 217
        },
        "outputId": "d5794fcc-cd81-4665-b8f8-7856daeae8f7"
      },
      "source": [
        "from IPython.display import Image\n",
        "\n",
        "Image(image_paths[0])"
      ],
      "execution_count": 10,
      "outputs": [
        {
          "output_type": "execute_result",
          "data": {
            "image/jpeg": "[encoded data removed]",
            "text/plain": [
              "<IPython.core.display.Image object>"
            ]
          },
          "metadata": {
            "tags": []
          },
          "execution_count": 10
        }
      ]
    },
    {
      "cell_type": "code",
      "metadata": {
        "id": "q2ZEby6noHQT"
      },
      "source": [
        ""
      ],
      "execution_count": 10,
      "outputs": []
    },
    {
      "cell_type": "code",
      "metadata": {
        "colab": {
          "base_uri": "https://localhost:8080/",
          "height": 36
        },
        "id": "loNk5ABurAgm",
        "outputId": "18fc4f36-3fc7-48b7-e6a5-f75e4c500058"
      },
      "source": [
        "idandlabels = []\n",
        "for image_path in image_paths:\n",
        "  first_step = image_path.replace('/content/asl_alphabet_train/asl_alphabet_train/', '')\n",
        "  second_step = first_step.split('/')[1]\n",
        "  third_step = second_step.replace(\".jpg\", '')\n",
        "  idandlabels.append(third_step)\n",
        "\n",
        "idandlabels[6]"
      ],
      "execution_count": 11,
      "outputs": [
        {
          "output_type": "execute_result",
          "data": {
            "application/vnd.google.colaboratory.intrinsic+json": {
              "type": "string"
            },
            "text/plain": [
              "'S496'"
            ]
          },
          "metadata": {
            "tags": []
          },
          "execution_count": 11
        }
      ]
    },
    {
      "cell_type": "code",
      "metadata": {
        "colab": {
          "base_uri": "https://localhost:8080/"
        },
        "id": "1IvWEC3wwyuW",
        "outputId": "bf96458a-c3f9-47a1-914d-4ac2336b143a"
      },
      "source": [
        "ids_for_df = []\n",
        "labels_for_df = []\n",
        "for string in idandlabels:\n",
        "  id = ''\n",
        "  label = ''\n",
        "  for char in string:\n",
        "    if char.isnumeric():\n",
        "      id += char\n",
        "    else:\n",
        "      label += char\n",
        "  ids_for_df.append(id)\n",
        "  labels_for_df.append(label)\n",
        "\n",
        "labels_for_df[0], ids_for_df[0]"
      ],
      "execution_count": 12,
      "outputs": [
        {
          "output_type": "execute_result",
          "data": {
            "text/plain": [
              "('N', '1776')"
            ]
          },
          "metadata": {
            "tags": []
          },
          "execution_count": 12
        }
      ]
    },
    {
      "cell_type": "code",
      "metadata": {
        "colab": {
          "base_uri": "https://localhost:8080/",
          "height": 213
        },
        "id": "XyuLse2tyE9u",
        "outputId": "075f85e8-00e4-46ad-84f9-76f898fd7d06"
      },
      "source": [
        "labels_df = pd.DataFrame(data={'ids':ids_for_df, 'labels': labels_for_df})\n",
        "labels_df.head()"
      ],
      "execution_count": 13,
      "outputs": [
        {
          "output_type": "execute_result",
          "data": {
            "text/html": [
              "<div>\n",
              "<style scoped>\n",
              "    .dataframe tbody tr th:only-of-type {\n",
              "        vertical-align: middle;\n",
              "    }\n",
              "\n",
              "    .dataframe tbody tr th {\n",
              "        vertical-align: top;\n",
              "    }\n",
              "\n",
              "    .dataframe thead th {\n",
              "        text-align: right;\n",
              "    }\n",
              "</style>\n",
              "<table border=\"1\" class=\"dataframe\">\n",
              "  <thead>\n",
              "    <tr style=\"text-align: right;\">\n",
              "      <th></th>\n",
              "      <th>ids</th>\n",
              "      <th>labels</th>\n",
              "    </tr>\n",
              "  </thead>\n",
              "  <tbody>\n",
              "    <tr>\n",
              "      <th>0</th>\n",
              "      <td>1776</td>\n",
              "      <td>N</td>\n",
              "    </tr>\n",
              "    <tr>\n",
              "      <th>1</th>\n",
              "      <td>2141</td>\n",
              "      <td>C</td>\n",
              "    </tr>\n",
              "    <tr>\n",
              "      <th>2</th>\n",
              "      <td>801</td>\n",
              "      <td>G</td>\n",
              "    </tr>\n",
              "    <tr>\n",
              "      <th>3</th>\n",
              "      <td>596</td>\n",
              "      <td>Y</td>\n",
              "    </tr>\n",
              "    <tr>\n",
              "      <th>4</th>\n",
              "      <td>2614</td>\n",
              "      <td>G</td>\n",
              "    </tr>\n",
              "  </tbody>\n",
              "</table>\n",
              "</div>"
            ],
            "text/plain": [
              "    ids labels\n",
              "0  1776      N\n",
              "1  2141      C\n",
              "2   801      G\n",
              "3   596      Y\n",
              "4  2614      G"
            ]
          },
          "metadata": {
            "tags": []
          },
          "execution_count": 13
        }
      ]
    },
    {
      "cell_type": "code",
      "metadata": {
        "colab": {
          "base_uri": "https://localhost:8080/",
          "height": 213
        },
        "id": "2p9HWxPMySIc",
        "outputId": "68a54afb-b060-499c-bd16-bac722929a9c"
      },
      "source": [
        "labels_df.tail()"
      ],
      "execution_count": 14,
      "outputs": [
        {
          "output_type": "execute_result",
          "data": {
            "text/html": [
              "<div>\n",
              "<style scoped>\n",
              "    .dataframe tbody tr th:only-of-type {\n",
              "        vertical-align: middle;\n",
              "    }\n",
              "\n",
              "    .dataframe tbody tr th {\n",
              "        vertical-align: top;\n",
              "    }\n",
              "\n",
              "    .dataframe thead th {\n",
              "        text-align: right;\n",
              "    }\n",
              "</style>\n",
              "<table border=\"1\" class=\"dataframe\">\n",
              "  <thead>\n",
              "    <tr style=\"text-align: right;\">\n",
              "      <th></th>\n",
              "      <th>ids</th>\n",
              "      <th>labels</th>\n",
              "    </tr>\n",
              "  </thead>\n",
              "  <tbody>\n",
              "    <tr>\n",
              "      <th>86995</th>\n",
              "      <td>1589</td>\n",
              "      <td>I</td>\n",
              "    </tr>\n",
              "    <tr>\n",
              "      <th>86996</th>\n",
              "      <td>2552</td>\n",
              "      <td>R</td>\n",
              "    </tr>\n",
              "    <tr>\n",
              "      <th>86997</th>\n",
              "      <td>1122</td>\n",
              "      <td>S</td>\n",
              "    </tr>\n",
              "    <tr>\n",
              "      <th>86998</th>\n",
              "      <td>912</td>\n",
              "      <td>X</td>\n",
              "    </tr>\n",
              "    <tr>\n",
              "      <th>86999</th>\n",
              "      <td>1046</td>\n",
              "      <td>C</td>\n",
              "    </tr>\n",
              "  </tbody>\n",
              "</table>\n",
              "</div>"
            ],
            "text/plain": [
              "        ids labels\n",
              "86995  1589      I\n",
              "86996  2552      R\n",
              "86997  1122      S\n",
              "86998   912      X\n",
              "86999  1046      C"
            ]
          },
          "metadata": {
            "tags": []
          },
          "execution_count": 14
        }
      ]
    },
    {
      "cell_type": "code",
      "metadata": {
        "id": "b_XrVfDgyaZk",
        "colab": {
          "base_uri": "https://localhost:8080/"
        },
        "outputId": "da106183-73c0-438b-abf5-d531f22ab68b"
      },
      "source": [
        "# labels_df.sort_values(by=['labels', 'ids'], ignore_index=True, inplace=True)\n",
        "len(labels_df)"
      ],
      "execution_count": 15,
      "outputs": [
        {
          "output_type": "execute_result",
          "data": {
            "text/plain": [
              "87000"
            ]
          },
          "metadata": {
            "tags": []
          },
          "execution_count": 15
        }
      ]
    },
    {
      "cell_type": "markdown",
      "metadata": {
        "id": "ZvZ5uKla5bpk"
      },
      "source": [
        "yasssssssss!!!!"
      ]
    },
    {
      "cell_type": "code",
      "metadata": {
        "colab": {
          "base_uri": "https://localhost:8080/"
        },
        "id": "t_46jRbT6Hy0",
        "outputId": "8d6f31df-3797-40f2-9260-7e9617fa58d2"
      },
      "source": [
        "np.array(labels_df.labels)[0] == np.array(alphabets)"
      ],
      "execution_count": 16,
      "outputs": [
        {
          "output_type": "execute_result",
          "data": {
            "text/plain": [
              "array([False, False, False, False, False, False, False, False, False,\n",
              "       False, False, False, False,  True, False, False, False, False,\n",
              "       False, False, False, False, False, False, False, False, False,\n",
              "       False, False])"
            ]
          },
          "metadata": {
            "tags": []
          },
          "execution_count": 16
        }
      ]
    },
    {
      "cell_type": "markdown",
      "metadata": {
        "id": "H1SN_95s-N0k"
      },
      "source": [
        "What next:\n",
        "\n",
        "* convert every label to an array of bools\n",
        "* Numerically encode them\n",
        "* Convert the images and batch them up\n",
        "* Modelling\n",
        "* Improving\n",
        "* Deploy"
      ]
    },
    {
      "cell_type": "code",
      "metadata": {
        "colab": {
          "base_uri": "https://localhost:8080/"
        },
        "id": "avfsAvhXeE4S",
        "outputId": "5814193b-644c-4af5-e28f-cd11bb54f81e"
      },
      "source": [
        "labels = labels_df['labels']\n",
        "boolean_labels = [label == alphabets for label in labels]\n",
        "boolean_labels[:2]"
      ],
      "execution_count": 17,
      "outputs": [
        {
          "output_type": "execute_result",
          "data": {
            "text/plain": [
              "[array([False, False, False, False, False, False, False, False, False,\n",
              "        False, False, False, False,  True, False, False, False, False,\n",
              "        False, False, False, False, False, False, False, False, False,\n",
              "        False, False]),\n",
              " array([False, False,  True, False, False, False, False, False, False,\n",
              "        False, False, False, False, False, False, False, False, False,\n",
              "        False, False, False, False, False, False, False, False, False,\n",
              "        False, False])]"
            ]
          },
          "metadata": {
            "tags": []
          },
          "execution_count": 17
        }
      ]
    },
    {
      "cell_type": "code",
      "metadata": {
        "colab": {
          "base_uri": "https://localhost:8080/"
        },
        "id": "8BW15MWnehhg",
        "outputId": "891c1df6-d5c9-40cd-f084-26a9c17831f3"
      },
      "source": [
        "from matplotlib.pyplot import imread\n",
        "\n",
        "image = imread(image_paths[10000])\n",
        "image.shape"
      ],
      "execution_count": 18,
      "outputs": [
        {
          "output_type": "execute_result",
          "data": {
            "text/plain": [
              "(200, 200, 3)"
            ]
          },
          "metadata": {
            "tags": []
          },
          "execution_count": 18
        }
      ]
    },
    {
      "cell_type": "code",
      "metadata": {
        "colab": {
          "base_uri": "https://localhost:8080/"
        },
        "id": "8R79aJM6gbQR",
        "outputId": "3b9a9a3c-4ed6-492f-b9d8-3d0444622afa"
      },
      "source": [
        "# 224 as the model we are going to use requires it to be so\n",
        "def process_image(image_path):\n",
        "  \"\"\"\n",
        "  Takes an image path and coverts the image into Tensors\n",
        "  \"\"\"\n",
        "  # Read in an image file\n",
        "  image = tf.io.read_file(image_path)\n",
        "  \n",
        "  # Turn the image into numerical tensor with three colour channels (RGB)\n",
        "  image = tf.image.decode_jpeg(image, channels=3)\n",
        "  \n",
        "  # Convert the colour channel values from 0-255 to 0-1 values\n",
        "  image = tf.image.convert_image_dtype(image, tf.float32) # the function scales the data from 0-255 to 0-1\n",
        "  \n",
        "  # return the image\n",
        "  return image\n",
        "\n",
        "def get_labels(image, label):\n",
        "\n",
        "  image = process_image(image)\n",
        "  return image, label\n",
        "\n",
        "get_labels(image_paths[0], tf.constant(labels[0]))"
      ],
      "execution_count": 19,
      "outputs": [
        {
          "output_type": "execute_result",
          "data": {
            "text/plain": [
              "(<tf.Tensor: shape=(200, 200, 3), dtype=float32, numpy=\n",
              " array([[[0.        , 0.01176471, 0.96470594],\n",
              "         [0.        , 0.01176471, 0.9686275 ],\n",
              "         [0.02352941, 0.        , 0.9568628 ],\n",
              "         ...,\n",
              "         [0.01568628, 0.        , 0.93725497],\n",
              "         [0.        , 0.        , 0.95294124],\n",
              "         [0.        , 0.        , 0.96470594]],\n",
              " \n",
              "        [[0.        , 0.02745098, 0.9686275 ],\n",
              "         [0.        , 0.        , 0.87843144],\n",
              "         [0.04705883, 0.02352941, 0.8000001 ],\n",
              "         ...,\n",
              "         [0.01176471, 0.        , 0.7058824 ],\n",
              "         [0.02352941, 0.01568628, 0.8196079 ],\n",
              "         [0.00784314, 0.01176471, 0.854902  ]],\n",
              " \n",
              "        [[0.        , 0.        , 0.9215687 ],\n",
              "         [0.03529412, 0.03921569, 0.7803922 ],\n",
              "         [0.30588236, 0.28627452, 0.6784314 ],\n",
              "         ...,\n",
              "         [0.5137255 , 0.49411768, 0.75294125],\n",
              "         [0.50980395, 0.4901961 , 0.9843138 ],\n",
              "         [0.05882353, 0.04313726, 0.6509804 ]],\n",
              " \n",
              "        ...,\n",
              " \n",
              "        [[0.        , 0.00392157, 0.94117653],\n",
              "         [0.        , 0.02352941, 0.74509805],\n",
              "         [0.65882355, 0.69411767, 0.98823535],\n",
              "         ...,\n",
              "         [0.5137255 , 0.48627454, 0.60784316],\n",
              "         [0.50980395, 0.4901961 , 0.882353  ],\n",
              "         [0.04705883, 0.03137255, 0.5647059 ]],\n",
              " \n",
              "        [[0.        , 0.        , 0.9490197 ],\n",
              "         [0.        , 0.        , 0.8078432 ],\n",
              "         [0.6431373 , 0.6784314 , 1.        ],\n",
              "         ...,\n",
              "         [0.4666667 , 0.44705886, 0.83921576],\n",
              "         [0.44705886, 0.4431373 , 0.9921569 ],\n",
              "         [0.03137255, 0.03921569, 0.6666667 ]],\n",
              " \n",
              "        [[0.        , 0.        , 0.9568628 ],\n",
              "         [0.        , 0.        , 0.8431373 ],\n",
              "         [0.00784314, 0.03137255, 0.65882355],\n",
              "         ...,\n",
              "         [0.04705883, 0.03137255, 0.5647059 ],\n",
              "         [0.02352941, 0.03137255, 0.65882355],\n",
              "         [0.01960784, 0.03137255, 0.70980394]]], dtype=float32)>,\n",
              " <tf.Tensor: shape=(), dtype=string, numpy=b'N'>)"
            ]
          },
          "metadata": {
            "tags": []
          },
          "execution_count": 19
        }
      ]
    },
    {
      "cell_type": "code",
      "metadata": {
        "id": "Cxoe0m9Toi2O"
      },
      "source": [
        "from sklearn.model_selection import train_test_split\n",
        "SMALL_SIZE = 10000\n",
        "\n",
        "X = image_paths\n",
        "y = boolean_labels\n",
        "\n",
        "X_train, X_val, y_train, y_val = train_test_split(X[:SMALL_SIZE],\n",
        "                                                  y[:SMALL_SIZE],\n",
        "                                                  test_size=0.2)"
      ],
      "execution_count": 20,
      "outputs": []
    },
    {
      "cell_type": "code",
      "metadata": {
        "id": "3Fybq-5IlCkw"
      },
      "source": [
        "BATCH_SIZE = 32\n",
        "\n",
        "def create_batches(X, y=None, batch_size=BATCH_SIZE, valid_data=False, test_data=False):\n",
        "  '''\n",
        "  Creates batches of data out of image (X) and label (y) pairs.\n",
        "  Shuffles the data if it's training data but doesn't shuffle it's validation data.\n",
        "  Also accepts test data as input (no labels).\n",
        "  '''\n",
        "\n",
        "  # If the data is test data, we don't have labels\n",
        "  if test_data:\n",
        "    print('Creating test batches...')\n",
        "    data = tf.data.Dataset.from_tensor_slices(tf.constant(X)) # no labels\n",
        "    data_batch = data.map(process_image).batch(batch_size)\n",
        "    return data_batch\n",
        "  \n",
        "  # if the data is  validation data, we don't need to shuffle the data\n",
        "  elif valid_data:\n",
        "    print('Creating validation data batches...')\n",
        "    data = tf.data.Dataset.from_tensor_slices((tf.constant(X),\n",
        "                                              tf.constant(y)))\n",
        "    data_batch = data.map(get_labels).batch(batch_size)\n",
        "    return data_batch\n",
        "  \n",
        "  # If neither, it will be training data. We need to shuffle the data\n",
        "  else:\n",
        "    print('Creating training data batches...')\n",
        "    # Turn file paths and labels into Tensors\n",
        "    data = tf.data.Dataset.from_tensor_slices((tf.constant(X),\n",
        "                                              tf.constant(y)))   \n",
        "    # Shuffle the data\n",
        "    data = data.shuffle(buffer_size=len(X))\n",
        "    data_batch = data.map(get_labels).batch(batch_size)\n",
        "    return data_batch"
      ],
      "execution_count": 21,
      "outputs": []
    },
    {
      "cell_type": "code",
      "metadata": {
        "colab": {
          "base_uri": "https://localhost:8080/"
        },
        "id": "DKjgAfagn7xH",
        "outputId": "a120efe0-1bdf-49a5-abac-9ed1e83f5d68"
      },
      "source": [
        "train_data = create_batches(X_train, y_train)\n",
        "val_data = create_batches(X_val, y_val, valid_data=True)"
      ],
      "execution_count": 22,
      "outputs": [
        {
          "output_type": "stream",
          "text": [
            "Creating training data batches...\n",
            "Creating validation data batches...\n"
          ],
          "name": "stdout"
        }
      ]
    },
    {
      "cell_type": "markdown",
      "metadata": {
        "id": "k57UQNUArbmc"
      },
      "source": [
        "# Modelling"
      ]
    },
    {
      "cell_type": "code",
      "metadata": {
        "id": "9KggwupZa2R4"
      },
      "source": [
        "from tensorflow.keras.applications import MobileNet\n",
        "import tensorflow_hub as hub\n",
        "def create_model(input_shape= (200, 200, 3), output_shape= 29, lr=0.001):\n",
        "  # print('Building model with:', model_url)\n",
        "\n",
        "  # Setup the model layers\n",
        "  model = tf.keras.Sequential([\n",
        "     MobileNet(input_shape=input_shape, weights=None, include_top=True, classes=output_shape),\n",
        "     tf.keras.layers.Dense(units=output_shape, # Layer 1: Inupt\n",
        "                           activation='softmax') # Layer 2: Output layer\n",
        "  ])\n",
        "  # model = MobileNet(input_shape=input_shape, weights=None, include_top=False)\n",
        "  # model = tf.keras.layers.Dense(units=output_shape, activation='softmax') (model)\n",
        "  # model = tf.keras.Sequential([\n",
        "  #    hub.KerasLayer('https://tfhub.dev/google/imagenet/mobilenet_v2_130_224/classification/4', weights=None),\n",
        "  #    tf.keras.layers.Dense(units=output_shape, # Layer 1: Inupt\n",
        "  #                          activation='softmax') # Layer 2: Output layer\n",
        "  # ])\n",
        "\n",
        "\n",
        "  # Compile the model\n",
        "  model.compile(\n",
        "      loss=tf.keras.losses.CategoricalCrossentropy(),\n",
        "      optimizer=tf.keras.optimizers.Adam(learning_rate=lr),\n",
        "      metrics=['accuracy']\n",
        "  )\n",
        "\n",
        "  # Build the model\n",
        "  model.build(input_shape)\n",
        "  \n",
        "  return model"
      ],
      "execution_count": null,
      "outputs": []
    },
    {
      "cell_type": "code",
      "metadata": {
        "id": "1YVVIFNUe_GN"
      },
      "source": [
        "model1 = create_model()"
      ],
      "execution_count": null,
      "outputs": []
    },
    {
      "cell_type": "code",
      "metadata": {
        "colab": {
          "base_uri": "https://localhost:8080/"
        },
        "id": "sg8jDLbTfzDu",
        "outputId": "518ef898-51ff-4c49-f553-88d269c34961"
      },
      "source": [
        "model1.summary()"
      ],
      "execution_count": null,
      "outputs": [
        {
          "output_type": "stream",
          "text": [
            "Model: \"sequential\"\n",
            "_________________________________________________________________\n",
            "Layer (type)                 Output Shape              Param #   \n",
            "=================================================================\n",
            "mobilenet_1.00_200 (Function (None, 29)                3258589   \n",
            "_________________________________________________________________\n",
            "dense (Dense)                (None, 29)                870       \n",
            "=================================================================\n",
            "Total params: 3,259,459\n",
            "Trainable params: 3,237,571\n",
            "Non-trainable params: 21,888\n",
            "_________________________________________________________________\n"
          ],
          "name": "stdout"
        }
      ]
    },
    {
      "cell_type": "code",
      "metadata": {
        "colab": {
          "base_uri": "https://localhost:8080/",
          "height": 422
        },
        "id": "PmcYfOqqf6vt",
        "outputId": "20a858d8-a128-4eaa-8582-9b6fac36e65f"
      },
      "source": [
        " history1 = model1.fit(x= train_data,\n",
        "            epochs= 5)"
      ],
      "execution_count": null,
      "outputs": [
        {
          "output_type": "stream",
          "text": [
            "Epoch 1/5\n",
            "250/250 [==============================] - 70s 146ms/step - loss: 3.2945 - accuracy: 0.0826\n",
            "Epoch 2/5\n",
            "105/250 [===========>..................] - ETA: 21s - loss: 3.1897 - accuracy: 0.1170"
          ],
          "name": "stdout"
        },
        {
          "output_type": "error",
          "ename": "KeyboardInterrupt",
          "evalue": "ignored",
          "traceback": [
            "\u001b[0;31m---------------------------------------------------------------------------\u001b[0m",
            "\u001b[0;31mKeyboardInterrupt\u001b[0m                         Traceback (most recent call last)",
            "\u001b[0;32m<ipython-input-28-25317f46de1c>\u001b[0m in \u001b[0;36m<module>\u001b[0;34m()\u001b[0m\n\u001b[1;32m      1\u001b[0m history1 = model1.fit(x= train_data,\n\u001b[0;32m----> 2\u001b[0;31m            epochs= 5)\n\u001b[0m",
            "\u001b[0;32m/usr/local/lib/python3.7/dist-packages/tensorflow/python/keras/engine/training.py\u001b[0m in \u001b[0;36mfit\u001b[0;34m(self, x, y, batch_size, epochs, verbose, callbacks, validation_split, validation_data, shuffle, class_weight, sample_weight, initial_epoch, steps_per_epoch, validation_steps, validation_batch_size, validation_freq, max_queue_size, workers, use_multiprocessing)\u001b[0m\n\u001b[1;32m   1186\u001b[0m               \u001b[0mlogs\u001b[0m \u001b[0;34m=\u001b[0m \u001b[0mtmp_logs\u001b[0m  \u001b[0;31m# No error, now safe to assign to logs.\u001b[0m\u001b[0;34m\u001b[0m\u001b[0;34m\u001b[0m\u001b[0m\n\u001b[1;32m   1187\u001b[0m               \u001b[0mend_step\u001b[0m \u001b[0;34m=\u001b[0m \u001b[0mstep\u001b[0m \u001b[0;34m+\u001b[0m \u001b[0mdata_handler\u001b[0m\u001b[0;34m.\u001b[0m\u001b[0mstep_increment\u001b[0m\u001b[0;34m\u001b[0m\u001b[0;34m\u001b[0m\u001b[0m\n\u001b[0;32m-> 1188\u001b[0;31m               \u001b[0mcallbacks\u001b[0m\u001b[0;34m.\u001b[0m\u001b[0mon_train_batch_end\u001b[0m\u001b[0;34m(\u001b[0m\u001b[0mend_step\u001b[0m\u001b[0;34m,\u001b[0m \u001b[0mlogs\u001b[0m\u001b[0;34m)\u001b[0m\u001b[0;34m\u001b[0m\u001b[0;34m\u001b[0m\u001b[0m\n\u001b[0m\u001b[1;32m   1189\u001b[0m               \u001b[0;32mif\u001b[0m \u001b[0mself\u001b[0m\u001b[0;34m.\u001b[0m\u001b[0mstop_training\u001b[0m\u001b[0;34m:\u001b[0m\u001b[0;34m\u001b[0m\u001b[0;34m\u001b[0m\u001b[0m\n\u001b[1;32m   1190\u001b[0m                 \u001b[0;32mbreak\u001b[0m\u001b[0;34m\u001b[0m\u001b[0;34m\u001b[0m\u001b[0m\n",
            "\u001b[0;32m/usr/local/lib/python3.7/dist-packages/tensorflow/python/keras/callbacks.py\u001b[0m in \u001b[0;36mon_train_batch_end\u001b[0;34m(self, batch, logs)\u001b[0m\n\u001b[1;32m    455\u001b[0m     \"\"\"\n\u001b[1;32m    456\u001b[0m     \u001b[0;32mif\u001b[0m \u001b[0mself\u001b[0m\u001b[0;34m.\u001b[0m\u001b[0m_should_call_train_batch_hooks\u001b[0m\u001b[0;34m:\u001b[0m\u001b[0;34m\u001b[0m\u001b[0;34m\u001b[0m\u001b[0m\n\u001b[0;32m--> 457\u001b[0;31m       \u001b[0mself\u001b[0m\u001b[0;34m.\u001b[0m\u001b[0m_call_batch_hook\u001b[0m\u001b[0;34m(\u001b[0m\u001b[0mModeKeys\u001b[0m\u001b[0;34m.\u001b[0m\u001b[0mTRAIN\u001b[0m\u001b[0;34m,\u001b[0m \u001b[0;34m'end'\u001b[0m\u001b[0;34m,\u001b[0m \u001b[0mbatch\u001b[0m\u001b[0;34m,\u001b[0m \u001b[0mlogs\u001b[0m\u001b[0;34m=\u001b[0m\u001b[0mlogs\u001b[0m\u001b[0;34m)\u001b[0m\u001b[0;34m\u001b[0m\u001b[0;34m\u001b[0m\u001b[0m\n\u001b[0m\u001b[1;32m    458\u001b[0m \u001b[0;34m\u001b[0m\u001b[0m\n\u001b[1;32m    459\u001b[0m   \u001b[0;32mdef\u001b[0m \u001b[0mon_test_batch_begin\u001b[0m\u001b[0;34m(\u001b[0m\u001b[0mself\u001b[0m\u001b[0;34m,\u001b[0m \u001b[0mbatch\u001b[0m\u001b[0;34m,\u001b[0m \u001b[0mlogs\u001b[0m\u001b[0;34m=\u001b[0m\u001b[0;32mNone\u001b[0m\u001b[0;34m)\u001b[0m\u001b[0;34m:\u001b[0m\u001b[0;34m\u001b[0m\u001b[0;34m\u001b[0m\u001b[0m\n",
            "\u001b[0;32m/usr/local/lib/python3.7/dist-packages/tensorflow/python/keras/callbacks.py\u001b[0m in \u001b[0;36m_call_batch_hook\u001b[0;34m(self, mode, hook, batch, logs)\u001b[0m\n\u001b[1;32m    315\u001b[0m       \u001b[0mself\u001b[0m\u001b[0;34m.\u001b[0m\u001b[0m_call_batch_begin_hook\u001b[0m\u001b[0;34m(\u001b[0m\u001b[0mmode\u001b[0m\u001b[0;34m,\u001b[0m \u001b[0mbatch\u001b[0m\u001b[0;34m,\u001b[0m \u001b[0mlogs\u001b[0m\u001b[0;34m)\u001b[0m\u001b[0;34m\u001b[0m\u001b[0;34m\u001b[0m\u001b[0m\n\u001b[1;32m    316\u001b[0m     \u001b[0;32melif\u001b[0m \u001b[0mhook\u001b[0m \u001b[0;34m==\u001b[0m \u001b[0;34m'end'\u001b[0m\u001b[0;34m:\u001b[0m\u001b[0;34m\u001b[0m\u001b[0;34m\u001b[0m\u001b[0m\n\u001b[0;32m--> 317\u001b[0;31m       \u001b[0mself\u001b[0m\u001b[0;34m.\u001b[0m\u001b[0m_call_batch_end_hook\u001b[0m\u001b[0;34m(\u001b[0m\u001b[0mmode\u001b[0m\u001b[0;34m,\u001b[0m \u001b[0mbatch\u001b[0m\u001b[0;34m,\u001b[0m \u001b[0mlogs\u001b[0m\u001b[0;34m)\u001b[0m\u001b[0;34m\u001b[0m\u001b[0;34m\u001b[0m\u001b[0m\n\u001b[0m\u001b[1;32m    318\u001b[0m     \u001b[0;32melse\u001b[0m\u001b[0;34m:\u001b[0m\u001b[0;34m\u001b[0m\u001b[0;34m\u001b[0m\u001b[0m\n\u001b[1;32m    319\u001b[0m       \u001b[0;32mraise\u001b[0m \u001b[0mValueError\u001b[0m\u001b[0;34m(\u001b[0m\u001b[0;34m'Unrecognized hook: {}'\u001b[0m\u001b[0;34m.\u001b[0m\u001b[0mformat\u001b[0m\u001b[0;34m(\u001b[0m\u001b[0mhook\u001b[0m\u001b[0;34m)\u001b[0m\u001b[0;34m)\u001b[0m\u001b[0;34m\u001b[0m\u001b[0;34m\u001b[0m\u001b[0m\n",
            "\u001b[0;32m/usr/local/lib/python3.7/dist-packages/tensorflow/python/keras/callbacks.py\u001b[0m in \u001b[0;36m_call_batch_end_hook\u001b[0;34m(self, mode, batch, logs)\u001b[0m\n\u001b[1;32m    335\u001b[0m       \u001b[0mself\u001b[0m\u001b[0;34m.\u001b[0m\u001b[0m_batch_times\u001b[0m\u001b[0;34m.\u001b[0m\u001b[0mappend\u001b[0m\u001b[0;34m(\u001b[0m\u001b[0mbatch_time\u001b[0m\u001b[0;34m)\u001b[0m\u001b[0;34m\u001b[0m\u001b[0;34m\u001b[0m\u001b[0m\n\u001b[1;32m    336\u001b[0m \u001b[0;34m\u001b[0m\u001b[0m\n\u001b[0;32m--> 337\u001b[0;31m     \u001b[0mself\u001b[0m\u001b[0;34m.\u001b[0m\u001b[0m_call_batch_hook_helper\u001b[0m\u001b[0;34m(\u001b[0m\u001b[0mhook_name\u001b[0m\u001b[0;34m,\u001b[0m \u001b[0mbatch\u001b[0m\u001b[0;34m,\u001b[0m \u001b[0mlogs\u001b[0m\u001b[0;34m)\u001b[0m\u001b[0;34m\u001b[0m\u001b[0;34m\u001b[0m\u001b[0m\n\u001b[0m\u001b[1;32m    338\u001b[0m \u001b[0;34m\u001b[0m\u001b[0m\n\u001b[1;32m    339\u001b[0m     \u001b[0;32mif\u001b[0m \u001b[0mlen\u001b[0m\u001b[0;34m(\u001b[0m\u001b[0mself\u001b[0m\u001b[0;34m.\u001b[0m\u001b[0m_batch_times\u001b[0m\u001b[0;34m)\u001b[0m \u001b[0;34m>=\u001b[0m \u001b[0mself\u001b[0m\u001b[0;34m.\u001b[0m\u001b[0m_num_batches_for_timing_check\u001b[0m\u001b[0;34m:\u001b[0m\u001b[0;34m\u001b[0m\u001b[0;34m\u001b[0m\u001b[0m\n",
            "\u001b[0;32m/usr/local/lib/python3.7/dist-packages/tensorflow/python/keras/callbacks.py\u001b[0m in \u001b[0;36m_call_batch_hook_helper\u001b[0;34m(self, hook_name, batch, logs)\u001b[0m\n\u001b[1;32m    373\u001b[0m     \u001b[0;32mfor\u001b[0m \u001b[0mcallback\u001b[0m \u001b[0;32min\u001b[0m \u001b[0mself\u001b[0m\u001b[0;34m.\u001b[0m\u001b[0mcallbacks\u001b[0m\u001b[0;34m:\u001b[0m\u001b[0;34m\u001b[0m\u001b[0;34m\u001b[0m\u001b[0m\n\u001b[1;32m    374\u001b[0m       \u001b[0mhook\u001b[0m \u001b[0;34m=\u001b[0m \u001b[0mgetattr\u001b[0m\u001b[0;34m(\u001b[0m\u001b[0mcallback\u001b[0m\u001b[0;34m,\u001b[0m \u001b[0mhook_name\u001b[0m\u001b[0;34m)\u001b[0m\u001b[0;34m\u001b[0m\u001b[0;34m\u001b[0m\u001b[0m\n\u001b[0;32m--> 375\u001b[0;31m       \u001b[0mhook\u001b[0m\u001b[0;34m(\u001b[0m\u001b[0mbatch\u001b[0m\u001b[0;34m,\u001b[0m \u001b[0mlogs\u001b[0m\u001b[0;34m)\u001b[0m\u001b[0;34m\u001b[0m\u001b[0;34m\u001b[0m\u001b[0m\n\u001b[0m\u001b[1;32m    376\u001b[0m \u001b[0;34m\u001b[0m\u001b[0m\n\u001b[1;32m    377\u001b[0m     \u001b[0;32mif\u001b[0m \u001b[0mself\u001b[0m\u001b[0;34m.\u001b[0m\u001b[0m_check_timing\u001b[0m\u001b[0;34m:\u001b[0m\u001b[0;34m\u001b[0m\u001b[0;34m\u001b[0m\u001b[0m\n",
            "\u001b[0;32m/usr/local/lib/python3.7/dist-packages/tensorflow/python/keras/callbacks.py\u001b[0m in \u001b[0;36mon_train_batch_end\u001b[0;34m(self, batch, logs)\u001b[0m\n\u001b[1;32m   1027\u001b[0m \u001b[0;34m\u001b[0m\u001b[0m\n\u001b[1;32m   1028\u001b[0m   \u001b[0;32mdef\u001b[0m \u001b[0mon_train_batch_end\u001b[0m\u001b[0;34m(\u001b[0m\u001b[0mself\u001b[0m\u001b[0;34m,\u001b[0m \u001b[0mbatch\u001b[0m\u001b[0;34m,\u001b[0m \u001b[0mlogs\u001b[0m\u001b[0;34m=\u001b[0m\u001b[0;32mNone\u001b[0m\u001b[0;34m)\u001b[0m\u001b[0;34m:\u001b[0m\u001b[0;34m\u001b[0m\u001b[0;34m\u001b[0m\u001b[0m\n\u001b[0;32m-> 1029\u001b[0;31m     \u001b[0mself\u001b[0m\u001b[0;34m.\u001b[0m\u001b[0m_batch_update_progbar\u001b[0m\u001b[0;34m(\u001b[0m\u001b[0mbatch\u001b[0m\u001b[0;34m,\u001b[0m \u001b[0mlogs\u001b[0m\u001b[0;34m)\u001b[0m\u001b[0;34m\u001b[0m\u001b[0;34m\u001b[0m\u001b[0m\n\u001b[0m\u001b[1;32m   1030\u001b[0m \u001b[0;34m\u001b[0m\u001b[0m\n\u001b[1;32m   1031\u001b[0m   \u001b[0;32mdef\u001b[0m \u001b[0mon_test_batch_end\u001b[0m\u001b[0;34m(\u001b[0m\u001b[0mself\u001b[0m\u001b[0;34m,\u001b[0m \u001b[0mbatch\u001b[0m\u001b[0;34m,\u001b[0m \u001b[0mlogs\u001b[0m\u001b[0;34m=\u001b[0m\u001b[0;32mNone\u001b[0m\u001b[0;34m)\u001b[0m\u001b[0;34m:\u001b[0m\u001b[0;34m\u001b[0m\u001b[0;34m\u001b[0m\u001b[0m\n",
            "\u001b[0;32m/usr/local/lib/python3.7/dist-packages/tensorflow/python/keras/callbacks.py\u001b[0m in \u001b[0;36m_batch_update_progbar\u001b[0;34m(self, batch, logs)\u001b[0m\n\u001b[1;32m   1099\u001b[0m     \u001b[0;32mif\u001b[0m \u001b[0mself\u001b[0m\u001b[0;34m.\u001b[0m\u001b[0mverbose\u001b[0m \u001b[0;34m==\u001b[0m \u001b[0;36m1\u001b[0m\u001b[0;34m:\u001b[0m\u001b[0;34m\u001b[0m\u001b[0;34m\u001b[0m\u001b[0m\n\u001b[1;32m   1100\u001b[0m       \u001b[0;31m# Only block async when verbose = 1.\u001b[0m\u001b[0;34m\u001b[0m\u001b[0;34m\u001b[0m\u001b[0;34m\u001b[0m\u001b[0m\n\u001b[0;32m-> 1101\u001b[0;31m       \u001b[0mlogs\u001b[0m \u001b[0;34m=\u001b[0m \u001b[0mtf_utils\u001b[0m\u001b[0;34m.\u001b[0m\u001b[0msync_to_numpy_or_python_type\u001b[0m\u001b[0;34m(\u001b[0m\u001b[0mlogs\u001b[0m\u001b[0;34m)\u001b[0m\u001b[0;34m\u001b[0m\u001b[0;34m\u001b[0m\u001b[0m\n\u001b[0m\u001b[1;32m   1102\u001b[0m       \u001b[0mself\u001b[0m\u001b[0;34m.\u001b[0m\u001b[0mprogbar\u001b[0m\u001b[0;34m.\u001b[0m\u001b[0mupdate\u001b[0m\u001b[0;34m(\u001b[0m\u001b[0mself\u001b[0m\u001b[0;34m.\u001b[0m\u001b[0mseen\u001b[0m\u001b[0;34m,\u001b[0m \u001b[0mlist\u001b[0m\u001b[0;34m(\u001b[0m\u001b[0mlogs\u001b[0m\u001b[0;34m.\u001b[0m\u001b[0mitems\u001b[0m\u001b[0;34m(\u001b[0m\u001b[0;34m)\u001b[0m\u001b[0;34m)\u001b[0m\u001b[0;34m,\u001b[0m \u001b[0mfinalize\u001b[0m\u001b[0;34m=\u001b[0m\u001b[0;32mFalse\u001b[0m\u001b[0;34m)\u001b[0m\u001b[0;34m\u001b[0m\u001b[0;34m\u001b[0m\u001b[0m\n\u001b[1;32m   1103\u001b[0m \u001b[0;34m\u001b[0m\u001b[0m\n",
            "\u001b[0;32m/usr/local/lib/python3.7/dist-packages/tensorflow/python/keras/utils/tf_utils.py\u001b[0m in \u001b[0;36msync_to_numpy_or_python_type\u001b[0;34m(tensors)\u001b[0m\n\u001b[1;32m    517\u001b[0m     \u001b[0;32mreturn\u001b[0m \u001b[0mt\u001b[0m  \u001b[0;31m# Don't turn ragged or sparse tensors to NumPy.\u001b[0m\u001b[0;34m\u001b[0m\u001b[0;34m\u001b[0m\u001b[0m\n\u001b[1;32m    518\u001b[0m \u001b[0;34m\u001b[0m\u001b[0m\n\u001b[0;32m--> 519\u001b[0;31m   \u001b[0;32mreturn\u001b[0m \u001b[0mnest\u001b[0m\u001b[0;34m.\u001b[0m\u001b[0mmap_structure\u001b[0m\u001b[0;34m(\u001b[0m\u001b[0m_to_single_numpy_or_python_type\u001b[0m\u001b[0;34m,\u001b[0m \u001b[0mtensors\u001b[0m\u001b[0;34m)\u001b[0m\u001b[0;34m\u001b[0m\u001b[0;34m\u001b[0m\u001b[0m\n\u001b[0m\u001b[1;32m    520\u001b[0m \u001b[0;34m\u001b[0m\u001b[0m\n\u001b[1;32m    521\u001b[0m \u001b[0;34m\u001b[0m\u001b[0m\n",
            "\u001b[0;32m/usr/local/lib/python3.7/dist-packages/tensorflow/python/util/nest.py\u001b[0m in \u001b[0;36mmap_structure\u001b[0;34m(func, *structure, **kwargs)\u001b[0m\n\u001b[1;32m    865\u001b[0m \u001b[0;34m\u001b[0m\u001b[0m\n\u001b[1;32m    866\u001b[0m   return pack_sequence_as(\n\u001b[0;32m--> 867\u001b[0;31m       \u001b[0mstructure\u001b[0m\u001b[0;34m[\u001b[0m\u001b[0;36m0\u001b[0m\u001b[0;34m]\u001b[0m\u001b[0;34m,\u001b[0m \u001b[0;34m[\u001b[0m\u001b[0mfunc\u001b[0m\u001b[0;34m(\u001b[0m\u001b[0;34m*\u001b[0m\u001b[0mx\u001b[0m\u001b[0;34m)\u001b[0m \u001b[0;32mfor\u001b[0m \u001b[0mx\u001b[0m \u001b[0;32min\u001b[0m \u001b[0mentries\u001b[0m\u001b[0;34m]\u001b[0m\u001b[0;34m,\u001b[0m\u001b[0;34m\u001b[0m\u001b[0;34m\u001b[0m\u001b[0m\n\u001b[0m\u001b[1;32m    868\u001b[0m       expand_composites=expand_composites)\n\u001b[1;32m    869\u001b[0m \u001b[0;34m\u001b[0m\u001b[0m\n",
            "\u001b[0;32m/usr/local/lib/python3.7/dist-packages/tensorflow/python/util/nest.py\u001b[0m in \u001b[0;36m<listcomp>\u001b[0;34m(.0)\u001b[0m\n\u001b[1;32m    865\u001b[0m \u001b[0;34m\u001b[0m\u001b[0m\n\u001b[1;32m    866\u001b[0m   return pack_sequence_as(\n\u001b[0;32m--> 867\u001b[0;31m       \u001b[0mstructure\u001b[0m\u001b[0;34m[\u001b[0m\u001b[0;36m0\u001b[0m\u001b[0;34m]\u001b[0m\u001b[0;34m,\u001b[0m \u001b[0;34m[\u001b[0m\u001b[0mfunc\u001b[0m\u001b[0;34m(\u001b[0m\u001b[0;34m*\u001b[0m\u001b[0mx\u001b[0m\u001b[0;34m)\u001b[0m \u001b[0;32mfor\u001b[0m \u001b[0mx\u001b[0m \u001b[0;32min\u001b[0m \u001b[0mentries\u001b[0m\u001b[0;34m]\u001b[0m\u001b[0;34m,\u001b[0m\u001b[0;34m\u001b[0m\u001b[0;34m\u001b[0m\u001b[0m\n\u001b[0m\u001b[1;32m    868\u001b[0m       expand_composites=expand_composites)\n\u001b[1;32m    869\u001b[0m \u001b[0;34m\u001b[0m\u001b[0m\n",
            "\u001b[0;32m/usr/local/lib/python3.7/dist-packages/tensorflow/python/keras/utils/tf_utils.py\u001b[0m in \u001b[0;36m_to_single_numpy_or_python_type\u001b[0;34m(t)\u001b[0m\n\u001b[1;32m    513\u001b[0m   \u001b[0;32mdef\u001b[0m \u001b[0m_to_single_numpy_or_python_type\u001b[0m\u001b[0;34m(\u001b[0m\u001b[0mt\u001b[0m\u001b[0;34m)\u001b[0m\u001b[0;34m:\u001b[0m\u001b[0;34m\u001b[0m\u001b[0;34m\u001b[0m\u001b[0m\n\u001b[1;32m    514\u001b[0m     \u001b[0;32mif\u001b[0m \u001b[0misinstance\u001b[0m\u001b[0;34m(\u001b[0m\u001b[0mt\u001b[0m\u001b[0;34m,\u001b[0m \u001b[0mops\u001b[0m\u001b[0;34m.\u001b[0m\u001b[0mTensor\u001b[0m\u001b[0;34m)\u001b[0m\u001b[0;34m:\u001b[0m\u001b[0;34m\u001b[0m\u001b[0;34m\u001b[0m\u001b[0m\n\u001b[0;32m--> 515\u001b[0;31m       \u001b[0mx\u001b[0m \u001b[0;34m=\u001b[0m \u001b[0mt\u001b[0m\u001b[0;34m.\u001b[0m\u001b[0mnumpy\u001b[0m\u001b[0;34m(\u001b[0m\u001b[0;34m)\u001b[0m\u001b[0;34m\u001b[0m\u001b[0;34m\u001b[0m\u001b[0m\n\u001b[0m\u001b[1;32m    516\u001b[0m       \u001b[0;32mreturn\u001b[0m \u001b[0mx\u001b[0m\u001b[0;34m.\u001b[0m\u001b[0mitem\u001b[0m\u001b[0;34m(\u001b[0m\u001b[0;34m)\u001b[0m \u001b[0;32mif\u001b[0m \u001b[0mnp\u001b[0m\u001b[0;34m.\u001b[0m\u001b[0mndim\u001b[0m\u001b[0;34m(\u001b[0m\u001b[0mx\u001b[0m\u001b[0;34m)\u001b[0m \u001b[0;34m==\u001b[0m \u001b[0;36m0\u001b[0m \u001b[0;32melse\u001b[0m \u001b[0mx\u001b[0m\u001b[0;34m\u001b[0m\u001b[0;34m\u001b[0m\u001b[0m\n\u001b[1;32m    517\u001b[0m     \u001b[0;32mreturn\u001b[0m \u001b[0mt\u001b[0m  \u001b[0;31m# Don't turn ragged or sparse tensors to NumPy.\u001b[0m\u001b[0;34m\u001b[0m\u001b[0;34m\u001b[0m\u001b[0m\n",
            "\u001b[0;32m/usr/local/lib/python3.7/dist-packages/tensorflow/python/framework/ops.py\u001b[0m in \u001b[0;36mnumpy\u001b[0;34m(self)\u001b[0m\n\u001b[1;32m   1092\u001b[0m     \"\"\"\n\u001b[1;32m   1093\u001b[0m     \u001b[0;31m# TODO(slebedev): Consider avoiding a copy for non-CPU or remote tensors.\u001b[0m\u001b[0;34m\u001b[0m\u001b[0;34m\u001b[0m\u001b[0;34m\u001b[0m\u001b[0m\n\u001b[0;32m-> 1094\u001b[0;31m     \u001b[0mmaybe_arr\u001b[0m \u001b[0;34m=\u001b[0m \u001b[0mself\u001b[0m\u001b[0;34m.\u001b[0m\u001b[0m_numpy\u001b[0m\u001b[0;34m(\u001b[0m\u001b[0;34m)\u001b[0m  \u001b[0;31m# pylint: disable=protected-access\u001b[0m\u001b[0;34m\u001b[0m\u001b[0;34m\u001b[0m\u001b[0m\n\u001b[0m\u001b[1;32m   1095\u001b[0m     \u001b[0;32mreturn\u001b[0m \u001b[0mmaybe_arr\u001b[0m\u001b[0;34m.\u001b[0m\u001b[0mcopy\u001b[0m\u001b[0;34m(\u001b[0m\u001b[0;34m)\u001b[0m \u001b[0;32mif\u001b[0m \u001b[0misinstance\u001b[0m\u001b[0;34m(\u001b[0m\u001b[0mmaybe_arr\u001b[0m\u001b[0;34m,\u001b[0m \u001b[0mnp\u001b[0m\u001b[0;34m.\u001b[0m\u001b[0mndarray\u001b[0m\u001b[0;34m)\u001b[0m \u001b[0;32melse\u001b[0m \u001b[0mmaybe_arr\u001b[0m\u001b[0;34m\u001b[0m\u001b[0;34m\u001b[0m\u001b[0m\n\u001b[1;32m   1096\u001b[0m \u001b[0;34m\u001b[0m\u001b[0m\n",
            "\u001b[0;32m/usr/local/lib/python3.7/dist-packages/tensorflow/python/framework/ops.py\u001b[0m in \u001b[0;36m_numpy\u001b[0;34m(self)\u001b[0m\n\u001b[1;32m   1058\u001b[0m   \u001b[0;32mdef\u001b[0m \u001b[0m_numpy\u001b[0m\u001b[0;34m(\u001b[0m\u001b[0mself\u001b[0m\u001b[0;34m)\u001b[0m\u001b[0;34m:\u001b[0m\u001b[0;34m\u001b[0m\u001b[0;34m\u001b[0m\u001b[0m\n\u001b[1;32m   1059\u001b[0m     \u001b[0;32mtry\u001b[0m\u001b[0;34m:\u001b[0m\u001b[0;34m\u001b[0m\u001b[0;34m\u001b[0m\u001b[0m\n\u001b[0;32m-> 1060\u001b[0;31m       \u001b[0;32mreturn\u001b[0m \u001b[0mself\u001b[0m\u001b[0;34m.\u001b[0m\u001b[0m_numpy_internal\u001b[0m\u001b[0;34m(\u001b[0m\u001b[0;34m)\u001b[0m\u001b[0;34m\u001b[0m\u001b[0;34m\u001b[0m\u001b[0m\n\u001b[0m\u001b[1;32m   1061\u001b[0m     \u001b[0;32mexcept\u001b[0m \u001b[0mcore\u001b[0m\u001b[0;34m.\u001b[0m\u001b[0m_NotOkStatusException\u001b[0m \u001b[0;32mas\u001b[0m \u001b[0me\u001b[0m\u001b[0;34m:\u001b[0m  \u001b[0;31m# pylint: disable=protected-access\u001b[0m\u001b[0;34m\u001b[0m\u001b[0;34m\u001b[0m\u001b[0m\n\u001b[1;32m   1062\u001b[0m       \u001b[0msix\u001b[0m\u001b[0;34m.\u001b[0m\u001b[0mraise_from\u001b[0m\u001b[0;34m(\u001b[0m\u001b[0mcore\u001b[0m\u001b[0;34m.\u001b[0m\u001b[0m_status_to_exception\u001b[0m\u001b[0;34m(\u001b[0m\u001b[0me\u001b[0m\u001b[0;34m.\u001b[0m\u001b[0mcode\u001b[0m\u001b[0;34m,\u001b[0m \u001b[0me\u001b[0m\u001b[0;34m.\u001b[0m\u001b[0mmessage\u001b[0m\u001b[0;34m)\u001b[0m\u001b[0;34m,\u001b[0m \u001b[0;32mNone\u001b[0m\u001b[0;34m)\u001b[0m  \u001b[0;31m# pylint: disable=protected-access\u001b[0m\u001b[0;34m\u001b[0m\u001b[0;34m\u001b[0m\u001b[0m\n",
            "\u001b[0;31mKeyboardInterrupt\u001b[0m: "
          ]
        }
      ]
    },
    {
      "cell_type": "code",
      "metadata": {
        "id": "gOwK1fScgMSd"
      },
      "source": [
        "pd.DataFrame(history1.history).plot();"
      ],
      "execution_count": null,
      "outputs": []
    },
    {
      "cell_type": "code",
      "metadata": {
        "id": "luY9WH2J788x"
      },
      "source": [
        "model2 = tf.keras.Sequential([\n",
        "    MobileNet(input_shape=(200, 200, 3), weights=None, include_top=True, classes=29),\n",
        "    tf.keras.layers.Dense(units=29, # Layer 1: Inupt\n",
        "                          activation='softmax') # Layer 2: Output layer\n",
        "])\n",
        "\n",
        "\n",
        "# Compile the model\n",
        "model2.compile(\n",
        "    loss=tf.keras.losses.CategoricalCrossentropy(),\n",
        "    optimizer='Adam',\n",
        "    metrics=['accuracy']\n",
        ")\n",
        "\n",
        "# Build the model\n",
        "model2.build((200, 200, 3))\n",
        "lr_scheduler = tf.keras.callbacks.LearningRateScheduler(lambda epochs: 1e-3 * 10 ** (epochs/20))\n",
        "\n",
        "# Fit the model\n",
        "history2 = model2.fit(x= train_data,\n",
        "            epochs= 50,\n",
        "            callbacks=[lr_scheduler])"
      ],
      "execution_count": null,
      "outputs": []
    },
    {
      "cell_type": "code",
      "metadata": {
        "id": "Q51-Avh1SrI1"
      },
      "source": [
        "# Plot the learning rate vs the loss\n",
        "lrs = 1e-3 * (10 ** (tf.range(50)/20))\n",
        "plt.figure(figsize=(10, 7))\n",
        "plt.semilogx(lrs, history2.history[\"loss\"])\n",
        "plt.xlabel(\"Learning rate\")\n",
        "plt.xlim([1e-3, 1e-2])\n",
        "plt.ylabel(\"Loss\")\n",
        "plt.title(\"Learning rate vs Loss\");"
      ],
      "execution_count": null,
      "outputs": []
    },
    {
      "cell_type": "code",
      "metadata": {
        "id": "mRWkJPytA1r7"
      },
      "source": [
        "model3 = tf.keras.Sequential([\n",
        "    MobileNet(input_shape=(200, 200, 3), weights=None, include_top=True, classes=29),\n",
        "    tf.keras.layers.Dense(units=29, # Layer 1: Inupt\n",
        "                          activation='softmax') # Layer 2: Output layer\n",
        "])\n",
        "\n",
        "\n",
        "# Compile the model\n",
        "model3.compile(\n",
        "    loss=tf.keras.losses.CategoricalCrossentropy(),\n",
        "    optimizer=tf.keras.optimizers.Adam(learning_rate=0.0023),\n",
        "    metrics=['accuracy']\n",
        ")\n",
        "\n",
        "# Build the model\n",
        "model3.build((200, 200, 3))\n",
        "# lr_scheduler = tf.keras.callbacks.LearningRateScheduler(lambda epochs: 1e-3 * 10 ** (epochs/20))\n",
        "\n",
        "# Fit the model\n",
        "history3 = model3.fit(x= train_data,\n",
        "            epochs= 50)"
      ],
      "execution_count": null,
      "outputs": []
    },
    {
      "cell_type": "code",
      "metadata": {
        "id": "_SNKklGJBE6_"
      },
      "source": [
        "model3.summary()"
      ],
      "execution_count": null,
      "outputs": []
    },
    {
      "cell_type": "code",
      "metadata": {
        "id": "io2mNjTLC3FY"
      },
      "source": [
        "from tensorflow.keras.applications.resnet50 import ResNet50\n",
        "\n",
        "model4 = tf.keras.Sequential([\n",
        "    # MobileNet(input_shape=(200, 200, 3), weights=None, include_top=True),\n",
        "    ResNet50(input_shape=(200, 200, 3), weights=None, classes=29),\n",
        "    tf.keras.layers.Dense(units=29, # Layer 1: Inupt\n",
        "                          activation='softmax') # Layer 2: Output layer\n",
        "])\n",
        "\n",
        "\n",
        "# Compile the model\n",
        "model4.compile(\n",
        "    loss=tf.keras.losses.CategoricalCrossentropy(),\n",
        "    optimizer=tf.keras.optimizers.Adam(learning_rate=0.0023),\n",
        "    metrics=['accuracy']\n",
        ")\n",
        "\n",
        "# Build the model\n",
        "model4.build((200, 200, 3))\n",
        "# lr_scheduler = tf.keras.callbacks.LearningRateScheduler(lambda epochs: 1e-3 * 10 ** (epochs/20))\n",
        "\n",
        "# Fit the model\n",
        "history4 = model4.fit(x= train_data,\n",
        "            epochs= 50)"
      ],
      "execution_count": null,
      "outputs": []
    },
    {
      "cell_type": "code",
      "metadata": {
        "colab": {
          "base_uri": "https://localhost:8080/"
        },
        "id": "igY-Y0KaGAvv",
        "outputId": "3339cae8-c9ca-43da-a5ca-830ee94eef6c"
      },
      "source": [
        "model5 = tf.keras.Sequential([\n",
        "    MobileNet(input_shape=(200, 200, 3), weights=None, include_top=True, classes=29),\n",
        "    tf.keras.layers.Dense(units=29, # Layer 1: Inupt\n",
        "                          activation='softmax') # Layer 2: Output layer\n",
        "])\n",
        "\n",
        "\n",
        "# Compile the model\n",
        "model5.compile(\n",
        "    loss=tf.keras.losses.CategoricalCrossentropy(),\n",
        "    optimizer=tf.keras.optimizers.Adam(learning_rate=0.0023),\n",
        "    metrics=['accuracy']\n",
        ")\n",
        "\n",
        "# Build the model\n",
        "model5.build((200, 200, 3))\n",
        "# lr_scheduler = tf.keras.callbacks.LearningRateScheduler(lambda epochs: 1e-3 * 10 ** (epochs/20))\n",
        "\n",
        "# Fit the model\n",
        "history5 = model3.fit(x= train_data,\n",
        "            epochs= 100)"
      ],
      "execution_count": null,
      "outputs": [
        {
          "output_type": "stream",
          "text": [
            "Epoch 1/100\n",
            "250/250 [==============================] - 36s 142ms/step - loss: 2.5224 - accuracy: 0.1329\n",
            "Epoch 2/100\n",
            "250/250 [==============================] - 36s 143ms/step - loss: 2.4359 - accuracy: 0.1486\n",
            "Epoch 3/100\n",
            "250/250 [==============================] - 36s 145ms/step - loss: 2.3520 - accuracy: 0.1586\n",
            "Epoch 4/100\n",
            "250/250 [==============================] - 36s 146ms/step - loss: 2.2759 - accuracy: 0.1635\n",
            "Epoch 5/100\n",
            "250/250 [==============================] - 37s 147ms/step - loss: 2.2238 - accuracy: 0.1719\n",
            "Epoch 6/100\n",
            "250/250 [==============================] - 37s 147ms/step - loss: 2.1960 - accuracy: 0.1765\n",
            "Epoch 7/100\n",
            "250/250 [==============================] - 37s 148ms/step - loss: 2.1459 - accuracy: 0.1996\n",
            "Epoch 8/100\n",
            "250/250 [==============================] - 37s 148ms/step - loss: 2.0931 - accuracy: 0.2425\n",
            "Epoch 9/100\n",
            "250/250 [==============================] - 38s 150ms/step - loss: 2.0166 - accuracy: 0.2713\n",
            "Epoch 10/100\n",
            "250/250 [==============================] - 37s 149ms/step - loss: 1.9552 - accuracy: 0.2864\n",
            "Epoch 11/100\n",
            "250/250 [==============================] - 37s 149ms/step - loss: 1.9164 - accuracy: 0.3011\n",
            "Epoch 12/100\n",
            "250/250 [==============================] - 37s 149ms/step - loss: 1.8896 - accuracy: 0.3169\n",
            "Epoch 13/100\n",
            "250/250 [==============================] - 37s 149ms/step - loss: 1.8355 - accuracy: 0.3368\n",
            "Epoch 14/100\n",
            "250/250 [==============================] - 37s 149ms/step - loss: 1.8196 - accuracy: 0.3496\n",
            "Epoch 15/100\n",
            "250/250 [==============================] - 37s 149ms/step - loss: 1.7188 - accuracy: 0.4069\n",
            "Epoch 16/100\n",
            "250/250 [==============================] - 37s 150ms/step - loss: 1.6486 - accuracy: 0.4489\n",
            "Epoch 17/100\n",
            "250/250 [==============================] - 37s 149ms/step - loss: 1.5927 - accuracy: 0.4821\n",
            "Epoch 18/100\n",
            "250/250 [==============================] - 37s 150ms/step - loss: 1.5458 - accuracy: 0.4877\n",
            "Epoch 19/100\n",
            "250/250 [==============================] - 38s 150ms/step - loss: 1.4673 - accuracy: 0.5121\n",
            "Epoch 20/100\n",
            "250/250 [==============================] - 38s 150ms/step - loss: 1.4452 - accuracy: 0.5120\n",
            "Epoch 21/100\n",
            "250/250 [==============================] - 38s 150ms/step - loss: 1.4015 - accuracy: 0.5265\n",
            "Epoch 22/100\n",
            "250/250 [==============================] - 37s 148ms/step - loss: 1.3518 - accuracy: 0.5531\n",
            "Epoch 23/100\n",
            "250/250 [==============================] - 37s 149ms/step - loss: 1.2592 - accuracy: 0.6084\n",
            "Epoch 24/100\n",
            "250/250 [==============================] - 37s 150ms/step - loss: 1.1905 - accuracy: 0.6725\n",
            "Epoch 25/100\n",
            "250/250 [==============================] - 37s 149ms/step - loss: 1.1288 - accuracy: 0.6971\n",
            "Epoch 26/100\n",
            "250/250 [==============================] - 37s 149ms/step - loss: 1.0709 - accuracy: 0.7181\n",
            "Epoch 27/100\n",
            "250/250 [==============================] - 38s 150ms/step - loss: 1.0256 - accuracy: 0.7346\n",
            "Epoch 28/100\n",
            "250/250 [==============================] - 37s 149ms/step - loss: 1.0115 - accuracy: 0.7247\n",
            "Epoch 29/100\n",
            "250/250 [==============================] - 37s 149ms/step - loss: 0.9276 - accuracy: 0.7881\n",
            "Epoch 30/100\n",
            "250/250 [==============================] - 37s 149ms/step - loss: 0.8876 - accuracy: 0.7920\n",
            "Epoch 31/100\n",
            "250/250 [==============================] - 37s 149ms/step - loss: 0.8467 - accuracy: 0.7981\n",
            "Epoch 32/100\n",
            "250/250 [==============================] - 37s 149ms/step - loss: 0.8183 - accuracy: 0.8236\n",
            "Epoch 33/100\n",
            "250/250 [==============================] - 37s 149ms/step - loss: 0.7668 - accuracy: 0.8460\n",
            "Epoch 34/100\n",
            "250/250 [==============================] - 37s 149ms/step - loss: 0.7347 - accuracy: 0.8464\n",
            "Epoch 35/100\n",
            "250/250 [==============================] - 37s 149ms/step - loss: 0.6780 - accuracy: 0.8586\n",
            "Epoch 36/100\n",
            "250/250 [==============================] - 37s 149ms/step - loss: 0.6522 - accuracy: 0.8602\n",
            "Epoch 37/100\n",
            "250/250 [==============================] - 37s 149ms/step - loss: 0.6432 - accuracy: 0.8515\n",
            "Epoch 38/100\n",
            "250/250 [==============================] - 37s 149ms/step - loss: 0.6250 - accuracy: 0.8526\n",
            "Epoch 39/100\n",
            "250/250 [==============================] - 37s 150ms/step - loss: 0.6175 - accuracy: 0.8444\n",
            "Epoch 40/100\n",
            "250/250 [==============================] - 38s 150ms/step - loss: 0.6213 - accuracy: 0.8422\n",
            "Epoch 41/100\n",
            "250/250 [==============================] - 37s 149ms/step - loss: 0.5501 - accuracy: 0.8716\n",
            "Epoch 42/100\n",
            "250/250 [==============================] - 37s 149ms/step - loss: 0.5226 - accuracy: 0.8854\n",
            "Epoch 43/100\n",
            "250/250 [==============================] - 37s 149ms/step - loss: 0.4923 - accuracy: 0.8913\n",
            "Epoch 44/100\n",
            "250/250 [==============================] - 37s 149ms/step - loss: 0.4585 - accuracy: 0.8920\n",
            "Epoch 45/100\n",
            "250/250 [==============================] - 37s 149ms/step - loss: 0.4406 - accuracy: 0.8950\n",
            "Epoch 46/100\n",
            "250/250 [==============================] - 37s 148ms/step - loss: 0.4244 - accuracy: 0.8931\n",
            "Epoch 47/100\n",
            "250/250 [==============================] - 37s 149ms/step - loss: 0.4350 - accuracy: 0.8844\n",
            "Epoch 48/100\n",
            "250/250 [==============================] - 37s 148ms/step - loss: 0.3982 - accuracy: 0.8920\n",
            "Epoch 49/100\n",
            "250/250 [==============================] - 37s 149ms/step - loss: 0.4133 - accuracy: 0.8865\n",
            "Epoch 50/100\n",
            "250/250 [==============================] - 37s 148ms/step - loss: 0.3622 - accuracy: 0.9215\n",
            "Epoch 51/100\n",
            "250/250 [==============================] - 37s 148ms/step - loss: 0.3359 - accuracy: 0.9246\n",
            "Epoch 52/100\n",
            "250/250 [==============================] - 37s 148ms/step - loss: 0.3401 - accuracy: 0.9222\n",
            "Epoch 53/100\n",
            "250/250 [==============================] - 37s 148ms/step - loss: 0.3752 - accuracy: 0.9050\n",
            "Epoch 54/100\n",
            "250/250 [==============================] - 37s 148ms/step - loss: 0.3123 - accuracy: 0.9225\n",
            "Epoch 55/100\n",
            "250/250 [==============================] - 37s 149ms/step - loss: 0.2926 - accuracy: 0.9271\n",
            "Epoch 56/100\n",
            "250/250 [==============================] - 37s 148ms/step - loss: 0.2715 - accuracy: 0.9383\n",
            "Epoch 57/100\n",
            "250/250 [==============================] - 37s 149ms/step - loss: 0.2433 - accuracy: 0.9631\n",
            "Epoch 58/100\n",
            "250/250 [==============================] - 37s 149ms/step - loss: 0.2258 - accuracy: 0.9620\n",
            "Epoch 59/100\n",
            "250/250 [==============================] - 37s 148ms/step - loss: 0.2077 - accuracy: 0.9632\n",
            "Epoch 60/100\n",
            "250/250 [==============================] - 37s 148ms/step - loss: 0.2411 - accuracy: 0.9504\n",
            "Epoch 61/100\n",
            "250/250 [==============================] - 37s 148ms/step - loss: 0.2242 - accuracy: 0.9523\n",
            "Epoch 62/100\n",
            "250/250 [==============================] - 37s 148ms/step - loss: 0.1911 - accuracy: 0.9610\n",
            "Epoch 63/100\n",
            "250/250 [==============================] - 37s 149ms/step - loss: 0.1824 - accuracy: 0.9600\n",
            "Epoch 64/100\n",
            "250/250 [==============================] - 37s 149ms/step - loss: 0.1639 - accuracy: 0.9634\n",
            "Epoch 65/100\n",
            "250/250 [==============================] - 38s 150ms/step - loss: 0.1675 - accuracy: 0.9595\n",
            "Epoch 66/100\n",
            "250/250 [==============================] - 37s 149ms/step - loss: 0.2132 - accuracy: 0.9521\n",
            "Epoch 67/100\n",
            "250/250 [==============================] - 37s 148ms/step - loss: 0.1617 - accuracy: 0.9599\n",
            "Epoch 68/100\n",
            "250/250 [==============================] - 37s 148ms/step - loss: 0.1429 - accuracy: 0.9614\n",
            "Epoch 69/100\n",
            "250/250 [==============================] - 37s 148ms/step - loss: 0.1358 - accuracy: 0.9640\n",
            "Epoch 70/100\n",
            "250/250 [==============================] - 37s 149ms/step - loss: 0.1340 - accuracy: 0.9625\n",
            "Epoch 71/100\n",
            "250/250 [==============================] - 37s 148ms/step - loss: 0.1271 - accuracy: 0.9646\n",
            "Epoch 72/100\n",
            "250/250 [==============================] - 37s 148ms/step - loss: 0.1194 - accuracy: 0.9654\n",
            "Epoch 73/100\n",
            "250/250 [==============================] - 37s 148ms/step - loss: 0.1147 - accuracy: 0.9657\n",
            "Epoch 74/100\n",
            "250/250 [==============================] - 37s 149ms/step - loss: 0.1247 - accuracy: 0.9736\n",
            "Epoch 75/100\n",
            "250/250 [==============================] - 37s 148ms/step - loss: 0.1266 - accuracy: 0.9858\n",
            "Epoch 76/100\n",
            "250/250 [==============================] - 37s 150ms/step - loss: 0.1011 - accuracy: 0.9987\n",
            "Epoch 77/100\n",
            "250/250 [==============================] - 37s 149ms/step - loss: 0.0893 - accuracy: 1.0000\n",
            "Epoch 78/100\n",
            "250/250 [==============================] - 37s 149ms/step - loss: 0.0809 - accuracy: 1.0000\n",
            "Epoch 79/100\n",
            "250/250 [==============================] - 37s 149ms/step - loss: 0.0744 - accuracy: 0.9999\n",
            "Epoch 80/100\n",
            "250/250 [==============================] - 37s 149ms/step - loss: 0.0938 - accuracy: 0.9948\n",
            "Epoch 81/100\n",
            "250/250 [==============================] - 37s 149ms/step - loss: 0.1233 - accuracy: 0.9843\n",
            "Epoch 82/100\n",
            "250/250 [==============================] - 38s 150ms/step - loss: 0.0827 - accuracy: 0.9945\n",
            "Epoch 83/100\n",
            "250/250 [==============================] - 38s 150ms/step - loss: 0.0631 - accuracy: 0.9986\n",
            "Epoch 84/100\n",
            "250/250 [==============================] - 37s 148ms/step - loss: 0.0565 - accuracy: 0.9995\n",
            "Epoch 85/100\n",
            "250/250 [==============================] - 37s 149ms/step - loss: 0.0540 - accuracy: 0.9991\n",
            "Epoch 86/100\n",
            "250/250 [==============================] - 37s 148ms/step - loss: 0.0559 - accuracy: 0.9983\n",
            "Epoch 87/100\n",
            "250/250 [==============================] - 37s 149ms/step - loss: 0.0583 - accuracy: 0.9967\n",
            "Epoch 88/100\n",
            "250/250 [==============================] - 37s 149ms/step - loss: 0.0622 - accuracy: 0.9956\n",
            "Epoch 89/100\n",
            "250/250 [==============================] - 37s 149ms/step - loss: 0.0489 - accuracy: 0.9980\n",
            "Epoch 90/100\n",
            "250/250 [==============================] - 37s 149ms/step - loss: 0.0450 - accuracy: 0.9986\n",
            "Epoch 91/100\n",
            "250/250 [==============================] - 37s 149ms/step - loss: 0.0409 - accuracy: 0.9991\n",
            "Epoch 92/100\n",
            "250/250 [==============================] - 37s 149ms/step - loss: 0.0448 - accuracy: 0.9974\n",
            "Epoch 93/100\n",
            "250/250 [==============================] - 37s 149ms/step - loss: 0.0450 - accuracy: 0.9977\n",
            "Epoch 94/100\n",
            "250/250 [==============================] - 37s 148ms/step - loss: 0.0842 - accuracy: 0.9876\n",
            "Epoch 95/100\n",
            "250/250 [==============================] - 38s 150ms/step - loss: 0.0495 - accuracy: 0.9956\n",
            "Epoch 96/100\n",
            "250/250 [==============================] - 37s 149ms/step - loss: 0.0352 - accuracy: 0.9986\n",
            "Epoch 97/100\n",
            "250/250 [==============================] - 37s 148ms/step - loss: 0.0357 - accuracy: 0.9983\n",
            "Epoch 98/100\n",
            "250/250 [==============================] - 37s 149ms/step - loss: 0.0370 - accuracy: 0.9976\n",
            "Epoch 99/100\n",
            "250/250 [==============================] - 37s 148ms/step - loss: 0.0286 - accuracy: 0.9996\n",
            "Epoch 100/100\n",
            "250/250 [==============================] - 37s 149ms/step - loss: 0.0256 - accuracy: 1.0000\n"
          ],
          "name": "stdout"
        }
      ]
    },
    {
      "cell_type": "code",
      "metadata": {
        "colab": {
          "base_uri": "https://localhost:8080/",
          "height": 265
        },
        "id": "1eKckygaMGk7",
        "outputId": "abc0929f-a468-401b-9367-50d6d05da42d"
      },
      "source": [
        "pd.DataFrame(history5.history).plot();"
      ],
      "execution_count": null,
      "outputs": [
        {
          "output_type": "display_data",
          "data": {
            "image/png": "[encoded data removed]",
            "text/plain": [
              "<Figure size 432x288 with 1 Axes>"
            ]
          },
          "metadata": {
            "tags": [],
            "needs_background": "light"
          }
        }
      ]
    },
    {
      "cell_type": "code",
      "metadata": {
        "colab": {
          "base_uri": "https://localhost:8080/"
        },
        "id": "13clvDDNVx-P",
        "outputId": "c3d741f4-5f8f-44fd-eb63-15644ca966f6"
      },
      "source": [
        "def save_model(model, suffix=None):\n",
        "  import os\n",
        "  import datetime\n",
        "  '''\n",
        "  Saves a givern model in a directory and appends a suffix\n",
        "  '''\n",
        "\n",
        "  # Create a model directory pathname with current time\n",
        "  modeldir = os.path.join('/content/drive/MyDrive/Colab Notebooks/ASL/models',\n",
        "                          datetime.datetime.now().strftime(\"%Y%m%d-%H%M%S\"))\n",
        "  model_path = modeldir + \"-\" + suffix + '.h5' #h5 is like .pkl or .joblib\n",
        "  print(f'Saving model to: {model_path}...')\n",
        "  model.save(model_path)\n",
        "  return model_path\n",
        "saved = save_model(model5, suffix='10k-100-epochs')"
      ],
      "execution_count": null,
      "outputs": [
        {
          "output_type": "stream",
          "text": [
            "Saving model to: /content/drive/MyDrive/Colab Notebooks/ASL/models/20210709-131949-10k-100-epochs.h5...\n"
          ],
          "name": "stdout"
        }
      ]
    },
    {
      "cell_type": "code",
      "metadata": {
        "colab": {
          "base_uri": "https://localhost:8080/"
        },
        "id": "roJ6rGNSa2Du",
        "outputId": "0646037f-1dfd-4feb-d52a-f3fdedbafff7"
      },
      "source": [
        "preds = model5.predict(val_data)\n",
        "len(preds[0])"
      ],
      "execution_count": null,
      "outputs": [
        {
          "output_type": "execute_result",
          "data": {
            "text/plain": [
              "29"
            ]
          },
          "metadata": {
            "tags": []
          },
          "execution_count": 60
        }
      ]
    },
    {
      "cell_type": "code",
      "metadata": {
        "id": "wA2QcRy8bwkS"
      },
      "source": [
        "def preds_to_text(prediction_proba):\n",
        "  '''\n",
        "  Turns an array of prediction probabilities into a label\n",
        "  '''\n",
        "\n",
        "  return alphabets[np.argmax(prediction_proba)]\n"
      ],
      "execution_count": null,
      "outputs": []
    },
    {
      "cell_type": "code",
      "metadata": {
        "colab": {
          "base_uri": "https://localhost:8080/",
          "height": 36
        },
        "id": "ujntSqlKcQ_y",
        "outputId": "9614f01e-807e-44fd-9b6c-a2d7cb18f62b"
      },
      "source": [
        ""
      ],
      "execution_count": null,
      "outputs": [
        {
          "output_type": "execute_result",
          "data": {
            "application/vnd.google.colaboratory.intrinsic+json": {
              "type": "string"
            },
            "text/plain": [
              "'Y'"
            ]
          },
          "metadata": {
            "tags": []
          },
          "execution_count": 62
        }
      ]
    },
    {
      "cell_type": "code",
      "metadata": {
        "colab": {
          "base_uri": "https://localhost:8080/",
          "height": 36
        },
        "id": "OO44m54tcUky",
        "outputId": "95a45764-aeef-4fc9-dfbf-5ad1fe6ba175"
      },
      "source": [
        ""
      ],
      "execution_count": null,
      "outputs": [
        {
          "output_type": "execute_result",
          "data": {
            "application/vnd.google.colaboratory.intrinsic+json": {
              "type": "string"
            },
            "text/plain": [
              "'/content/asl_alphabet_train/asl_alphabet_train/Q/Q1058.jpg'"
            ]
          },
          "metadata": {
            "tags": []
          },
          "execution_count": 64
        }
      ]
    },
    {
      "cell_type": "code",
      "metadata": {
        "colab": {
          "base_uri": "https://localhost:8080/"
        },
        "id": "phFVtcxccXo5",
        "outputId": "0517909f-4787-4ebf-95d7-8b62eb209130"
      },
      "source": [
        "model5.evaluate(val_data)"
      ],
      "execution_count": null,
      "outputs": [
        {
          "output_type": "stream",
          "text": [
            "63/63 [==============================] - 3s 33ms/step - loss: 3.3688 - accuracy: 0.0325\n"
          ],
          "name": "stdout"
        },
        {
          "output_type": "execute_result",
          "data": {
            "text/plain": [
              "[3.3687562942504883, 0.032499998807907104]"
            ]
          },
          "metadata": {
            "tags": []
          },
          "execution_count": 66
        }
      ]
    },
    {
      "cell_type": "code",
      "metadata": {
        "id": "Wigh4z3zc0x6"
      },
      "source": [
        "early_stopping = tf.keras.callbacks.EarlyStopping(monitor='val_accuracy',\n",
        "                                                  patience=3)"
      ],
      "execution_count": 23,
      "outputs": []
    },
    {
      "cell_type": "code",
      "metadata": {
        "id": "BOqPGQWHscOh"
      },
      "source": [
        "import datetime\n",
        "import os\n",
        "\n",
        "# Create a function to build a tensorboard callback\n",
        "def create_tensorboard_callback():\n",
        "  # Create a log directory fro storing TensorBoard logs\n",
        "  logdir = os.path.join(\"/content/drive/MyDrive/Colab Notebooks/ASL/logs\",\n",
        "                        datetime.datetime.now().strftime('%Y%m%d-%H%M%S'))\n",
        "  return tf.keras.callbacks.TensorBoard(logdir)"
      ],
      "execution_count": 24,
      "outputs": []
    },
    {
      "cell_type": "code",
      "metadata": {
        "id": "klYGd3N7rNFj"
      },
      "source": [
        "model6 = tf.keras.Sequential([\n",
        "    MobileNet(input_shape=(200, 200, 3), weights=None, include_top=True, classes=29),\n",
        "    tf.keras.layers.Dense(units=29, # Layer 1: Inupt\n",
        "                          activation='softmax') # Layer 2: Output layer\n",
        "])\n",
        "\n",
        "\n",
        "# Compile the model\n",
        "model6.compile(\n",
        "    loss=tf.keras.losses.CategoricalCrossentropy(),\n",
        "    optimizer=tf.keras.optimizers.Adam(learning_rate=0.0023),\n",
        "    metrics=['accuracy']\n",
        ")\n",
        "\n",
        "# Build the model\n",
        "model6.build((200, 200, 3))\n",
        "\n",
        "# Create new TensorBoard seesion everytime we train a model\n",
        "tensorboard = create_tensorboard_callback()\n",
        "\n",
        "# Fit the model\n",
        "history6 = model6.fit(x= train_data,\n",
        "                      epochs= 100,\n",
        "                      callbacks=[early_stopping, tensorboard],\n",
        "                      validation_data=val_data)"
      ],
      "execution_count": null,
      "outputs": []
    },
    {
      "cell_type": "code",
      "metadata": {
        "id": "8UwrfABWtKOJ",
        "colab": {
          "base_uri": "https://localhost:8080/"
        },
        "outputId": "6369b365-9425-44fc-c8d8-f05213e72e67"
      },
      "source": [
        "from tensorflow.keras.applications.resnet50 import ResNet50\n",
        "from tensorflow.keras.applications.mobilenet_v2 import MobileNetV2\n",
        "\n",
        "big_one = tf.keras.Sequential([\n",
        "    MobileNetV2(input_shape=(200, 200, 3), weights=None, include_top=True, classes=1024),\n",
        "    tf.keras.layers.Reshape((32, 32, 1), weights=None, input_shape=(None, 1024)),\n",
        "    ResNet50(input_shape=(32, 32, 1), weights=None, classes=29),\n",
        "    tf.keras.layers.Dense(units=29, # Layer 1: Inupt\n",
        "                          activation='softmax') # Layer 2: Output layer\n",
        "], name=\"Big-Model\")\n",
        "\n",
        "big_one.compile(loss=tf.keras.losses.CategoricalCrossentropy(),\n",
        "               optimizer=tf.keras.optimizers.Adam(0.0023),\n",
        "               metrics=[\"accuracy\"])\n",
        "big_one.build((200, 200, 3))\n",
        "\n",
        "big_one.summary()"
      ],
      "execution_count": 40,
      "outputs": [
        {
          "output_type": "stream",
          "text": [
            "Model: \"Big-Model\"\n",
            "_________________________________________________________________\n",
            "Layer (type)                 Output Shape              Param #   \n",
            "=================================================================\n",
            "mobilenetv2_1.00_200 (Functi (None, 1024)              3569728   \n",
            "_________________________________________________________________\n",
            "reshape_8 (Reshape)          (None, 32, 32, 1)         0         \n",
            "_________________________________________________________________\n",
            "resnet50 (Functional)        (None, 29)                23640861  \n",
            "_________________________________________________________________\n",
            "dense_10 (Dense)             (None, 29)                870       \n",
            "=================================================================\n",
            "Total params: 27,211,459\n",
            "Trainable params: 27,124,227\n",
            "Non-trainable params: 87,232\n",
            "_________________________________________________________________\n"
          ],
          "name": "stdout"
        }
      ]
    },
    {
      "cell_type": "code",
      "metadata": {
        "id": "1Ue68V0BUJTG"
      },
      "source": [
        "tensorboard = create_tensorboard_callback()"
      ],
      "execution_count": 41,
      "outputs": []
    },
    {
      "cell_type": "code",
      "metadata": {
        "colab": {
          "base_uri": "https://localhost:8080/"
        },
        "id": "aXXfPCFINuqq",
        "outputId": "a0bd99ad-7b70-49ad-dcc8-47ec4bdd8f78"
      },
      "source": [
        "big_one.fit(train_data,\n",
        "            epochs=50,\n",
        "            validation_data=val_data,\n",
        "            validation_freq=1,\n",
        "            callbacks=[early_stopping, tensorboard])"
      ],
      "execution_count": 42,
      "outputs": [
        {
          "output_type": "stream",
          "text": [
            "/usr/local/lib/python3.7/dist-packages/tensorflow/python/keras/utils/generic_utils.py:497: CustomMaskWarning: Custom mask layers require a config and must override get_config. When loading, the custom mask layer must be passed to the custom_objects argument.\n",
            "  category=CustomMaskWarning)\n"
          ],
          "name": "stderr"
        },
        {
          "output_type": "stream",
          "text": [
            "Epoch 1/50\n",
            "250/250 [==============================] - 65s 223ms/step - loss: 3.3676 - accuracy: 0.0394 - val_loss: 3.3707 - val_accuracy: 0.0365\n",
            "Epoch 2/50\n",
            "250/250 [==============================] - 54s 216ms/step - loss: 3.3651 - accuracy: 0.0429 - val_loss: 3.3694 - val_accuracy: 0.0360\n",
            "Epoch 3/50\n",
            "250/250 [==============================] - 54s 217ms/step - loss: 3.3666 - accuracy: 0.0395 - val_loss: 3.3874 - val_accuracy: 0.0410\n",
            "Epoch 4/50\n",
            "250/250 [==============================] - 55s 220ms/step - loss: 3.3676 - accuracy: 0.0402 - val_loss: 3.3856 - val_accuracy: 0.0410\n",
            "Epoch 5/50\n",
            "250/250 [==============================] - 57s 227ms/step - loss: 3.3625 - accuracy: 0.0421 - val_loss: 3.3940 - val_accuracy: 0.0400\n",
            "Epoch 6/50\n",
            "250/250 [==============================] - 57s 229ms/step - loss: 3.3564 - accuracy: 0.0461 - val_loss: 3.4102 - val_accuracy: 0.0400\n"
          ],
          "name": "stdout"
        },
        {
          "output_type": "execute_result",
          "data": {
            "text/plain": [
              "<tensorflow.python.keras.callbacks.History at 0x7fbfc2a06950>"
            ]
          },
          "metadata": {
            "tags": []
          },
          "execution_count": 42
        }
      ]
    },
    {
      "cell_type": "code",
      "metadata": {
        "colab": {
          "base_uri": "https://localhost:8080/"
        },
        "id": "yYYMeRufUOEs",
        "outputId": "306eb701-bd5e-4697-ebd3-91fe6dac6959"
      },
      "source": [
        "data = tf.keras.preprocessing.image_dataset_from_directory(\n",
        "    '/content/asl_alphabet_train/asl_alphabet_train',\n",
        "    labels=\"inferred\",\n",
        "    label_mode=\"categorical\",\n",
        "    class_names=None,\n",
        "    color_mode=\"rgb\",\n",
        "    batch_size=32,\n",
        "    image_size=(224, 224),\n",
        "    shuffle=True,\n",
        "    seed=42,\n",
        "    validation_split=None,\n",
        "    subset=None,\n",
        "    interpolation=\"bilinear\")\n",
        "type(data)"
      ],
      "execution_count": 46,
      "outputs": [
        {
          "output_type": "stream",
          "text": [
            "Found 87000 files belonging to 29 classes.\n"
          ],
          "name": "stdout"
        },
        {
          "output_type": "execute_result",
          "data": {
            "text/plain": [
              "tensorflow.python.data.ops.dataset_ops.BatchDataset"
            ]
          },
          "metadata": {
            "tags": []
          },
          "execution_count": 46
        }
      ]
    },
    {
      "cell_type": "code",
      "metadata": {
        "id": "eI1pbdm_hWBb"
      },
      "source": [
        "def unbatchify(batch, test=False):\n",
        "  '''\n",
        "  Takes a batched dataset of (image, label) Tensors and returns separate arrays of imags and labels\n",
        "  '''\n",
        "  if not test:\n",
        "    images = []\n",
        "    labels = []\n",
        "    # Loop through batched data\n",
        "    for image, label in val_data.unbatch().as_numpy_iterator():\n",
        "      images.append(image)\n",
        "      labels.append(label)\n",
        "    return np.array(images), np.array(labels)\n",
        "  if test:\n",
        "    custom_images = []\n",
        "    # Look through unbatched data\n",
        "    for image in custom_data.unbatch().as_numpy_iterator():\n",
        "      custom_images.append(image)\n",
        "      return custom_images"
      ],
      "execution_count": 54,
      "outputs": []
    },
    {
      "cell_type": "code",
      "metadata": {
        "id": "3CXeFAV4iDd_"
      },
      "source": [
        "images, labels = unbatchify(data)"
      ],
      "execution_count": 55,
      "outputs": []
    },
    {
      "cell_type": "code",
      "metadata": {
        "id": "NEmXoQiAiPRA"
      },
      "source": [
        "from sklearn.model_selection import StratifiedShuffleSplit, train_test_split\n",
        "\n",
        "\n",
        "split = StratifiedShuffleSplit(n_splits=1, test_size=0.2, random_state=42)\n",
        "for train_index, test_index in split.split(images, labels):\n",
        "    strat_train_set = images[train_index], labels[train_index]\n",
        "    strat_test_set = images[test_index], labels[test_index]"
      ],
      "execution_count": 61,
      "outputs": []
    },
    {
      "cell_type": "code",
      "metadata": {
        "colab": {
          "base_uri": "https://localhost:8080/"
        },
        "id": "e17EhGPElnOY",
        "outputId": "5cbb27aa-c8b8-41ae-b887-b0f4f5d567b6"
      },
      "source": [
        "alphabets[strat_train_set[1][0]]"
      ],
      "execution_count": 67,
      "outputs": [
        {
          "output_type": "execute_result",
          "data": {
            "text/plain": [
              "array(['X'], dtype='<U7')"
            ]
          },
          "metadata": {
            "tags": []
          },
          "execution_count": 67
        }
      ]
    },
    {
      "cell_type": "code",
      "metadata": {
        "colab": {
          "base_uri": "https://localhost:8080/",
          "height": 287
        },
        "id": "LXVN5W4Mlzth",
        "outputId": "589856c2-93e2-463b-da74-fed242abfe8f"
      },
      "source": [
        "plt.imshow(strat_train_set[0][0])"
      ],
      "execution_count": 66,
      "outputs": [
        {
          "output_type": "execute_result",
          "data": {
            "text/plain": [
              "<matplotlib.image.AxesImage at 0x7fbd3471b7d0>"
            ]
          },
          "metadata": {
            "tags": []
          },
          "execution_count": 66
        },
        {
          "output_type": "display_data",
          "data": {
            "image/png": "[encoded data removed]",
            "text/plain": [
              "<Figure size 432x288 with 1 Axes>"
            ]
          },
          "metadata": {
            "tags": [],
            "needs_background": "light"
          }
        }
      ]
    },
    {
      "cell_type": "code",
      "metadata": {
        "colab": {
          "base_uri": "https://localhost:8080/"
        },
        "id": "_TK_hPxAm5y7",
        "outputId": "02868c6d-b176-419e-af7c-53ab7b68249b"
      },
      "source": [
        "# data = []\n",
        "# for i in range(8700):\n",
        "  # sample = []\n",
        "  # sample.append(strat_train_set[0][i]).append(strat_train_set[1][i])\n",
        "data = zip(strat_train_set[0], strat_train_set[1])\n",
        "data = np.array(list(data))\n",
        "\n",
        "test = zip(strat_test_set[0], strat_test_set[1])\n",
        "test = np.array(list(test))"
      ],
      "execution_count": 75,
      "outputs": [
        {
          "output_type": "stream",
          "text": [
            "/usr/local/lib/python3.7/dist-packages/ipykernel_launcher.py:6: VisibleDeprecationWarning: Creating an ndarray from ragged nested sequences (which is a list-or-tuple of lists-or-tuples-or ndarrays with different lengths or shapes) is deprecated. If you meant to do this, you must specify 'dtype=object' when creating the ndarray\n",
            "  \n",
            "/usr/local/lib/python3.7/dist-packages/ipykernel_launcher.py:9: VisibleDeprecationWarning: Creating an ndarray from ragged nested sequences (which is a list-or-tuple of lists-or-tuples-or ndarrays with different lengths or shapes) is deprecated. If you meant to do this, you must specify 'dtype=object' when creating the ndarray\n",
            "  if __name__ == '__main__':\n"
          ],
          "name": "stderr"
        }
      ]
    },
    {
      "cell_type": "code",
      "metadata": {
        "id": "0U-YssUvnzsd"
      },
      "source": [
        "# X_train = strat_train_set[0][: 10000]\n",
        "# y_train = strat_train_set[1][: 10000]\n",
        "# X_test = strat_test_set[0]\n",
        "# y_test = strat_test_set[1]\n",
        "\n",
        "split = StratifiedShuffleSplit(n_splits=1, test_size=0.87, random_state=42)\n",
        "for train_index, test_index in split.split(images, labels):\n",
        "    strat_train_set = images[train_index], labels[train_index]\n",
        "    strat_test_set = images[test_index], labels[test_index]\n",
        "\n",
        "split = StratifiedShuffleSplit(n_splits=1, test_size=0.2, random_state=42)\n",
        "for train_index, test_index in split.split(strat_train_set[0], strat_train_set[1]):\n",
        "    train = strat_train_set[0][train_index], strat_train_set[1][train_index]\n",
        "    val = strat_train_set[0][test_index], strat_train_set[1][test_index]"
      ],
      "execution_count": 81,
      "outputs": []
    },
    {
      "cell_type": "code",
      "metadata": {
        "id": "kPgKUNFltUfn"
      },
      "source": [
        "def create_batches(X, y=None, batch_size=BATCH_SIZE, valid_data=False, test_data=False):\n",
        "  '''\n",
        "  Creates batches of data out of image (X) and label (y) pairs.\n",
        "  Shuffles the data if it's training data but doesn't shuffle it's validation data.\n",
        "  Also accepts test data as input (no labels).\n",
        "  '''\n",
        "\n",
        "  # If the data is test data, we don't have labels\n",
        "  if test_data:\n",
        "    print('Creating test batches...')\n",
        "    data = tf.constant(X) # no labels\n",
        "    data_batch = data.map(process_image).batch(batch_size)\n",
        "    return data_batch\n",
        "  \n",
        "  # if the data is  validation data, we don't need to shuffle the data\n",
        "  elif valid_data:\n",
        "    print('Creating validation data batches...')\n",
        "    data = tf.constant(tf.constant(X),tf.constant(y))\n",
        "    data_batch = data.map(get_labels).batch(batch_size)\n",
        "    return data_batch\n",
        "  \n",
        "  # If neither, it will be training data. We need to shuffle the data\n",
        "  else:\n",
        "    print('Creating training data batches...')\n",
        "    # Turn file paths and labels into Tensors\n",
        "    data = tf.constant(tf.constant(X),tf.constant(y))   \n",
        "    # Shuffle the data\n",
        "    data = data.shuffle(buffer_size=len(X))\n",
        "    data_batch = data.map(get_labels).batch(batch_size)\n",
        "    return data_batch"
      ],
      "execution_count": 86,
      "outputs": []
    },
    {
      "cell_type": "code",
      "metadata": {
        "id": "6Qg9VIR8o5Ky"
      },
      "source": [
        "train_data2 = create_batches(train[0], train[1])\n",
        "val_data2 = create_batches(val[0], val[1], valid_data=True)"
      ],
      "execution_count": null,
      "outputs": []
    },
    {
      "cell_type": "code",
      "metadata": {
        "colab": {
          "base_uri": "https://localhost:8080/",
          "height": 955
        },
        "id": "fzjLL3GWtAlu",
        "outputId": "974f980f-9be5-4653-e884-b7c27f82fe5c"
      },
      "source": [
        "print('Creating validation data batches...')\n",
        "data = tf.constant(tf.constant(X),tf.constant(y))\n",
        "data_batch = data.batch(batch_size)\n",
        "data_batch"
      ],
      "execution_count": 89,
      "outputs": [
        {
          "output_type": "stream",
          "text": [
            "Creating validation data batches...\n"
          ],
          "name": "stdout"
        },
        {
          "output_type": "error",
          "ename": "TypeError",
          "evalue": "ignored",
          "traceback": [
            "\u001b[0;31m---------------------------------------------------------------------------\u001b[0m",
            "\u001b[0;31mTypeError\u001b[0m                                 Traceback (most recent call last)",
            "\u001b[0;32m<ipython-input-89-1e789724f030>\u001b[0m in \u001b[0;36m<module>\u001b[0;34m()\u001b[0m\n\u001b[1;32m      1\u001b[0m \u001b[0mprint\u001b[0m\u001b[0;34m(\u001b[0m\u001b[0;34m'Creating validation data batches...'\u001b[0m\u001b[0;34m)\u001b[0m\u001b[0;34m\u001b[0m\u001b[0;34m\u001b[0m\u001b[0m\n\u001b[0;32m----> 2\u001b[0;31m \u001b[0mdata\u001b[0m \u001b[0;34m=\u001b[0m \u001b[0mtf\u001b[0m\u001b[0;34m.\u001b[0m\u001b[0mconstant\u001b[0m\u001b[0;34m(\u001b[0m\u001b[0mtf\u001b[0m\u001b[0;34m.\u001b[0m\u001b[0mconstant\u001b[0m\u001b[0;34m(\u001b[0m\u001b[0mX\u001b[0m\u001b[0;34m)\u001b[0m\u001b[0;34m,\u001b[0m\u001b[0mtf\u001b[0m\u001b[0;34m.\u001b[0m\u001b[0mconstant\u001b[0m\u001b[0;34m(\u001b[0m\u001b[0my\u001b[0m\u001b[0;34m)\u001b[0m\u001b[0;34m)\u001b[0m\u001b[0;34m\u001b[0m\u001b[0;34m\u001b[0m\u001b[0m\n\u001b[0m\u001b[1;32m      3\u001b[0m \u001b[0mdata_batch\u001b[0m \u001b[0;34m=\u001b[0m \u001b[0mdata\u001b[0m\u001b[0;34m.\u001b[0m\u001b[0mbatch\u001b[0m\u001b[0;34m(\u001b[0m\u001b[0mbatch_size\u001b[0m\u001b[0;34m)\u001b[0m\u001b[0;34m\u001b[0m\u001b[0;34m\u001b[0m\u001b[0m\n\u001b[1;32m      4\u001b[0m \u001b[0mdata_batch\u001b[0m\u001b[0;34m\u001b[0m\u001b[0;34m\u001b[0m\u001b[0m\n",
            "\u001b[0;32m/usr/local/lib/python3.7/dist-packages/tensorflow/python/framework/constant_op.py\u001b[0m in \u001b[0;36mconstant\u001b[0;34m(value, dtype, shape, name)\u001b[0m\n\u001b[1;32m    263\u001b[0m   \"\"\"\n\u001b[1;32m    264\u001b[0m   return _constant_impl(value, dtype, shape, name, verify_shape=False,\n\u001b[0;32m--> 265\u001b[0;31m                         allow_broadcast=True)\n\u001b[0m\u001b[1;32m    266\u001b[0m \u001b[0;34m\u001b[0m\u001b[0m\n\u001b[1;32m    267\u001b[0m \u001b[0;34m\u001b[0m\u001b[0m\n",
            "\u001b[0;32m/usr/local/lib/python3.7/dist-packages/tensorflow/python/framework/constant_op.py\u001b[0m in \u001b[0;36m_constant_impl\u001b[0;34m(value, dtype, shape, name, verify_shape, allow_broadcast)\u001b[0m\n\u001b[1;32m    274\u001b[0m       \u001b[0;32mwith\u001b[0m \u001b[0mtrace\u001b[0m\u001b[0;34m.\u001b[0m\u001b[0mTrace\u001b[0m\u001b[0;34m(\u001b[0m\u001b[0;34m\"tf.constant\"\u001b[0m\u001b[0;34m)\u001b[0m\u001b[0;34m:\u001b[0m\u001b[0;34m\u001b[0m\u001b[0;34m\u001b[0m\u001b[0m\n\u001b[1;32m    275\u001b[0m         \u001b[0;32mreturn\u001b[0m \u001b[0m_constant_eager_impl\u001b[0m\u001b[0;34m(\u001b[0m\u001b[0mctx\u001b[0m\u001b[0;34m,\u001b[0m \u001b[0mvalue\u001b[0m\u001b[0;34m,\u001b[0m \u001b[0mdtype\u001b[0m\u001b[0;34m,\u001b[0m \u001b[0mshape\u001b[0m\u001b[0;34m,\u001b[0m \u001b[0mverify_shape\u001b[0m\u001b[0;34m)\u001b[0m\u001b[0;34m\u001b[0m\u001b[0;34m\u001b[0m\u001b[0m\n\u001b[0;32m--> 276\u001b[0;31m     \u001b[0;32mreturn\u001b[0m \u001b[0m_constant_eager_impl\u001b[0m\u001b[0;34m(\u001b[0m\u001b[0mctx\u001b[0m\u001b[0;34m,\u001b[0m \u001b[0mvalue\u001b[0m\u001b[0;34m,\u001b[0m \u001b[0mdtype\u001b[0m\u001b[0;34m,\u001b[0m \u001b[0mshape\u001b[0m\u001b[0;34m,\u001b[0m \u001b[0mverify_shape\u001b[0m\u001b[0;34m)\u001b[0m\u001b[0;34m\u001b[0m\u001b[0;34m\u001b[0m\u001b[0m\n\u001b[0m\u001b[1;32m    277\u001b[0m \u001b[0;34m\u001b[0m\u001b[0m\n\u001b[1;32m    278\u001b[0m   \u001b[0mg\u001b[0m \u001b[0;34m=\u001b[0m \u001b[0mops\u001b[0m\u001b[0;34m.\u001b[0m\u001b[0mget_default_graph\u001b[0m\u001b[0;34m(\u001b[0m\u001b[0;34m)\u001b[0m\u001b[0;34m\u001b[0m\u001b[0;34m\u001b[0m\u001b[0m\n",
            "\u001b[0;32m/usr/local/lib/python3.7/dist-packages/tensorflow/python/framework/constant_op.py\u001b[0m in \u001b[0;36m_constant_eager_impl\u001b[0;34m(ctx, value, dtype, shape, verify_shape)\u001b[0m\n\u001b[1;32m    299\u001b[0m \u001b[0;32mdef\u001b[0m \u001b[0m_constant_eager_impl\u001b[0m\u001b[0;34m(\u001b[0m\u001b[0mctx\u001b[0m\u001b[0;34m,\u001b[0m \u001b[0mvalue\u001b[0m\u001b[0;34m,\u001b[0m \u001b[0mdtype\u001b[0m\u001b[0;34m,\u001b[0m \u001b[0mshape\u001b[0m\u001b[0;34m,\u001b[0m \u001b[0mverify_shape\u001b[0m\u001b[0;34m)\u001b[0m\u001b[0;34m:\u001b[0m\u001b[0;34m\u001b[0m\u001b[0;34m\u001b[0m\u001b[0m\n\u001b[1;32m    300\u001b[0m   \u001b[0;34m\"\"\"Implementation of eager constant.\"\"\"\u001b[0m\u001b[0;34m\u001b[0m\u001b[0;34m\u001b[0m\u001b[0m\n\u001b[0;32m--> 301\u001b[0;31m   \u001b[0mt\u001b[0m \u001b[0;34m=\u001b[0m \u001b[0mconvert_to_eager_tensor\u001b[0m\u001b[0;34m(\u001b[0m\u001b[0mvalue\u001b[0m\u001b[0;34m,\u001b[0m \u001b[0mctx\u001b[0m\u001b[0;34m,\u001b[0m \u001b[0mdtype\u001b[0m\u001b[0;34m)\u001b[0m\u001b[0;34m\u001b[0m\u001b[0;34m\u001b[0m\u001b[0m\n\u001b[0m\u001b[1;32m    302\u001b[0m   \u001b[0;32mif\u001b[0m \u001b[0mshape\u001b[0m \u001b[0;32mis\u001b[0m \u001b[0;32mNone\u001b[0m\u001b[0;34m:\u001b[0m\u001b[0;34m\u001b[0m\u001b[0;34m\u001b[0m\u001b[0m\n\u001b[1;32m    303\u001b[0m     \u001b[0;32mreturn\u001b[0m \u001b[0mt\u001b[0m\u001b[0;34m\u001b[0m\u001b[0;34m\u001b[0m\u001b[0m\n",
            "\u001b[0;32m/usr/local/lib/python3.7/dist-packages/tensorflow/python/framework/constant_op.py\u001b[0m in \u001b[0;36mconvert_to_eager_tensor\u001b[0;34m(value, ctx, dtype)\u001b[0m\n\u001b[1;32m     88\u001b[0m     \u001b[0;32mif\u001b[0m \u001b[0mdtype\u001b[0m \u001b[0;32mis\u001b[0m \u001b[0;32mnot\u001b[0m \u001b[0;32mNone\u001b[0m \u001b[0;32mand\u001b[0m \u001b[0mvalue\u001b[0m\u001b[0;34m.\u001b[0m\u001b[0mdtype\u001b[0m \u001b[0;34m!=\u001b[0m \u001b[0mdtype\u001b[0m\u001b[0;34m:\u001b[0m\u001b[0;34m\u001b[0m\u001b[0;34m\u001b[0m\u001b[0m\n\u001b[1;32m     89\u001b[0m       raise TypeError(\"Expected tensor with type %r not %r\" % (\n\u001b[0;32m---> 90\u001b[0;31m           dtype, value.dtype))\n\u001b[0m\u001b[1;32m     91\u001b[0m     \u001b[0;32mreturn\u001b[0m \u001b[0mvalue\u001b[0m\u001b[0;34m\u001b[0m\u001b[0;34m\u001b[0m\u001b[0m\n\u001b[1;32m     92\u001b[0m   \u001b[0;32mif\u001b[0m \u001b[0mdtype\u001b[0m \u001b[0;32mis\u001b[0m \u001b[0;32mnot\u001b[0m \u001b[0;32mNone\u001b[0m\u001b[0;34m:\u001b[0m\u001b[0;34m\u001b[0m\u001b[0;34m\u001b[0m\u001b[0m\n",
            "\u001b[0;31mTypeError\u001b[0m: Expected tensor with type <tf.Tensor: shape=(87000, 29), dtype=bool, numpy=\narray([[False, False, False, ..., False, False, False],\n       [False, False,  True, ..., False, False, False],\n       [False, False, False, ..., False, False, False],\n       ...,\n       [False, False, False, ..., False, False, False],\n       [False, False, False, ..., False, False, False],\n       [False, False,  True, ..., False, False, False]])> not tf.string"
          ]
        }
      ]
    },
    {
      "cell_type": "code",
      "metadata": {
        "id": "g9Iri10IuJiz"
      },
      "source": [
        ""
      ],
      "execution_count": null,
      "outputs": []
    }
  ]
}