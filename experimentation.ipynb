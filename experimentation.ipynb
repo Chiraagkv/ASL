{
  "nbformat": 4,
  "nbformat_minor": 0,
  "metadata": {
    "colab": {
      "name": "experimentation.ipynb",
      "provenance": [],
      "authorship_tag": "ABX9TyP8+pTLeSlm8oO7NOpWtYcN",
      "include_colab_link": true
    },
    "kernelspec": {
      "name": "python3",
      "display_name": "Python 3"
    },
    "language_info": {
      "name": "python"
    }
  },
  "cells": [
    {
      "cell_type": "markdown",
      "metadata": {
        "id": "view-in-github",
        "colab_type": "text"
      },
      "source": [
        "<a href=\"https://colab.research.google.com/github/Chiraagkv/ASL/blob/main/experimentation.ipynb\" target=\"_parent\"><img src=\"https://colab.research.google.com/assets/colab-badge.svg\" alt=\"Open In Colab\"/></a>"
      ]
    },
    {
      "cell_type": "markdown",
      "metadata": {
        "id": "aYQk8XcxVdt0"
      },
      "source": [
        "# ASL to Text\n",
        "An application to convert sign language to text.\n",
        "\n",
        "## 1. Problem Defination\n",
        "\n",
        "Everyone cannot understand sign language, to help everyone to read sign language, an AI based solution to convert sign language to text will be ideal solution.\n",
        "\n",
        "## 2. Data\n",
        "\n",
        "Using [ASL Alphabet dataset](https://www.kaggle.com/grassknoted/asl-alphabet) from [Kaggle.com](https://www.kaggle.com)\n",
        "\n",
        "in the form of data we have Images (unstructured data).\n",
        "\n",
        "The data structure is:\n",
        "\n",
        "```bash\n",
        "+- asl_alphabet_test \n",
        "| +- asl_alphabet_test\n",
        "| | +- images.jpg\n",
        "|\n",
        "+- asl_alphabet_train\n",
        "| +- asl_alphabet_train\n",
        "| | +- <CLASSNAME>\n",
        "| | | +- images.jpg\n",
        "```\n",
        "\n",
        "## 3. Evaluation\n",
        "\n",
        "As our problem is multiclass classification, we will be using evaluation methods for multi-class classification\n",
        "\n",
        "## 4. Features\n",
        "\n",
        "* Unstructured Data\n",
        "* 29 classes/different signs\n",
        "* about 87K images in the train folder (total)\n",
        "* 28 images for the test set"
      ]
    },
    {
      "cell_type": "code",
      "metadata": {
        "id": "Ad6zvc6YavJG"
      },
      "source": [
        "# imports\n",
        "import tensorflow as tf\n",
        "import numpy as np\n",
        "import pandas as pd\n",
        "import matplotlib.pyplot as plt"
      ],
      "execution_count": 2,
      "outputs": []
    },
    {
      "cell_type": "markdown",
      "metadata": {
        "id": "yJwvp7kIbQ_v"
      },
      "source": [
        "download the datset"
      ]
    },
    {
      "cell_type": "code",
      "metadata": {
        "id": "MH0Aig3SboSj"
      },
      "source": [
        "!pip install kaggle  "
      ],
      "execution_count": null,
      "outputs": []
    },
    {
      "cell_type": "code",
      "metadata": {
        "colab": {
          "base_uri": "https://localhost:8080/"
        },
        "id": "JKT4fJdObrx0",
        "outputId": "35c8dcd6-a716-4115-c79d-c0d0cd175b8f"
      },
      "source": [
        "!mkdir /root/.kaggle/\n",
        "!touch /root/.kaggle/kaggle.json\n",
        "!echo '{\"username\":\"uname\",\"key\":\"key\"}' > /root/.kaggle/kaggle.json\n",
        "!chmod 600 /root/.kaggle/kaggle.json\n",
        "!kaggle datasets download -d grassknoted/asl-alphabet"
      ],
      "execution_count": 3,
      "outputs": [
        {
          "output_type": "stream",
          "text": [
            "Downloading asl-alphabet.zip to /content\n",
            " 99% 1.02G/1.03G [00:17<00:00, 44.0MB/s]\n",
            "100% 1.03G/1.03G [00:17<00:00, 62.7MB/s]\n"
          ],
          "name": "stdout"
        }
      ]
    },
    {
      "cell_type": "markdown",
      "metadata": {
        "id": "ZtMtFUuKb64F"
      },
      "source": [
        "Unzip the data"
      ]
    },
    {
      "cell_type": "code",
      "metadata": {
        "id": "N6AVUH8Ac6zr"
      },
      "source": [
        "from zipfile import ZipFile\n",
        "\n",
        "with ZipFile('/content/asl-alphabet.zip', 'r') as zipObj:\n",
        "   # Extract all the contents of zip file in current directory\n",
        "   zipObj.extractall()"
      ],
      "execution_count": 4,
      "outputs": []
    },
    {
      "cell_type": "code",
      "metadata": {
        "id": "TiyKnBjUdMJj"
      },
      "source": [
        ""
      ],
      "execution_count": null,
      "outputs": []
    }
  ]
}