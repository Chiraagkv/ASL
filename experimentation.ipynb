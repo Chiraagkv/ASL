{
  "nbformat": 4,
  "nbformat_minor": 0,
  "metadata": {
    "colab": {
      "name": "experimentation.ipynb",
      "provenance": [],
      "toc_visible": true,
      "authorship_tag": "ABX9TyNedWv0sZa5Cfjovu8uJBFp",
      "include_colab_link": true
    },
    "kernelspec": {
      "name": "python3",
      "display_name": "Python 3"
    },
    "language_info": {
      "name": "python"
    }
  },
  "cells": [
    {
      "cell_type": "markdown",
      "metadata": {
        "id": "view-in-github",
        "colab_type": "text"
      },
      "source": [
        "<a href=\"https://colab.research.google.com/github/Chiraagkv/ASL/blob/main/experimentation.ipynb\" target=\"_parent\"><img src=\"https://colab.research.google.com/assets/colab-badge.svg\" alt=\"Open In Colab\"/></a>"
      ]
    },
    {
      "cell_type": "markdown",
      "metadata": {
        "id": "aYQk8XcxVdt0"
      },
      "source": [
        "# ASL to Text\n",
        "An application to convert sign language to text.\n",
        "\n",
        "## 1. Problem Defination\n",
        "\n",
        "Everyone cannot understand sign language, to help everyone to read sign language, an AI based solution to convert sign language to text will be ideal solution.\n",
        "\n",
        "## 2. Data\n",
        "\n",
        "Using [ASL Alphabet dataset](https://www.kaggle.com/grassknoted/asl-alphabet) from [Kaggle.com](https://www.kaggle.com)\n",
        "\n",
        "in the form of data we have Images (unstructured data).\n",
        "\n",
        "The data structure is:\n",
        "\n",
        "```bash\n",
        "+- asl_alphabet_test \n",
        "| +- asl_alphabet_test\n",
        "| | +- images.jpg\n",
        "|\n",
        "+- asl_alphabet_train\n",
        "| +- asl_alphabet_train\n",
        "| | +- <CLASSNAME>\n",
        "| | | +- images.jpg\n",
        "```\n",
        "\n",
        "## 3. Evaluation\n",
        "\n",
        "As our problem is multiclass classification, we will be using evaluation methods for multi-class classification\n",
        "\n",
        "## 4. Features\n",
        "\n",
        "* Unstructured Data\n",
        "* 29 classes/different signs\n",
        "* about 87K images in the train folder (total)\n",
        "* 28 images for the test set"
      ]
    },
    {
      "cell_type": "code",
      "metadata": {
        "id": "Ad6zvc6YavJG"
      },
      "source": [
        "# imports\n",
        "import tensorflow as tf\n",
        "import numpy as np\n",
        "import pandas as pd\n",
        "import matplotlib.pyplot as plt"
      ],
      "execution_count": 2,
      "outputs": []
    },
    {
      "cell_type": "code",
      "metadata": {
        "id": "yJwvp7kIbQ_v"
      },
      "source": [
        ""
      ],
      "execution_count": null,
      "outputs": []
    }
  ]
}